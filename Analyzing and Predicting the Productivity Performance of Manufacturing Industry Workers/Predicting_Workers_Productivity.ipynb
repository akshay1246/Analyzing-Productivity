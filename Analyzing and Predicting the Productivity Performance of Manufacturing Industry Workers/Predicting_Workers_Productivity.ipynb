{
  "nbformat": 4,
  "nbformat_minor": 0,
  "metadata": {
    "colab": {
      "name": "Predicting Workers Productivity",
      "provenance": []
    },
    "kernelspec": {
      "name": "python3",
      "display_name": "Python 3"
    },
    "language_info": {
      "name": "python"
    }
  },
  "cells": [
    {
      "cell_type": "code",
      "execution_count": 144,
      "metadata": {
        "id": "Po-My6YqXlaS"
      },
      "outputs": [],
      "source": [
        "import pandas as pd\n",
        "import numpy as np\n",
        "import matplotlib.pyplot as plt\n",
        "%matplotlib inline\n",
        "import seaborn as sns\n",
        "import plotly.express as px\n",
        "import warnings\n",
        "warnings.filterwarnings('ignore')\n"
      ]
    },
    {
      "cell_type": "code",
      "source": [
        "df=pd.read_csv('Data.csv',sep=';')"
      ],
      "metadata": {
        "id": "M7OyzCZ3YbqG"
      },
      "execution_count": 145,
      "outputs": []
    },
    {
      "cell_type": "code",
      "source": [
        "df.head()"
      ],
      "metadata": {
        "colab": {
          "base_uri": "https://localhost:8080/",
          "height": 270
        },
        "id": "H6Zg4cDmYd-c",
        "outputId": "ceb75c1b-2a4e-48f0-f555-b762f11b24b7"
      },
      "execution_count": 146,
      "outputs": [
        {
          "output_type": "execute_result",
          "data": {
            "text/plain": [
              "         date   quarter department       day  team  targeted_productivity  \\\n",
              "0  01/01/2015  Quarter1     sweing  Thursday     8                   0.80   \n",
              "1  01/01/2015  Quarter1  finishing  Thursday     1                   0.75   \n",
              "2  01/01/2015  Quarter1     sweing  Thursday    11                   0.80   \n",
              "3  01/01/2015  Quarter1     sweing  Thursday    12                   0.80   \n",
              "4  01/01/2015  Quarter1     sweing  Thursday     6                   0.80   \n",
              "\n",
              "     smv  total_work     wip over_time  incentive  idle_time  idle_men  \\\n",
              "0  26.16     19876.0  1108.0      7080         98        0.0         0   \n",
              "1   3.94     21791.0     NaN       960          0        0.0         0   \n",
              "2  11.41      5513.0   968.0      3660         50        0.0         0   \n",
              "3  11.41     23582.0   968.0      3660         50        0.0         0   \n",
              "4  25.90         NaN  1170.0      1920         50        0.0         0   \n",
              "\n",
              "  no_of_style_change  no_of_workers  actual_productivity  \n",
              "0                 No             59             0.940725  \n",
              "1                 No              8             0.886500  \n",
              "2                 No             31             0.800570  \n",
              "3                 No             31             0.800570  \n",
              "4                 No             56             0.800382  "
            ],
            "text/html": [
              "\n",
              "  <div id=\"df-5dd6d1d6-7bc4-480e-beab-2869dbf9aae3\">\n",
              "    <div class=\"colab-df-container\">\n",
              "      <div>\n",
              "<style scoped>\n",
              "    .dataframe tbody tr th:only-of-type {\n",
              "        vertical-align: middle;\n",
              "    }\n",
              "\n",
              "    .dataframe tbody tr th {\n",
              "        vertical-align: top;\n",
              "    }\n",
              "\n",
              "    .dataframe thead th {\n",
              "        text-align: right;\n",
              "    }\n",
              "</style>\n",
              "<table border=\"1\" class=\"dataframe\">\n",
              "  <thead>\n",
              "    <tr style=\"text-align: right;\">\n",
              "      <th></th>\n",
              "      <th>date</th>\n",
              "      <th>quarter</th>\n",
              "      <th>department</th>\n",
              "      <th>day</th>\n",
              "      <th>team</th>\n",
              "      <th>targeted_productivity</th>\n",
              "      <th>smv</th>\n",
              "      <th>total_work</th>\n",
              "      <th>wip</th>\n",
              "      <th>over_time</th>\n",
              "      <th>incentive</th>\n",
              "      <th>idle_time</th>\n",
              "      <th>idle_men</th>\n",
              "      <th>no_of_style_change</th>\n",
              "      <th>no_of_workers</th>\n",
              "      <th>actual_productivity</th>\n",
              "    </tr>\n",
              "  </thead>\n",
              "  <tbody>\n",
              "    <tr>\n",
              "      <th>0</th>\n",
              "      <td>01/01/2015</td>\n",
              "      <td>Quarter1</td>\n",
              "      <td>sweing</td>\n",
              "      <td>Thursday</td>\n",
              "      <td>8</td>\n",
              "      <td>0.80</td>\n",
              "      <td>26.16</td>\n",
              "      <td>19876.0</td>\n",
              "      <td>1108.0</td>\n",
              "      <td>7080</td>\n",
              "      <td>98</td>\n",
              "      <td>0.0</td>\n",
              "      <td>0</td>\n",
              "      <td>No</td>\n",
              "      <td>59</td>\n",
              "      <td>0.940725</td>\n",
              "    </tr>\n",
              "    <tr>\n",
              "      <th>1</th>\n",
              "      <td>01/01/2015</td>\n",
              "      <td>Quarter1</td>\n",
              "      <td>finishing</td>\n",
              "      <td>Thursday</td>\n",
              "      <td>1</td>\n",
              "      <td>0.75</td>\n",
              "      <td>3.94</td>\n",
              "      <td>21791.0</td>\n",
              "      <td>NaN</td>\n",
              "      <td>960</td>\n",
              "      <td>0</td>\n",
              "      <td>0.0</td>\n",
              "      <td>0</td>\n",
              "      <td>No</td>\n",
              "      <td>8</td>\n",
              "      <td>0.886500</td>\n",
              "    </tr>\n",
              "    <tr>\n",
              "      <th>2</th>\n",
              "      <td>01/01/2015</td>\n",
              "      <td>Quarter1</td>\n",
              "      <td>sweing</td>\n",
              "      <td>Thursday</td>\n",
              "      <td>11</td>\n",
              "      <td>0.80</td>\n",
              "      <td>11.41</td>\n",
              "      <td>5513.0</td>\n",
              "      <td>968.0</td>\n",
              "      <td>3660</td>\n",
              "      <td>50</td>\n",
              "      <td>0.0</td>\n",
              "      <td>0</td>\n",
              "      <td>No</td>\n",
              "      <td>31</td>\n",
              "      <td>0.800570</td>\n",
              "    </tr>\n",
              "    <tr>\n",
              "      <th>3</th>\n",
              "      <td>01/01/2015</td>\n",
              "      <td>Quarter1</td>\n",
              "      <td>sweing</td>\n",
              "      <td>Thursday</td>\n",
              "      <td>12</td>\n",
              "      <td>0.80</td>\n",
              "      <td>11.41</td>\n",
              "      <td>23582.0</td>\n",
              "      <td>968.0</td>\n",
              "      <td>3660</td>\n",
              "      <td>50</td>\n",
              "      <td>0.0</td>\n",
              "      <td>0</td>\n",
              "      <td>No</td>\n",
              "      <td>31</td>\n",
              "      <td>0.800570</td>\n",
              "    </tr>\n",
              "    <tr>\n",
              "      <th>4</th>\n",
              "      <td>01/01/2015</td>\n",
              "      <td>Quarter1</td>\n",
              "      <td>sweing</td>\n",
              "      <td>Thursday</td>\n",
              "      <td>6</td>\n",
              "      <td>0.80</td>\n",
              "      <td>25.90</td>\n",
              "      <td>NaN</td>\n",
              "      <td>1170.0</td>\n",
              "      <td>1920</td>\n",
              "      <td>50</td>\n",
              "      <td>0.0</td>\n",
              "      <td>0</td>\n",
              "      <td>No</td>\n",
              "      <td>56</td>\n",
              "      <td>0.800382</td>\n",
              "    </tr>\n",
              "  </tbody>\n",
              "</table>\n",
              "</div>\n",
              "      <button class=\"colab-df-convert\" onclick=\"convertToInteractive('df-5dd6d1d6-7bc4-480e-beab-2869dbf9aae3')\"\n",
              "              title=\"Convert this dataframe to an interactive table.\"\n",
              "              style=\"display:none;\">\n",
              "        \n",
              "  <svg xmlns=\"http://www.w3.org/2000/svg\" height=\"24px\"viewBox=\"0 0 24 24\"\n",
              "       width=\"24px\">\n",
              "    <path d=\"M0 0h24v24H0V0z\" fill=\"none\"/>\n",
              "    <path d=\"M18.56 5.44l.94 2.06.94-2.06 2.06-.94-2.06-.94-.94-2.06-.94 2.06-2.06.94zm-11 1L8.5 8.5l.94-2.06 2.06-.94-2.06-.94L8.5 2.5l-.94 2.06-2.06.94zm10 10l.94 2.06.94-2.06 2.06-.94-2.06-.94-.94-2.06-.94 2.06-2.06.94z\"/><path d=\"M17.41 7.96l-1.37-1.37c-.4-.4-.92-.59-1.43-.59-.52 0-1.04.2-1.43.59L10.3 9.45l-7.72 7.72c-.78.78-.78 2.05 0 2.83L4 21.41c.39.39.9.59 1.41.59.51 0 1.02-.2 1.41-.59l7.78-7.78 2.81-2.81c.8-.78.8-2.07 0-2.86zM5.41 20L4 18.59l7.72-7.72 1.47 1.35L5.41 20z\"/>\n",
              "  </svg>\n",
              "      </button>\n",
              "      \n",
              "  <style>\n",
              "    .colab-df-container {\n",
              "      display:flex;\n",
              "      flex-wrap:wrap;\n",
              "      gap: 12px;\n",
              "    }\n",
              "\n",
              "    .colab-df-convert {\n",
              "      background-color: #E8F0FE;\n",
              "      border: none;\n",
              "      border-radius: 50%;\n",
              "      cursor: pointer;\n",
              "      display: none;\n",
              "      fill: #1967D2;\n",
              "      height: 32px;\n",
              "      padding: 0 0 0 0;\n",
              "      width: 32px;\n",
              "    }\n",
              "\n",
              "    .colab-df-convert:hover {\n",
              "      background-color: #E2EBFA;\n",
              "      box-shadow: 0px 1px 2px rgba(60, 64, 67, 0.3), 0px 1px 3px 1px rgba(60, 64, 67, 0.15);\n",
              "      fill: #174EA6;\n",
              "    }\n",
              "\n",
              "    [theme=dark] .colab-df-convert {\n",
              "      background-color: #3B4455;\n",
              "      fill: #D2E3FC;\n",
              "    }\n",
              "\n",
              "    [theme=dark] .colab-df-convert:hover {\n",
              "      background-color: #434B5C;\n",
              "      box-shadow: 0px 1px 3px 1px rgba(0, 0, 0, 0.15);\n",
              "      filter: drop-shadow(0px 1px 2px rgba(0, 0, 0, 0.3));\n",
              "      fill: #FFFFFF;\n",
              "    }\n",
              "  </style>\n",
              "\n",
              "      <script>\n",
              "        const buttonEl =\n",
              "          document.querySelector('#df-5dd6d1d6-7bc4-480e-beab-2869dbf9aae3 button.colab-df-convert');\n",
              "        buttonEl.style.display =\n",
              "          google.colab.kernel.accessAllowed ? 'block' : 'none';\n",
              "\n",
              "        async function convertToInteractive(key) {\n",
              "          const element = document.querySelector('#df-5dd6d1d6-7bc4-480e-beab-2869dbf9aae3');\n",
              "          const dataTable =\n",
              "            await google.colab.kernel.invokeFunction('convertToInteractive',\n",
              "                                                     [key], {});\n",
              "          if (!dataTable) return;\n",
              "\n",
              "          const docLinkHtml = 'Like what you see? Visit the ' +\n",
              "            '<a target=\"_blank\" href=https://colab.research.google.com/notebooks/data_table.ipynb>data table notebook</a>'\n",
              "            + ' to learn more about interactive tables.';\n",
              "          element.innerHTML = '';\n",
              "          dataTable['output_type'] = 'display_data';\n",
              "          await google.colab.output.renderOutput(dataTable, element);\n",
              "          const docLink = document.createElement('div');\n",
              "          docLink.innerHTML = docLinkHtml;\n",
              "          element.appendChild(docLink);\n",
              "        }\n",
              "      </script>\n",
              "    </div>\n",
              "  </div>\n",
              "  "
            ]
          },
          "metadata": {},
          "execution_count": 146
        }
      ]
    },
    {
      "cell_type": "code",
      "source": [
        "df.size"
      ],
      "metadata": {
        "colab": {
          "base_uri": "https://localhost:8080/"
        },
        "id": "v3FOfH85YenT",
        "outputId": "a88ed428-305b-4c2a-d589-2d8018b28cc9"
      },
      "execution_count": 147,
      "outputs": [
        {
          "output_type": "execute_result",
          "data": {
            "text/plain": [
              "19152"
            ]
          },
          "metadata": {},
          "execution_count": 147
        }
      ]
    },
    {
      "cell_type": "code",
      "source": [
        "df.shape"
      ],
      "metadata": {
        "colab": {
          "base_uri": "https://localhost:8080/"
        },
        "id": "y0_7P7-EYj1i",
        "outputId": "8491315f-76aa-47f4-aad5-472109961033"
      },
      "execution_count": 148,
      "outputs": [
        {
          "output_type": "execute_result",
          "data": {
            "text/plain": [
              "(1197, 16)"
            ]
          },
          "metadata": {},
          "execution_count": 148
        }
      ]
    },
    {
      "cell_type": "code",
      "source": [
        "df.nunique()"
      ],
      "metadata": {
        "colab": {
          "base_uri": "https://localhost:8080/"
        },
        "id": "M1Z-1WyiYkzz",
        "outputId": "a24fbb90-8faf-4a58-fd99-3db1c0091ac4"
      },
      "execution_count": 149,
      "outputs": [
        {
          "output_type": "execute_result",
          "data": {
            "text/plain": [
              "date                       59\n",
              "quarter                     5\n",
              "department                  2\n",
              "day                         6\n",
              "team                       12\n",
              "targeted_productivity       8\n",
              "smv                        70\n",
              "total_work               1146\n",
              "wip                       548\n",
              "over_time                 141\n",
              "incentive                  48\n",
              "idle_time                  12\n",
              "idle_men                   10\n",
              "no_of_style_change          2\n",
              "no_of_workers              51\n",
              "actual_productivity       879\n",
              "dtype: int64"
            ]
          },
          "metadata": {},
          "execution_count": 149
        }
      ]
    },
    {
      "cell_type": "code",
      "source": [
        "df.dtypes #overtime is classified as object"
      ],
      "metadata": {
        "colab": {
          "base_uri": "https://localhost:8080/"
        },
        "id": "IIKM6A_EYp-x",
        "outputId": "e20b7844-3038-4043-f789-1748321d064a"
      },
      "execution_count": 150,
      "outputs": [
        {
          "output_type": "execute_result",
          "data": {
            "text/plain": [
              "date                      object\n",
              "quarter                   object\n",
              "department                object\n",
              "day                       object\n",
              "team                       int64\n",
              "targeted_productivity    float64\n",
              "smv                      float64\n",
              "total_work               float64\n",
              "wip                      float64\n",
              "over_time                 object\n",
              "incentive                  int64\n",
              "idle_time                float64\n",
              "idle_men                   int64\n",
              "no_of_style_change        object\n",
              "no_of_workers              int64\n",
              "actual_productivity      float64\n",
              "dtype: object"
            ]
          },
          "metadata": {},
          "execution_count": 150
        }
      ]
    },
    {
      "cell_type": "code",
      "source": [
        "df['over_time'].unique()"
      ],
      "metadata": {
        "colab": {
          "base_uri": "https://localhost:8080/"
        },
        "id": "ORnL3RhcYteZ",
        "outputId": "4e106fcb-99bf-478a-8584-e5454ea8be82"
      },
      "execution_count": 151,
      "outputs": [
        {
          "output_type": "execute_result",
          "data": {
            "text/plain": [
              "array(['7080', '960', '3660', '1920', '6720', '6900', '6000', '6480',\n",
              "       '2160', 'a', '7200', '1440', '6600', '5640', 'c', '6300', '6540',\n",
              "       nan, '13800', '1560', '6975', '7020', '6780', '4260', '6660',\n",
              "       '4320', '6960', '2400', '3840', '4800', '4440', '1800', '2700',\n",
              "       '10620', '10350', '9900', '5310', '10170', '4470', '10530',\n",
              "       '10440', '5490', '5670', '9720', '12600', '10050', '15120',\n",
              "       '14640', '900', '25920', '10260', '2760', '4710', '9540', '7680',\n",
              "       '3600', '6420', '7980', '3240', '8220', '6930', '8460', '7350',\n",
              "       '5400', '1620', '2970', '7320', '5100', '3390', '1260', '3420',\n",
              "       '8970', '10080', '9810', '6570', '5040', '4380', '3630', '8280',\n",
              "       '6120', '5580', '3720', '5760', '7470', '10500', '6360', '4140',\n",
              "       '12180', '9000', '15000', '10770', '9360', '3060', '2520', '720',\n",
              "       '3780', '10320', '6840', '1080', '1200', '4080', '240', '5880',\n",
              "       '6240', '4200', 'b', '3960', '2280', '5940', '1320', '5460',\n",
              "       '2040', '3000', '3360', '5820', '6060', '2640', '7500', '2880',\n",
              "       '120', '360', '0', '3480', '7380', '4560', '7140', '5160', '5280',\n",
              "       '600', '840', '5520', '480', '8160', '5700', '2820', '5340',\n",
              "       '1680', '7560', '1700', '4680', '3120', '8400'], dtype=object)"
            ]
          },
          "metadata": {},
          "execution_count": 151
        }
      ]
    },
    {
      "cell_type": "code",
      "source": [
        "cond = df['over_time'].str.contains('[a-z]')\n",
        "lst = []\n",
        "\n",
        "for i in range(0, df.shape[0]): \n",
        "  if cond[i] == True:\n",
        "    lst.append(i)\n",
        "\n"
      ],
      "metadata": {
        "id": "RsL3mqjKY-Vc"
      },
      "execution_count": 152,
      "outputs": []
    },
    {
      "cell_type": "code",
      "source": [
        "lst #list shows the index at which alphabets are present"
      ],
      "metadata": {
        "colab": {
          "base_uri": "https://localhost:8080/"
        },
        "id": "fiGO--ElZKcp",
        "outputId": "e4597882-9870-4ed7-823f-99f73e2f916f"
      },
      "execution_count": 153,
      "outputs": [
        {
          "output_type": "execute_result",
          "data": {
            "text/plain": [
              "[16, 22, 390, 454, 530, 680, 808, 919]"
            ]
          },
          "metadata": {},
          "execution_count": 153
        }
      ]
    },
    {
      "cell_type": "code",
      "source": [
        "df.head(20) #we can confirm by looking at the 16th row"
      ],
      "metadata": {
        "colab": {
          "base_uri": "https://localhost:8080/",
          "height": 740
        },
        "id": "fCEY5gEVZueY",
        "outputId": "b05183e6-863e-4393-be2a-6c3b3c7ee526"
      },
      "execution_count": 154,
      "outputs": [
        {
          "output_type": "execute_result",
          "data": {
            "text/plain": [
              "          date   quarter department       day  team  targeted_productivity  \\\n",
              "0   01/01/2015  Quarter1     sweing  Thursday     8                   0.80   \n",
              "1   01/01/2015  Quarter1  finishing  Thursday     1                   0.75   \n",
              "2   01/01/2015  Quarter1     sweing  Thursday    11                   0.80   \n",
              "3   01/01/2015  Quarter1     sweing  Thursday    12                   0.80   \n",
              "4   01/01/2015  Quarter1     sweing  Thursday     6                   0.80   \n",
              "5   01/01/2015  Quarter1     sweing  Thursday     7                   0.80   \n",
              "6   01/01/2015  Quarter1  finishing  Thursday     2                   0.75   \n",
              "7   01/01/2015  Quarter1     sweing  Thursday     3                   0.75   \n",
              "8   01/01/2015  Quarter1     sweing  Thursday     2                   0.75   \n",
              "9   01/01/2015  Quarter1     sweing  Thursday     1                   0.75   \n",
              "10  01/01/2015  Quarter1     sweing  Thursday     9                    NaN   \n",
              "11  01/01/2015  Quarter1     sweing  Thursday    10                   0.75   \n",
              "12  01/01/2015  Quarter1     sweing  Thursday     5                   0.80   \n",
              "13  01/01/2015  Quarter1  finishing  Thursday    10                   0.65   \n",
              "14  01/01/2015  Quarter1  finishing  Thursday     8                   0.75   \n",
              "15  01/01/2015  Quarter1  finishing  Thursday     4                   0.75   \n",
              "16  01/01/2015  Quarter1  finishing  Thursday     7                   0.80   \n",
              "17  01/01/2015  Quarter1     sweing  Thursday     4                   0.65   \n",
              "18  01/01/2015  Quarter1  finishing  Thursday    11                   0.70   \n",
              "19  01/03/2015  Quarter1  finishing  Saturday     4                   0.80   \n",
              "\n",
              "      smv  total_work     wip over_time  incentive  idle_time  idle_men  \\\n",
              "0   26.16     19876.0  1108.0      7080         98        0.0         0   \n",
              "1    3.94     21791.0     NaN       960          0        0.0         0   \n",
              "2   11.41      5513.0   968.0      3660         50        0.0         0   \n",
              "3   11.41     23582.0   968.0      3660         50        0.0         0   \n",
              "4   25.90         NaN  1170.0      1920         50        0.0         0   \n",
              "5   25.90         NaN   984.0      6720         38        0.0         0   \n",
              "6    3.94     12643.0     NaN       960          0        0.0         0   \n",
              "7   28.08     12035.0   795.0      6900         45        0.0         0   \n",
              "8   19.87      8278.0   733.0      6000         34        0.0         0   \n",
              "9   28.08      9318.0   681.0      6900         45        0.0         0   \n",
              "10  28.08     12518.0   872.0      6900         44        0.0         0   \n",
              "11  19.31     12260.0   578.0      6480         45        0.0         0   \n",
              "12  11.41     17346.0   668.0      3660         50        0.0         0   \n",
              "13   3.94     14021.0     NaN       960          0        0.0         0   \n",
              "14   2.90     14159.0     NaN       960          0        0.0         0   \n",
              "15   3.94     22607.0     NaN      2160          0        0.0         0   \n",
              "16   2.90     10710.0     NaN         a          0        0.0         0   \n",
              "17  23.69     11997.0   861.0      7200          0        0.0         0   \n",
              "18   4.15     11579.0     NaN      1440          0        0.0         0   \n",
              "19   4.15     16000.0     NaN      6600          0        0.0         0   \n",
              "\n",
              "   no_of_style_change  no_of_workers  actual_productivity  \n",
              "0                  No             59             0.940725  \n",
              "1                  No              8             0.886500  \n",
              "2                  No             31             0.800570  \n",
              "3                  No             31             0.800570  \n",
              "4                  No             56             0.800382  \n",
              "5                  No             56             0.800125  \n",
              "6                  No              8             0.755167  \n",
              "7                  No             58             0.753683  \n",
              "8                  No             55             0.753098  \n",
              "9                  No             58             0.750428  \n",
              "10                 No             58             0.721127  \n",
              "11                 No             54             0.712205  \n",
              "12                 No             31             0.707046  \n",
              "13                 No              8             0.705917  \n",
              "14                 No              8             0.676667  \n",
              "15                 No             18             0.593056  \n",
              "16                 No              8             0.540729  \n",
              "17                 No             60             0.521180  \n",
              "18                 No             12             0.436326  \n",
              "19                 No             20             0.988025  "
            ],
            "text/html": [
              "\n",
              "  <div id=\"df-6d30e42d-1290-4c91-ab8e-ceba24a36cca\">\n",
              "    <div class=\"colab-df-container\">\n",
              "      <div>\n",
              "<style scoped>\n",
              "    .dataframe tbody tr th:only-of-type {\n",
              "        vertical-align: middle;\n",
              "    }\n",
              "\n",
              "    .dataframe tbody tr th {\n",
              "        vertical-align: top;\n",
              "    }\n",
              "\n",
              "    .dataframe thead th {\n",
              "        text-align: right;\n",
              "    }\n",
              "</style>\n",
              "<table border=\"1\" class=\"dataframe\">\n",
              "  <thead>\n",
              "    <tr style=\"text-align: right;\">\n",
              "      <th></th>\n",
              "      <th>date</th>\n",
              "      <th>quarter</th>\n",
              "      <th>department</th>\n",
              "      <th>day</th>\n",
              "      <th>team</th>\n",
              "      <th>targeted_productivity</th>\n",
              "      <th>smv</th>\n",
              "      <th>total_work</th>\n",
              "      <th>wip</th>\n",
              "      <th>over_time</th>\n",
              "      <th>incentive</th>\n",
              "      <th>idle_time</th>\n",
              "      <th>idle_men</th>\n",
              "      <th>no_of_style_change</th>\n",
              "      <th>no_of_workers</th>\n",
              "      <th>actual_productivity</th>\n",
              "    </tr>\n",
              "  </thead>\n",
              "  <tbody>\n",
              "    <tr>\n",
              "      <th>0</th>\n",
              "      <td>01/01/2015</td>\n",
              "      <td>Quarter1</td>\n",
              "      <td>sweing</td>\n",
              "      <td>Thursday</td>\n",
              "      <td>8</td>\n",
              "      <td>0.80</td>\n",
              "      <td>26.16</td>\n",
              "      <td>19876.0</td>\n",
              "      <td>1108.0</td>\n",
              "      <td>7080</td>\n",
              "      <td>98</td>\n",
              "      <td>0.0</td>\n",
              "      <td>0</td>\n",
              "      <td>No</td>\n",
              "      <td>59</td>\n",
              "      <td>0.940725</td>\n",
              "    </tr>\n",
              "    <tr>\n",
              "      <th>1</th>\n",
              "      <td>01/01/2015</td>\n",
              "      <td>Quarter1</td>\n",
              "      <td>finishing</td>\n",
              "      <td>Thursday</td>\n",
              "      <td>1</td>\n",
              "      <td>0.75</td>\n",
              "      <td>3.94</td>\n",
              "      <td>21791.0</td>\n",
              "      <td>NaN</td>\n",
              "      <td>960</td>\n",
              "      <td>0</td>\n",
              "      <td>0.0</td>\n",
              "      <td>0</td>\n",
              "      <td>No</td>\n",
              "      <td>8</td>\n",
              "      <td>0.886500</td>\n",
              "    </tr>\n",
              "    <tr>\n",
              "      <th>2</th>\n",
              "      <td>01/01/2015</td>\n",
              "      <td>Quarter1</td>\n",
              "      <td>sweing</td>\n",
              "      <td>Thursday</td>\n",
              "      <td>11</td>\n",
              "      <td>0.80</td>\n",
              "      <td>11.41</td>\n",
              "      <td>5513.0</td>\n",
              "      <td>968.0</td>\n",
              "      <td>3660</td>\n",
              "      <td>50</td>\n",
              "      <td>0.0</td>\n",
              "      <td>0</td>\n",
              "      <td>No</td>\n",
              "      <td>31</td>\n",
              "      <td>0.800570</td>\n",
              "    </tr>\n",
              "    <tr>\n",
              "      <th>3</th>\n",
              "      <td>01/01/2015</td>\n",
              "      <td>Quarter1</td>\n",
              "      <td>sweing</td>\n",
              "      <td>Thursday</td>\n",
              "      <td>12</td>\n",
              "      <td>0.80</td>\n",
              "      <td>11.41</td>\n",
              "      <td>23582.0</td>\n",
              "      <td>968.0</td>\n",
              "      <td>3660</td>\n",
              "      <td>50</td>\n",
              "      <td>0.0</td>\n",
              "      <td>0</td>\n",
              "      <td>No</td>\n",
              "      <td>31</td>\n",
              "      <td>0.800570</td>\n",
              "    </tr>\n",
              "    <tr>\n",
              "      <th>4</th>\n",
              "      <td>01/01/2015</td>\n",
              "      <td>Quarter1</td>\n",
              "      <td>sweing</td>\n",
              "      <td>Thursday</td>\n",
              "      <td>6</td>\n",
              "      <td>0.80</td>\n",
              "      <td>25.90</td>\n",
              "      <td>NaN</td>\n",
              "      <td>1170.0</td>\n",
              "      <td>1920</td>\n",
              "      <td>50</td>\n",
              "      <td>0.0</td>\n",
              "      <td>0</td>\n",
              "      <td>No</td>\n",
              "      <td>56</td>\n",
              "      <td>0.800382</td>\n",
              "    </tr>\n",
              "    <tr>\n",
              "      <th>5</th>\n",
              "      <td>01/01/2015</td>\n",
              "      <td>Quarter1</td>\n",
              "      <td>sweing</td>\n",
              "      <td>Thursday</td>\n",
              "      <td>7</td>\n",
              "      <td>0.80</td>\n",
              "      <td>25.90</td>\n",
              "      <td>NaN</td>\n",
              "      <td>984.0</td>\n",
              "      <td>6720</td>\n",
              "      <td>38</td>\n",
              "      <td>0.0</td>\n",
              "      <td>0</td>\n",
              "      <td>No</td>\n",
              "      <td>56</td>\n",
              "      <td>0.800125</td>\n",
              "    </tr>\n",
              "    <tr>\n",
              "      <th>6</th>\n",
              "      <td>01/01/2015</td>\n",
              "      <td>Quarter1</td>\n",
              "      <td>finishing</td>\n",
              "      <td>Thursday</td>\n",
              "      <td>2</td>\n",
              "      <td>0.75</td>\n",
              "      <td>3.94</td>\n",
              "      <td>12643.0</td>\n",
              "      <td>NaN</td>\n",
              "      <td>960</td>\n",
              "      <td>0</td>\n",
              "      <td>0.0</td>\n",
              "      <td>0</td>\n",
              "      <td>No</td>\n",
              "      <td>8</td>\n",
              "      <td>0.755167</td>\n",
              "    </tr>\n",
              "    <tr>\n",
              "      <th>7</th>\n",
              "      <td>01/01/2015</td>\n",
              "      <td>Quarter1</td>\n",
              "      <td>sweing</td>\n",
              "      <td>Thursday</td>\n",
              "      <td>3</td>\n",
              "      <td>0.75</td>\n",
              "      <td>28.08</td>\n",
              "      <td>12035.0</td>\n",
              "      <td>795.0</td>\n",
              "      <td>6900</td>\n",
              "      <td>45</td>\n",
              "      <td>0.0</td>\n",
              "      <td>0</td>\n",
              "      <td>No</td>\n",
              "      <td>58</td>\n",
              "      <td>0.753683</td>\n",
              "    </tr>\n",
              "    <tr>\n",
              "      <th>8</th>\n",
              "      <td>01/01/2015</td>\n",
              "      <td>Quarter1</td>\n",
              "      <td>sweing</td>\n",
              "      <td>Thursday</td>\n",
              "      <td>2</td>\n",
              "      <td>0.75</td>\n",
              "      <td>19.87</td>\n",
              "      <td>8278.0</td>\n",
              "      <td>733.0</td>\n",
              "      <td>6000</td>\n",
              "      <td>34</td>\n",
              "      <td>0.0</td>\n",
              "      <td>0</td>\n",
              "      <td>No</td>\n",
              "      <td>55</td>\n",
              "      <td>0.753098</td>\n",
              "    </tr>\n",
              "    <tr>\n",
              "      <th>9</th>\n",
              "      <td>01/01/2015</td>\n",
              "      <td>Quarter1</td>\n",
              "      <td>sweing</td>\n",
              "      <td>Thursday</td>\n",
              "      <td>1</td>\n",
              "      <td>0.75</td>\n",
              "      <td>28.08</td>\n",
              "      <td>9318.0</td>\n",
              "      <td>681.0</td>\n",
              "      <td>6900</td>\n",
              "      <td>45</td>\n",
              "      <td>0.0</td>\n",
              "      <td>0</td>\n",
              "      <td>No</td>\n",
              "      <td>58</td>\n",
              "      <td>0.750428</td>\n",
              "    </tr>\n",
              "    <tr>\n",
              "      <th>10</th>\n",
              "      <td>01/01/2015</td>\n",
              "      <td>Quarter1</td>\n",
              "      <td>sweing</td>\n",
              "      <td>Thursday</td>\n",
              "      <td>9</td>\n",
              "      <td>NaN</td>\n",
              "      <td>28.08</td>\n",
              "      <td>12518.0</td>\n",
              "      <td>872.0</td>\n",
              "      <td>6900</td>\n",
              "      <td>44</td>\n",
              "      <td>0.0</td>\n",
              "      <td>0</td>\n",
              "      <td>No</td>\n",
              "      <td>58</td>\n",
              "      <td>0.721127</td>\n",
              "    </tr>\n",
              "    <tr>\n",
              "      <th>11</th>\n",
              "      <td>01/01/2015</td>\n",
              "      <td>Quarter1</td>\n",
              "      <td>sweing</td>\n",
              "      <td>Thursday</td>\n",
              "      <td>10</td>\n",
              "      <td>0.75</td>\n",
              "      <td>19.31</td>\n",
              "      <td>12260.0</td>\n",
              "      <td>578.0</td>\n",
              "      <td>6480</td>\n",
              "      <td>45</td>\n",
              "      <td>0.0</td>\n",
              "      <td>0</td>\n",
              "      <td>No</td>\n",
              "      <td>54</td>\n",
              "      <td>0.712205</td>\n",
              "    </tr>\n",
              "    <tr>\n",
              "      <th>12</th>\n",
              "      <td>01/01/2015</td>\n",
              "      <td>Quarter1</td>\n",
              "      <td>sweing</td>\n",
              "      <td>Thursday</td>\n",
              "      <td>5</td>\n",
              "      <td>0.80</td>\n",
              "      <td>11.41</td>\n",
              "      <td>17346.0</td>\n",
              "      <td>668.0</td>\n",
              "      <td>3660</td>\n",
              "      <td>50</td>\n",
              "      <td>0.0</td>\n",
              "      <td>0</td>\n",
              "      <td>No</td>\n",
              "      <td>31</td>\n",
              "      <td>0.707046</td>\n",
              "    </tr>\n",
              "    <tr>\n",
              "      <th>13</th>\n",
              "      <td>01/01/2015</td>\n",
              "      <td>Quarter1</td>\n",
              "      <td>finishing</td>\n",
              "      <td>Thursday</td>\n",
              "      <td>10</td>\n",
              "      <td>0.65</td>\n",
              "      <td>3.94</td>\n",
              "      <td>14021.0</td>\n",
              "      <td>NaN</td>\n",
              "      <td>960</td>\n",
              "      <td>0</td>\n",
              "      <td>0.0</td>\n",
              "      <td>0</td>\n",
              "      <td>No</td>\n",
              "      <td>8</td>\n",
              "      <td>0.705917</td>\n",
              "    </tr>\n",
              "    <tr>\n",
              "      <th>14</th>\n",
              "      <td>01/01/2015</td>\n",
              "      <td>Quarter1</td>\n",
              "      <td>finishing</td>\n",
              "      <td>Thursday</td>\n",
              "      <td>8</td>\n",
              "      <td>0.75</td>\n",
              "      <td>2.90</td>\n",
              "      <td>14159.0</td>\n",
              "      <td>NaN</td>\n",
              "      <td>960</td>\n",
              "      <td>0</td>\n",
              "      <td>0.0</td>\n",
              "      <td>0</td>\n",
              "      <td>No</td>\n",
              "      <td>8</td>\n",
              "      <td>0.676667</td>\n",
              "    </tr>\n",
              "    <tr>\n",
              "      <th>15</th>\n",
              "      <td>01/01/2015</td>\n",
              "      <td>Quarter1</td>\n",
              "      <td>finishing</td>\n",
              "      <td>Thursday</td>\n",
              "      <td>4</td>\n",
              "      <td>0.75</td>\n",
              "      <td>3.94</td>\n",
              "      <td>22607.0</td>\n",
              "      <td>NaN</td>\n",
              "      <td>2160</td>\n",
              "      <td>0</td>\n",
              "      <td>0.0</td>\n",
              "      <td>0</td>\n",
              "      <td>No</td>\n",
              "      <td>18</td>\n",
              "      <td>0.593056</td>\n",
              "    </tr>\n",
              "    <tr>\n",
              "      <th>16</th>\n",
              "      <td>01/01/2015</td>\n",
              "      <td>Quarter1</td>\n",
              "      <td>finishing</td>\n",
              "      <td>Thursday</td>\n",
              "      <td>7</td>\n",
              "      <td>0.80</td>\n",
              "      <td>2.90</td>\n",
              "      <td>10710.0</td>\n",
              "      <td>NaN</td>\n",
              "      <td>a</td>\n",
              "      <td>0</td>\n",
              "      <td>0.0</td>\n",
              "      <td>0</td>\n",
              "      <td>No</td>\n",
              "      <td>8</td>\n",
              "      <td>0.540729</td>\n",
              "    </tr>\n",
              "    <tr>\n",
              "      <th>17</th>\n",
              "      <td>01/01/2015</td>\n",
              "      <td>Quarter1</td>\n",
              "      <td>sweing</td>\n",
              "      <td>Thursday</td>\n",
              "      <td>4</td>\n",
              "      <td>0.65</td>\n",
              "      <td>23.69</td>\n",
              "      <td>11997.0</td>\n",
              "      <td>861.0</td>\n",
              "      <td>7200</td>\n",
              "      <td>0</td>\n",
              "      <td>0.0</td>\n",
              "      <td>0</td>\n",
              "      <td>No</td>\n",
              "      <td>60</td>\n",
              "      <td>0.521180</td>\n",
              "    </tr>\n",
              "    <tr>\n",
              "      <th>18</th>\n",
              "      <td>01/01/2015</td>\n",
              "      <td>Quarter1</td>\n",
              "      <td>finishing</td>\n",
              "      <td>Thursday</td>\n",
              "      <td>11</td>\n",
              "      <td>0.70</td>\n",
              "      <td>4.15</td>\n",
              "      <td>11579.0</td>\n",
              "      <td>NaN</td>\n",
              "      <td>1440</td>\n",
              "      <td>0</td>\n",
              "      <td>0.0</td>\n",
              "      <td>0</td>\n",
              "      <td>No</td>\n",
              "      <td>12</td>\n",
              "      <td>0.436326</td>\n",
              "    </tr>\n",
              "    <tr>\n",
              "      <th>19</th>\n",
              "      <td>01/03/2015</td>\n",
              "      <td>Quarter1</td>\n",
              "      <td>finishing</td>\n",
              "      <td>Saturday</td>\n",
              "      <td>4</td>\n",
              "      <td>0.80</td>\n",
              "      <td>4.15</td>\n",
              "      <td>16000.0</td>\n",
              "      <td>NaN</td>\n",
              "      <td>6600</td>\n",
              "      <td>0</td>\n",
              "      <td>0.0</td>\n",
              "      <td>0</td>\n",
              "      <td>No</td>\n",
              "      <td>20</td>\n",
              "      <td>0.988025</td>\n",
              "    </tr>\n",
              "  </tbody>\n",
              "</table>\n",
              "</div>\n",
              "      <button class=\"colab-df-convert\" onclick=\"convertToInteractive('df-6d30e42d-1290-4c91-ab8e-ceba24a36cca')\"\n",
              "              title=\"Convert this dataframe to an interactive table.\"\n",
              "              style=\"display:none;\">\n",
              "        \n",
              "  <svg xmlns=\"http://www.w3.org/2000/svg\" height=\"24px\"viewBox=\"0 0 24 24\"\n",
              "       width=\"24px\">\n",
              "    <path d=\"M0 0h24v24H0V0z\" fill=\"none\"/>\n",
              "    <path d=\"M18.56 5.44l.94 2.06.94-2.06 2.06-.94-2.06-.94-.94-2.06-.94 2.06-2.06.94zm-11 1L8.5 8.5l.94-2.06 2.06-.94-2.06-.94L8.5 2.5l-.94 2.06-2.06.94zm10 10l.94 2.06.94-2.06 2.06-.94-2.06-.94-.94-2.06-.94 2.06-2.06.94z\"/><path d=\"M17.41 7.96l-1.37-1.37c-.4-.4-.92-.59-1.43-.59-.52 0-1.04.2-1.43.59L10.3 9.45l-7.72 7.72c-.78.78-.78 2.05 0 2.83L4 21.41c.39.39.9.59 1.41.59.51 0 1.02-.2 1.41-.59l7.78-7.78 2.81-2.81c.8-.78.8-2.07 0-2.86zM5.41 20L4 18.59l7.72-7.72 1.47 1.35L5.41 20z\"/>\n",
              "  </svg>\n",
              "      </button>\n",
              "      \n",
              "  <style>\n",
              "    .colab-df-container {\n",
              "      display:flex;\n",
              "      flex-wrap:wrap;\n",
              "      gap: 12px;\n",
              "    }\n",
              "\n",
              "    .colab-df-convert {\n",
              "      background-color: #E8F0FE;\n",
              "      border: none;\n",
              "      border-radius: 50%;\n",
              "      cursor: pointer;\n",
              "      display: none;\n",
              "      fill: #1967D2;\n",
              "      height: 32px;\n",
              "      padding: 0 0 0 0;\n",
              "      width: 32px;\n",
              "    }\n",
              "\n",
              "    .colab-df-convert:hover {\n",
              "      background-color: #E2EBFA;\n",
              "      box-shadow: 0px 1px 2px rgba(60, 64, 67, 0.3), 0px 1px 3px 1px rgba(60, 64, 67, 0.15);\n",
              "      fill: #174EA6;\n",
              "    }\n",
              "\n",
              "    [theme=dark] .colab-df-convert {\n",
              "      background-color: #3B4455;\n",
              "      fill: #D2E3FC;\n",
              "    }\n",
              "\n",
              "    [theme=dark] .colab-df-convert:hover {\n",
              "      background-color: #434B5C;\n",
              "      box-shadow: 0px 1px 3px 1px rgba(0, 0, 0, 0.15);\n",
              "      filter: drop-shadow(0px 1px 2px rgba(0, 0, 0, 0.3));\n",
              "      fill: #FFFFFF;\n",
              "    }\n",
              "  </style>\n",
              "\n",
              "      <script>\n",
              "        const buttonEl =\n",
              "          document.querySelector('#df-6d30e42d-1290-4c91-ab8e-ceba24a36cca button.colab-df-convert');\n",
              "        buttonEl.style.display =\n",
              "          google.colab.kernel.accessAllowed ? 'block' : 'none';\n",
              "\n",
              "        async function convertToInteractive(key) {\n",
              "          const element = document.querySelector('#df-6d30e42d-1290-4c91-ab8e-ceba24a36cca');\n",
              "          const dataTable =\n",
              "            await google.colab.kernel.invokeFunction('convertToInteractive',\n",
              "                                                     [key], {});\n",
              "          if (!dataTable) return;\n",
              "\n",
              "          const docLinkHtml = 'Like what you see? Visit the ' +\n",
              "            '<a target=\"_blank\" href=https://colab.research.google.com/notebooks/data_table.ipynb>data table notebook</a>'\n",
              "            + ' to learn more about interactive tables.';\n",
              "          element.innerHTML = '';\n",
              "          dataTable['output_type'] = 'display_data';\n",
              "          await google.colab.output.renderOutput(dataTable, element);\n",
              "          const docLink = document.createElement('div');\n",
              "          docLink.innerHTML = docLinkHtml;\n",
              "          element.appendChild(docLink);\n",
              "        }\n",
              "      </script>\n",
              "    </div>\n",
              "  </div>\n",
              "  "
            ]
          },
          "metadata": {},
          "execution_count": 154
        }
      ]
    },
    {
      "cell_type": "code",
      "source": [
        "df.drop(lst, axis=0, inplace= True)"
      ],
      "metadata": {
        "id": "BVECk4cLY8II"
      },
      "execution_count": 155,
      "outputs": []
    },
    {
      "cell_type": "code",
      "source": [
        "df.head(20)"
      ],
      "metadata": {
        "colab": {
          "base_uri": "https://localhost:8080/",
          "height": 740
        },
        "id": "vSUrtGUTaSLO",
        "outputId": "c694bbb9-9244-4da5-bc9f-ffd0ab0866d0"
      },
      "execution_count": 156,
      "outputs": [
        {
          "output_type": "execute_result",
          "data": {
            "text/plain": [
              "          date   quarter department       day  team  targeted_productivity  \\\n",
              "0   01/01/2015  Quarter1     sweing  Thursday     8                   0.80   \n",
              "1   01/01/2015  Quarter1  finishing  Thursday     1                   0.75   \n",
              "2   01/01/2015  Quarter1     sweing  Thursday    11                   0.80   \n",
              "3   01/01/2015  Quarter1     sweing  Thursday    12                   0.80   \n",
              "4   01/01/2015  Quarter1     sweing  Thursday     6                   0.80   \n",
              "5   01/01/2015  Quarter1     sweing  Thursday     7                   0.80   \n",
              "6   01/01/2015  Quarter1  finishing  Thursday     2                   0.75   \n",
              "7   01/01/2015  Quarter1     sweing  Thursday     3                   0.75   \n",
              "8   01/01/2015  Quarter1     sweing  Thursday     2                   0.75   \n",
              "9   01/01/2015  Quarter1     sweing  Thursday     1                   0.75   \n",
              "10  01/01/2015  Quarter1     sweing  Thursday     9                    NaN   \n",
              "11  01/01/2015  Quarter1     sweing  Thursday    10                   0.75   \n",
              "12  01/01/2015  Quarter1     sweing  Thursday     5                   0.80   \n",
              "13  01/01/2015  Quarter1  finishing  Thursday    10                   0.65   \n",
              "14  01/01/2015  Quarter1  finishing  Thursday     8                   0.75   \n",
              "15  01/01/2015  Quarter1  finishing  Thursday     4                   0.75   \n",
              "17  01/01/2015  Quarter1     sweing  Thursday     4                   0.65   \n",
              "18  01/01/2015  Quarter1  finishing  Thursday    11                   0.70   \n",
              "19  01/03/2015  Quarter1  finishing  Saturday     4                   0.80   \n",
              "20  01/03/2015  Quarter1  finishing  Saturday    11                   0.75   \n",
              "\n",
              "      smv  total_work     wip over_time  incentive  idle_time  idle_men  \\\n",
              "0   26.16     19876.0  1108.0      7080         98        0.0         0   \n",
              "1    3.94     21791.0     NaN       960          0        0.0         0   \n",
              "2   11.41      5513.0   968.0      3660         50        0.0         0   \n",
              "3   11.41     23582.0   968.0      3660         50        0.0         0   \n",
              "4   25.90         NaN  1170.0      1920         50        0.0         0   \n",
              "5   25.90         NaN   984.0      6720         38        0.0         0   \n",
              "6    3.94     12643.0     NaN       960          0        0.0         0   \n",
              "7   28.08     12035.0   795.0      6900         45        0.0         0   \n",
              "8   19.87      8278.0   733.0      6000         34        0.0         0   \n",
              "9   28.08      9318.0   681.0      6900         45        0.0         0   \n",
              "10  28.08     12518.0   872.0      6900         44        0.0         0   \n",
              "11  19.31     12260.0   578.0      6480         45        0.0         0   \n",
              "12  11.41     17346.0   668.0      3660         50        0.0         0   \n",
              "13   3.94     14021.0     NaN       960          0        0.0         0   \n",
              "14   2.90     14159.0     NaN       960          0        0.0         0   \n",
              "15   3.94     22607.0     NaN      2160          0        0.0         0   \n",
              "17  23.69     11997.0   861.0      7200          0        0.0         0   \n",
              "18   4.15     11579.0     NaN      1440          0        0.0         0   \n",
              "19   4.15     16000.0     NaN      6600          0        0.0         0   \n",
              "20   2.90       162.0     NaN      5640          0        0.0         0   \n",
              "\n",
              "   no_of_style_change  no_of_workers  actual_productivity  \n",
              "0                  No             59             0.940725  \n",
              "1                  No              8             0.886500  \n",
              "2                  No             31             0.800570  \n",
              "3                  No             31             0.800570  \n",
              "4                  No             56             0.800382  \n",
              "5                  No             56             0.800125  \n",
              "6                  No              8             0.755167  \n",
              "7                  No             58             0.753683  \n",
              "8                  No             55             0.753098  \n",
              "9                  No             58             0.750428  \n",
              "10                 No             58             0.721127  \n",
              "11                 No             54             0.712205  \n",
              "12                 No             31             0.707046  \n",
              "13                 No              8             0.705917  \n",
              "14                 No              8             0.676667  \n",
              "15                 No             18             0.593056  \n",
              "17                 No             60             0.521180  \n",
              "18                 No             12             0.436326  \n",
              "19                 No             20             0.988025  \n",
              "20                 No             17             0.987880  "
            ],
            "text/html": [
              "\n",
              "  <div id=\"df-495158fe-ba3f-460d-a674-c72017cbcf31\">\n",
              "    <div class=\"colab-df-container\">\n",
              "      <div>\n",
              "<style scoped>\n",
              "    .dataframe tbody tr th:only-of-type {\n",
              "        vertical-align: middle;\n",
              "    }\n",
              "\n",
              "    .dataframe tbody tr th {\n",
              "        vertical-align: top;\n",
              "    }\n",
              "\n",
              "    .dataframe thead th {\n",
              "        text-align: right;\n",
              "    }\n",
              "</style>\n",
              "<table border=\"1\" class=\"dataframe\">\n",
              "  <thead>\n",
              "    <tr style=\"text-align: right;\">\n",
              "      <th></th>\n",
              "      <th>date</th>\n",
              "      <th>quarter</th>\n",
              "      <th>department</th>\n",
              "      <th>day</th>\n",
              "      <th>team</th>\n",
              "      <th>targeted_productivity</th>\n",
              "      <th>smv</th>\n",
              "      <th>total_work</th>\n",
              "      <th>wip</th>\n",
              "      <th>over_time</th>\n",
              "      <th>incentive</th>\n",
              "      <th>idle_time</th>\n",
              "      <th>idle_men</th>\n",
              "      <th>no_of_style_change</th>\n",
              "      <th>no_of_workers</th>\n",
              "      <th>actual_productivity</th>\n",
              "    </tr>\n",
              "  </thead>\n",
              "  <tbody>\n",
              "    <tr>\n",
              "      <th>0</th>\n",
              "      <td>01/01/2015</td>\n",
              "      <td>Quarter1</td>\n",
              "      <td>sweing</td>\n",
              "      <td>Thursday</td>\n",
              "      <td>8</td>\n",
              "      <td>0.80</td>\n",
              "      <td>26.16</td>\n",
              "      <td>19876.0</td>\n",
              "      <td>1108.0</td>\n",
              "      <td>7080</td>\n",
              "      <td>98</td>\n",
              "      <td>0.0</td>\n",
              "      <td>0</td>\n",
              "      <td>No</td>\n",
              "      <td>59</td>\n",
              "      <td>0.940725</td>\n",
              "    </tr>\n",
              "    <tr>\n",
              "      <th>1</th>\n",
              "      <td>01/01/2015</td>\n",
              "      <td>Quarter1</td>\n",
              "      <td>finishing</td>\n",
              "      <td>Thursday</td>\n",
              "      <td>1</td>\n",
              "      <td>0.75</td>\n",
              "      <td>3.94</td>\n",
              "      <td>21791.0</td>\n",
              "      <td>NaN</td>\n",
              "      <td>960</td>\n",
              "      <td>0</td>\n",
              "      <td>0.0</td>\n",
              "      <td>0</td>\n",
              "      <td>No</td>\n",
              "      <td>8</td>\n",
              "      <td>0.886500</td>\n",
              "    </tr>\n",
              "    <tr>\n",
              "      <th>2</th>\n",
              "      <td>01/01/2015</td>\n",
              "      <td>Quarter1</td>\n",
              "      <td>sweing</td>\n",
              "      <td>Thursday</td>\n",
              "      <td>11</td>\n",
              "      <td>0.80</td>\n",
              "      <td>11.41</td>\n",
              "      <td>5513.0</td>\n",
              "      <td>968.0</td>\n",
              "      <td>3660</td>\n",
              "      <td>50</td>\n",
              "      <td>0.0</td>\n",
              "      <td>0</td>\n",
              "      <td>No</td>\n",
              "      <td>31</td>\n",
              "      <td>0.800570</td>\n",
              "    </tr>\n",
              "    <tr>\n",
              "      <th>3</th>\n",
              "      <td>01/01/2015</td>\n",
              "      <td>Quarter1</td>\n",
              "      <td>sweing</td>\n",
              "      <td>Thursday</td>\n",
              "      <td>12</td>\n",
              "      <td>0.80</td>\n",
              "      <td>11.41</td>\n",
              "      <td>23582.0</td>\n",
              "      <td>968.0</td>\n",
              "      <td>3660</td>\n",
              "      <td>50</td>\n",
              "      <td>0.0</td>\n",
              "      <td>0</td>\n",
              "      <td>No</td>\n",
              "      <td>31</td>\n",
              "      <td>0.800570</td>\n",
              "    </tr>\n",
              "    <tr>\n",
              "      <th>4</th>\n",
              "      <td>01/01/2015</td>\n",
              "      <td>Quarter1</td>\n",
              "      <td>sweing</td>\n",
              "      <td>Thursday</td>\n",
              "      <td>6</td>\n",
              "      <td>0.80</td>\n",
              "      <td>25.90</td>\n",
              "      <td>NaN</td>\n",
              "      <td>1170.0</td>\n",
              "      <td>1920</td>\n",
              "      <td>50</td>\n",
              "      <td>0.0</td>\n",
              "      <td>0</td>\n",
              "      <td>No</td>\n",
              "      <td>56</td>\n",
              "      <td>0.800382</td>\n",
              "    </tr>\n",
              "    <tr>\n",
              "      <th>5</th>\n",
              "      <td>01/01/2015</td>\n",
              "      <td>Quarter1</td>\n",
              "      <td>sweing</td>\n",
              "      <td>Thursday</td>\n",
              "      <td>7</td>\n",
              "      <td>0.80</td>\n",
              "      <td>25.90</td>\n",
              "      <td>NaN</td>\n",
              "      <td>984.0</td>\n",
              "      <td>6720</td>\n",
              "      <td>38</td>\n",
              "      <td>0.0</td>\n",
              "      <td>0</td>\n",
              "      <td>No</td>\n",
              "      <td>56</td>\n",
              "      <td>0.800125</td>\n",
              "    </tr>\n",
              "    <tr>\n",
              "      <th>6</th>\n",
              "      <td>01/01/2015</td>\n",
              "      <td>Quarter1</td>\n",
              "      <td>finishing</td>\n",
              "      <td>Thursday</td>\n",
              "      <td>2</td>\n",
              "      <td>0.75</td>\n",
              "      <td>3.94</td>\n",
              "      <td>12643.0</td>\n",
              "      <td>NaN</td>\n",
              "      <td>960</td>\n",
              "      <td>0</td>\n",
              "      <td>0.0</td>\n",
              "      <td>0</td>\n",
              "      <td>No</td>\n",
              "      <td>8</td>\n",
              "      <td>0.755167</td>\n",
              "    </tr>\n",
              "    <tr>\n",
              "      <th>7</th>\n",
              "      <td>01/01/2015</td>\n",
              "      <td>Quarter1</td>\n",
              "      <td>sweing</td>\n",
              "      <td>Thursday</td>\n",
              "      <td>3</td>\n",
              "      <td>0.75</td>\n",
              "      <td>28.08</td>\n",
              "      <td>12035.0</td>\n",
              "      <td>795.0</td>\n",
              "      <td>6900</td>\n",
              "      <td>45</td>\n",
              "      <td>0.0</td>\n",
              "      <td>0</td>\n",
              "      <td>No</td>\n",
              "      <td>58</td>\n",
              "      <td>0.753683</td>\n",
              "    </tr>\n",
              "    <tr>\n",
              "      <th>8</th>\n",
              "      <td>01/01/2015</td>\n",
              "      <td>Quarter1</td>\n",
              "      <td>sweing</td>\n",
              "      <td>Thursday</td>\n",
              "      <td>2</td>\n",
              "      <td>0.75</td>\n",
              "      <td>19.87</td>\n",
              "      <td>8278.0</td>\n",
              "      <td>733.0</td>\n",
              "      <td>6000</td>\n",
              "      <td>34</td>\n",
              "      <td>0.0</td>\n",
              "      <td>0</td>\n",
              "      <td>No</td>\n",
              "      <td>55</td>\n",
              "      <td>0.753098</td>\n",
              "    </tr>\n",
              "    <tr>\n",
              "      <th>9</th>\n",
              "      <td>01/01/2015</td>\n",
              "      <td>Quarter1</td>\n",
              "      <td>sweing</td>\n",
              "      <td>Thursday</td>\n",
              "      <td>1</td>\n",
              "      <td>0.75</td>\n",
              "      <td>28.08</td>\n",
              "      <td>9318.0</td>\n",
              "      <td>681.0</td>\n",
              "      <td>6900</td>\n",
              "      <td>45</td>\n",
              "      <td>0.0</td>\n",
              "      <td>0</td>\n",
              "      <td>No</td>\n",
              "      <td>58</td>\n",
              "      <td>0.750428</td>\n",
              "    </tr>\n",
              "    <tr>\n",
              "      <th>10</th>\n",
              "      <td>01/01/2015</td>\n",
              "      <td>Quarter1</td>\n",
              "      <td>sweing</td>\n",
              "      <td>Thursday</td>\n",
              "      <td>9</td>\n",
              "      <td>NaN</td>\n",
              "      <td>28.08</td>\n",
              "      <td>12518.0</td>\n",
              "      <td>872.0</td>\n",
              "      <td>6900</td>\n",
              "      <td>44</td>\n",
              "      <td>0.0</td>\n",
              "      <td>0</td>\n",
              "      <td>No</td>\n",
              "      <td>58</td>\n",
              "      <td>0.721127</td>\n",
              "    </tr>\n",
              "    <tr>\n",
              "      <th>11</th>\n",
              "      <td>01/01/2015</td>\n",
              "      <td>Quarter1</td>\n",
              "      <td>sweing</td>\n",
              "      <td>Thursday</td>\n",
              "      <td>10</td>\n",
              "      <td>0.75</td>\n",
              "      <td>19.31</td>\n",
              "      <td>12260.0</td>\n",
              "      <td>578.0</td>\n",
              "      <td>6480</td>\n",
              "      <td>45</td>\n",
              "      <td>0.0</td>\n",
              "      <td>0</td>\n",
              "      <td>No</td>\n",
              "      <td>54</td>\n",
              "      <td>0.712205</td>\n",
              "    </tr>\n",
              "    <tr>\n",
              "      <th>12</th>\n",
              "      <td>01/01/2015</td>\n",
              "      <td>Quarter1</td>\n",
              "      <td>sweing</td>\n",
              "      <td>Thursday</td>\n",
              "      <td>5</td>\n",
              "      <td>0.80</td>\n",
              "      <td>11.41</td>\n",
              "      <td>17346.0</td>\n",
              "      <td>668.0</td>\n",
              "      <td>3660</td>\n",
              "      <td>50</td>\n",
              "      <td>0.0</td>\n",
              "      <td>0</td>\n",
              "      <td>No</td>\n",
              "      <td>31</td>\n",
              "      <td>0.707046</td>\n",
              "    </tr>\n",
              "    <tr>\n",
              "      <th>13</th>\n",
              "      <td>01/01/2015</td>\n",
              "      <td>Quarter1</td>\n",
              "      <td>finishing</td>\n",
              "      <td>Thursday</td>\n",
              "      <td>10</td>\n",
              "      <td>0.65</td>\n",
              "      <td>3.94</td>\n",
              "      <td>14021.0</td>\n",
              "      <td>NaN</td>\n",
              "      <td>960</td>\n",
              "      <td>0</td>\n",
              "      <td>0.0</td>\n",
              "      <td>0</td>\n",
              "      <td>No</td>\n",
              "      <td>8</td>\n",
              "      <td>0.705917</td>\n",
              "    </tr>\n",
              "    <tr>\n",
              "      <th>14</th>\n",
              "      <td>01/01/2015</td>\n",
              "      <td>Quarter1</td>\n",
              "      <td>finishing</td>\n",
              "      <td>Thursday</td>\n",
              "      <td>8</td>\n",
              "      <td>0.75</td>\n",
              "      <td>2.90</td>\n",
              "      <td>14159.0</td>\n",
              "      <td>NaN</td>\n",
              "      <td>960</td>\n",
              "      <td>0</td>\n",
              "      <td>0.0</td>\n",
              "      <td>0</td>\n",
              "      <td>No</td>\n",
              "      <td>8</td>\n",
              "      <td>0.676667</td>\n",
              "    </tr>\n",
              "    <tr>\n",
              "      <th>15</th>\n",
              "      <td>01/01/2015</td>\n",
              "      <td>Quarter1</td>\n",
              "      <td>finishing</td>\n",
              "      <td>Thursday</td>\n",
              "      <td>4</td>\n",
              "      <td>0.75</td>\n",
              "      <td>3.94</td>\n",
              "      <td>22607.0</td>\n",
              "      <td>NaN</td>\n",
              "      <td>2160</td>\n",
              "      <td>0</td>\n",
              "      <td>0.0</td>\n",
              "      <td>0</td>\n",
              "      <td>No</td>\n",
              "      <td>18</td>\n",
              "      <td>0.593056</td>\n",
              "    </tr>\n",
              "    <tr>\n",
              "      <th>17</th>\n",
              "      <td>01/01/2015</td>\n",
              "      <td>Quarter1</td>\n",
              "      <td>sweing</td>\n",
              "      <td>Thursday</td>\n",
              "      <td>4</td>\n",
              "      <td>0.65</td>\n",
              "      <td>23.69</td>\n",
              "      <td>11997.0</td>\n",
              "      <td>861.0</td>\n",
              "      <td>7200</td>\n",
              "      <td>0</td>\n",
              "      <td>0.0</td>\n",
              "      <td>0</td>\n",
              "      <td>No</td>\n",
              "      <td>60</td>\n",
              "      <td>0.521180</td>\n",
              "    </tr>\n",
              "    <tr>\n",
              "      <th>18</th>\n",
              "      <td>01/01/2015</td>\n",
              "      <td>Quarter1</td>\n",
              "      <td>finishing</td>\n",
              "      <td>Thursday</td>\n",
              "      <td>11</td>\n",
              "      <td>0.70</td>\n",
              "      <td>4.15</td>\n",
              "      <td>11579.0</td>\n",
              "      <td>NaN</td>\n",
              "      <td>1440</td>\n",
              "      <td>0</td>\n",
              "      <td>0.0</td>\n",
              "      <td>0</td>\n",
              "      <td>No</td>\n",
              "      <td>12</td>\n",
              "      <td>0.436326</td>\n",
              "    </tr>\n",
              "    <tr>\n",
              "      <th>19</th>\n",
              "      <td>01/03/2015</td>\n",
              "      <td>Quarter1</td>\n",
              "      <td>finishing</td>\n",
              "      <td>Saturday</td>\n",
              "      <td>4</td>\n",
              "      <td>0.80</td>\n",
              "      <td>4.15</td>\n",
              "      <td>16000.0</td>\n",
              "      <td>NaN</td>\n",
              "      <td>6600</td>\n",
              "      <td>0</td>\n",
              "      <td>0.0</td>\n",
              "      <td>0</td>\n",
              "      <td>No</td>\n",
              "      <td>20</td>\n",
              "      <td>0.988025</td>\n",
              "    </tr>\n",
              "    <tr>\n",
              "      <th>20</th>\n",
              "      <td>01/03/2015</td>\n",
              "      <td>Quarter1</td>\n",
              "      <td>finishing</td>\n",
              "      <td>Saturday</td>\n",
              "      <td>11</td>\n",
              "      <td>0.75</td>\n",
              "      <td>2.90</td>\n",
              "      <td>162.0</td>\n",
              "      <td>NaN</td>\n",
              "      <td>5640</td>\n",
              "      <td>0</td>\n",
              "      <td>0.0</td>\n",
              "      <td>0</td>\n",
              "      <td>No</td>\n",
              "      <td>17</td>\n",
              "      <td>0.987880</td>\n",
              "    </tr>\n",
              "  </tbody>\n",
              "</table>\n",
              "</div>\n",
              "      <button class=\"colab-df-convert\" onclick=\"convertToInteractive('df-495158fe-ba3f-460d-a674-c72017cbcf31')\"\n",
              "              title=\"Convert this dataframe to an interactive table.\"\n",
              "              style=\"display:none;\">\n",
              "        \n",
              "  <svg xmlns=\"http://www.w3.org/2000/svg\" height=\"24px\"viewBox=\"0 0 24 24\"\n",
              "       width=\"24px\">\n",
              "    <path d=\"M0 0h24v24H0V0z\" fill=\"none\"/>\n",
              "    <path d=\"M18.56 5.44l.94 2.06.94-2.06 2.06-.94-2.06-.94-.94-2.06-.94 2.06-2.06.94zm-11 1L8.5 8.5l.94-2.06 2.06-.94-2.06-.94L8.5 2.5l-.94 2.06-2.06.94zm10 10l.94 2.06.94-2.06 2.06-.94-2.06-.94-.94-2.06-.94 2.06-2.06.94z\"/><path d=\"M17.41 7.96l-1.37-1.37c-.4-.4-.92-.59-1.43-.59-.52 0-1.04.2-1.43.59L10.3 9.45l-7.72 7.72c-.78.78-.78 2.05 0 2.83L4 21.41c.39.39.9.59 1.41.59.51 0 1.02-.2 1.41-.59l7.78-7.78 2.81-2.81c.8-.78.8-2.07 0-2.86zM5.41 20L4 18.59l7.72-7.72 1.47 1.35L5.41 20z\"/>\n",
              "  </svg>\n",
              "      </button>\n",
              "      \n",
              "  <style>\n",
              "    .colab-df-container {\n",
              "      display:flex;\n",
              "      flex-wrap:wrap;\n",
              "      gap: 12px;\n",
              "    }\n",
              "\n",
              "    .colab-df-convert {\n",
              "      background-color: #E8F0FE;\n",
              "      border: none;\n",
              "      border-radius: 50%;\n",
              "      cursor: pointer;\n",
              "      display: none;\n",
              "      fill: #1967D2;\n",
              "      height: 32px;\n",
              "      padding: 0 0 0 0;\n",
              "      width: 32px;\n",
              "    }\n",
              "\n",
              "    .colab-df-convert:hover {\n",
              "      background-color: #E2EBFA;\n",
              "      box-shadow: 0px 1px 2px rgba(60, 64, 67, 0.3), 0px 1px 3px 1px rgba(60, 64, 67, 0.15);\n",
              "      fill: #174EA6;\n",
              "    }\n",
              "\n",
              "    [theme=dark] .colab-df-convert {\n",
              "      background-color: #3B4455;\n",
              "      fill: #D2E3FC;\n",
              "    }\n",
              "\n",
              "    [theme=dark] .colab-df-convert:hover {\n",
              "      background-color: #434B5C;\n",
              "      box-shadow: 0px 1px 3px 1px rgba(0, 0, 0, 0.15);\n",
              "      filter: drop-shadow(0px 1px 2px rgba(0, 0, 0, 0.3));\n",
              "      fill: #FFFFFF;\n",
              "    }\n",
              "  </style>\n",
              "\n",
              "      <script>\n",
              "        const buttonEl =\n",
              "          document.querySelector('#df-495158fe-ba3f-460d-a674-c72017cbcf31 button.colab-df-convert');\n",
              "        buttonEl.style.display =\n",
              "          google.colab.kernel.accessAllowed ? 'block' : 'none';\n",
              "\n",
              "        async function convertToInteractive(key) {\n",
              "          const element = document.querySelector('#df-495158fe-ba3f-460d-a674-c72017cbcf31');\n",
              "          const dataTable =\n",
              "            await google.colab.kernel.invokeFunction('convertToInteractive',\n",
              "                                                     [key], {});\n",
              "          if (!dataTable) return;\n",
              "\n",
              "          const docLinkHtml = 'Like what you see? Visit the ' +\n",
              "            '<a target=\"_blank\" href=https://colab.research.google.com/notebooks/data_table.ipynb>data table notebook</a>'\n",
              "            + ' to learn more about interactive tables.';\n",
              "          element.innerHTML = '';\n",
              "          dataTable['output_type'] = 'display_data';\n",
              "          await google.colab.output.renderOutput(dataTable, element);\n",
              "          const docLink = document.createElement('div');\n",
              "          docLink.innerHTML = docLinkHtml;\n",
              "          element.appendChild(docLink);\n",
              "        }\n",
              "      </script>\n",
              "    </div>\n",
              "  </div>\n",
              "  "
            ]
          },
          "metadata": {},
          "execution_count": 156
        }
      ]
    },
    {
      "cell_type": "markdown",
      "source": [
        "# **EDA**"
      ],
      "metadata": {
        "id": "rGVZnDzVa6Bv"
      }
    },
    {
      "cell_type": "code",
      "source": [
        "df.describe()"
      ],
      "metadata": {
        "colab": {
          "base_uri": "https://localhost:8080/",
          "height": 364
        },
        "id": "MICXHaZ_aUYX",
        "outputId": "9f0ed45f-c1fe-4b54-fd67-9d6936be4712"
      },
      "execution_count": 157,
      "outputs": [
        {
          "output_type": "execute_result",
          "data": {
            "text/plain": [
              "              team  targeted_productivity          smv    total_work  \\\n",
              "count  1189.000000             695.000000  1189.000000   1159.000000   \n",
              "mean      6.422204               0.735612    15.103423  13163.078516   \n",
              "std       3.463136               0.093762    10.954751   7291.904668   \n",
              "min       1.000000               0.350000     2.900000     12.000000   \n",
              "25%       3.000000               0.700000     3.940000   6491.000000   \n",
              "50%       6.000000               0.750000    15.260000  13469.000000   \n",
              "75%       9.000000               0.800000    24.260000  19752.000000   \n",
              "max      12.000000               0.800000    54.560000  24979.000000   \n",
              "\n",
              "                wip   incentive    idle_time     idle_men  no_of_workers  \\\n",
              "count    688.000000  1189.00000  1189.000000  1189.000000    1189.000000   \n",
              "mean    1189.373547    38.39529     0.735071     0.371741      34.737595   \n",
              "std     1841.236654   160.69581    12.752337     3.279835      22.251662   \n",
              "min        7.000000     0.00000     0.000000     0.000000       2.000000   \n",
              "25%      772.750000     0.00000     0.000000     0.000000       9.000000   \n",
              "50%     1039.000000     0.00000     0.000000     0.000000      34.000000   \n",
              "75%     1250.250000    50.00000     0.000000     0.000000      57.000000   \n",
              "max    23122.000000  3600.00000   300.000000    45.000000      89.000000   \n",
              "\n",
              "       actual_productivity  \n",
              "count          1189.000000  \n",
              "mean              0.735347  \n",
              "std               0.174332  \n",
              "min               0.233705  \n",
              "25%               0.650417  \n",
              "50%               0.773333  \n",
              "75%               0.850253  \n",
              "max               1.120437  "
            ],
            "text/html": [
              "\n",
              "  <div id=\"df-ea4b048c-b907-4342-819b-e2c00b54ecda\">\n",
              "    <div class=\"colab-df-container\">\n",
              "      <div>\n",
              "<style scoped>\n",
              "    .dataframe tbody tr th:only-of-type {\n",
              "        vertical-align: middle;\n",
              "    }\n",
              "\n",
              "    .dataframe tbody tr th {\n",
              "        vertical-align: top;\n",
              "    }\n",
              "\n",
              "    .dataframe thead th {\n",
              "        text-align: right;\n",
              "    }\n",
              "</style>\n",
              "<table border=\"1\" class=\"dataframe\">\n",
              "  <thead>\n",
              "    <tr style=\"text-align: right;\">\n",
              "      <th></th>\n",
              "      <th>team</th>\n",
              "      <th>targeted_productivity</th>\n",
              "      <th>smv</th>\n",
              "      <th>total_work</th>\n",
              "      <th>wip</th>\n",
              "      <th>incentive</th>\n",
              "      <th>idle_time</th>\n",
              "      <th>idle_men</th>\n",
              "      <th>no_of_workers</th>\n",
              "      <th>actual_productivity</th>\n",
              "    </tr>\n",
              "  </thead>\n",
              "  <tbody>\n",
              "    <tr>\n",
              "      <th>count</th>\n",
              "      <td>1189.000000</td>\n",
              "      <td>695.000000</td>\n",
              "      <td>1189.000000</td>\n",
              "      <td>1159.000000</td>\n",
              "      <td>688.000000</td>\n",
              "      <td>1189.00000</td>\n",
              "      <td>1189.000000</td>\n",
              "      <td>1189.000000</td>\n",
              "      <td>1189.000000</td>\n",
              "      <td>1189.000000</td>\n",
              "    </tr>\n",
              "    <tr>\n",
              "      <th>mean</th>\n",
              "      <td>6.422204</td>\n",
              "      <td>0.735612</td>\n",
              "      <td>15.103423</td>\n",
              "      <td>13163.078516</td>\n",
              "      <td>1189.373547</td>\n",
              "      <td>38.39529</td>\n",
              "      <td>0.735071</td>\n",
              "      <td>0.371741</td>\n",
              "      <td>34.737595</td>\n",
              "      <td>0.735347</td>\n",
              "    </tr>\n",
              "    <tr>\n",
              "      <th>std</th>\n",
              "      <td>3.463136</td>\n",
              "      <td>0.093762</td>\n",
              "      <td>10.954751</td>\n",
              "      <td>7291.904668</td>\n",
              "      <td>1841.236654</td>\n",
              "      <td>160.69581</td>\n",
              "      <td>12.752337</td>\n",
              "      <td>3.279835</td>\n",
              "      <td>22.251662</td>\n",
              "      <td>0.174332</td>\n",
              "    </tr>\n",
              "    <tr>\n",
              "      <th>min</th>\n",
              "      <td>1.000000</td>\n",
              "      <td>0.350000</td>\n",
              "      <td>2.900000</td>\n",
              "      <td>12.000000</td>\n",
              "      <td>7.000000</td>\n",
              "      <td>0.00000</td>\n",
              "      <td>0.000000</td>\n",
              "      <td>0.000000</td>\n",
              "      <td>2.000000</td>\n",
              "      <td>0.233705</td>\n",
              "    </tr>\n",
              "    <tr>\n",
              "      <th>25%</th>\n",
              "      <td>3.000000</td>\n",
              "      <td>0.700000</td>\n",
              "      <td>3.940000</td>\n",
              "      <td>6491.000000</td>\n",
              "      <td>772.750000</td>\n",
              "      <td>0.00000</td>\n",
              "      <td>0.000000</td>\n",
              "      <td>0.000000</td>\n",
              "      <td>9.000000</td>\n",
              "      <td>0.650417</td>\n",
              "    </tr>\n",
              "    <tr>\n",
              "      <th>50%</th>\n",
              "      <td>6.000000</td>\n",
              "      <td>0.750000</td>\n",
              "      <td>15.260000</td>\n",
              "      <td>13469.000000</td>\n",
              "      <td>1039.000000</td>\n",
              "      <td>0.00000</td>\n",
              "      <td>0.000000</td>\n",
              "      <td>0.000000</td>\n",
              "      <td>34.000000</td>\n",
              "      <td>0.773333</td>\n",
              "    </tr>\n",
              "    <tr>\n",
              "      <th>75%</th>\n",
              "      <td>9.000000</td>\n",
              "      <td>0.800000</td>\n",
              "      <td>24.260000</td>\n",
              "      <td>19752.000000</td>\n",
              "      <td>1250.250000</td>\n",
              "      <td>50.00000</td>\n",
              "      <td>0.000000</td>\n",
              "      <td>0.000000</td>\n",
              "      <td>57.000000</td>\n",
              "      <td>0.850253</td>\n",
              "    </tr>\n",
              "    <tr>\n",
              "      <th>max</th>\n",
              "      <td>12.000000</td>\n",
              "      <td>0.800000</td>\n",
              "      <td>54.560000</td>\n",
              "      <td>24979.000000</td>\n",
              "      <td>23122.000000</td>\n",
              "      <td>3600.00000</td>\n",
              "      <td>300.000000</td>\n",
              "      <td>45.000000</td>\n",
              "      <td>89.000000</td>\n",
              "      <td>1.120437</td>\n",
              "    </tr>\n",
              "  </tbody>\n",
              "</table>\n",
              "</div>\n",
              "      <button class=\"colab-df-convert\" onclick=\"convertToInteractive('df-ea4b048c-b907-4342-819b-e2c00b54ecda')\"\n",
              "              title=\"Convert this dataframe to an interactive table.\"\n",
              "              style=\"display:none;\">\n",
              "        \n",
              "  <svg xmlns=\"http://www.w3.org/2000/svg\" height=\"24px\"viewBox=\"0 0 24 24\"\n",
              "       width=\"24px\">\n",
              "    <path d=\"M0 0h24v24H0V0z\" fill=\"none\"/>\n",
              "    <path d=\"M18.56 5.44l.94 2.06.94-2.06 2.06-.94-2.06-.94-.94-2.06-.94 2.06-2.06.94zm-11 1L8.5 8.5l.94-2.06 2.06-.94-2.06-.94L8.5 2.5l-.94 2.06-2.06.94zm10 10l.94 2.06.94-2.06 2.06-.94-2.06-.94-.94-2.06-.94 2.06-2.06.94z\"/><path d=\"M17.41 7.96l-1.37-1.37c-.4-.4-.92-.59-1.43-.59-.52 0-1.04.2-1.43.59L10.3 9.45l-7.72 7.72c-.78.78-.78 2.05 0 2.83L4 21.41c.39.39.9.59 1.41.59.51 0 1.02-.2 1.41-.59l7.78-7.78 2.81-2.81c.8-.78.8-2.07 0-2.86zM5.41 20L4 18.59l7.72-7.72 1.47 1.35L5.41 20z\"/>\n",
              "  </svg>\n",
              "      </button>\n",
              "      \n",
              "  <style>\n",
              "    .colab-df-container {\n",
              "      display:flex;\n",
              "      flex-wrap:wrap;\n",
              "      gap: 12px;\n",
              "    }\n",
              "\n",
              "    .colab-df-convert {\n",
              "      background-color: #E8F0FE;\n",
              "      border: none;\n",
              "      border-radius: 50%;\n",
              "      cursor: pointer;\n",
              "      display: none;\n",
              "      fill: #1967D2;\n",
              "      height: 32px;\n",
              "      padding: 0 0 0 0;\n",
              "      width: 32px;\n",
              "    }\n",
              "\n",
              "    .colab-df-convert:hover {\n",
              "      background-color: #E2EBFA;\n",
              "      box-shadow: 0px 1px 2px rgba(60, 64, 67, 0.3), 0px 1px 3px 1px rgba(60, 64, 67, 0.15);\n",
              "      fill: #174EA6;\n",
              "    }\n",
              "\n",
              "    [theme=dark] .colab-df-convert {\n",
              "      background-color: #3B4455;\n",
              "      fill: #D2E3FC;\n",
              "    }\n",
              "\n",
              "    [theme=dark] .colab-df-convert:hover {\n",
              "      background-color: #434B5C;\n",
              "      box-shadow: 0px 1px 3px 1px rgba(0, 0, 0, 0.15);\n",
              "      filter: drop-shadow(0px 1px 2px rgba(0, 0, 0, 0.3));\n",
              "      fill: #FFFFFF;\n",
              "    }\n",
              "  </style>\n",
              "\n",
              "      <script>\n",
              "        const buttonEl =\n",
              "          document.querySelector('#df-ea4b048c-b907-4342-819b-e2c00b54ecda button.colab-df-convert');\n",
              "        buttonEl.style.display =\n",
              "          google.colab.kernel.accessAllowed ? 'block' : 'none';\n",
              "\n",
              "        async function convertToInteractive(key) {\n",
              "          const element = document.querySelector('#df-ea4b048c-b907-4342-819b-e2c00b54ecda');\n",
              "          const dataTable =\n",
              "            await google.colab.kernel.invokeFunction('convertToInteractive',\n",
              "                                                     [key], {});\n",
              "          if (!dataTable) return;\n",
              "\n",
              "          const docLinkHtml = 'Like what you see? Visit the ' +\n",
              "            '<a target=\"_blank\" href=https://colab.research.google.com/notebooks/data_table.ipynb>data table notebook</a>'\n",
              "            + ' to learn more about interactive tables.';\n",
              "          element.innerHTML = '';\n",
              "          dataTable['output_type'] = 'display_data';\n",
              "          await google.colab.output.renderOutput(dataTable, element);\n",
              "          const docLink = document.createElement('div');\n",
              "          docLink.innerHTML = docLinkHtml;\n",
              "          element.appendChild(docLink);\n",
              "        }\n",
              "      </script>\n",
              "    </div>\n",
              "  </div>\n",
              "  "
            ]
          },
          "metadata": {},
          "execution_count": 157
        }
      ]
    },
    {
      "cell_type": "code",
      "source": [
        "df.describe(include='object')"
      ],
      "metadata": {
        "colab": {
          "base_uri": "https://localhost:8080/",
          "height": 175
        },
        "id": "gtoJiGWza9j5",
        "outputId": "21c93b9e-7b55-42c9-d5fd-03effb771e5f"
      },
      "execution_count": 158,
      "outputs": [
        {
          "output_type": "execute_result",
          "data": {
            "text/plain": [
              "              date   quarter department        day over_time  \\\n",
              "count         1189      1189       1171       1189      1159   \n",
              "unique          59         5          2          6       138   \n",
              "top     03/11/2015  Quarter1     sweing  Wednesday       960   \n",
              "freq            24       358        676        208       126   \n",
              "\n",
              "       no_of_style_change  \n",
              "count                1189  \n",
              "unique                  2  \n",
              "top                    No  \n",
              "freq                  722  "
            ],
            "text/html": [
              "\n",
              "  <div id=\"df-3e8cc2a7-34fe-4daf-8093-5f094e41efa1\">\n",
              "    <div class=\"colab-df-container\">\n",
              "      <div>\n",
              "<style scoped>\n",
              "    .dataframe tbody tr th:only-of-type {\n",
              "        vertical-align: middle;\n",
              "    }\n",
              "\n",
              "    .dataframe tbody tr th {\n",
              "        vertical-align: top;\n",
              "    }\n",
              "\n",
              "    .dataframe thead th {\n",
              "        text-align: right;\n",
              "    }\n",
              "</style>\n",
              "<table border=\"1\" class=\"dataframe\">\n",
              "  <thead>\n",
              "    <tr style=\"text-align: right;\">\n",
              "      <th></th>\n",
              "      <th>date</th>\n",
              "      <th>quarter</th>\n",
              "      <th>department</th>\n",
              "      <th>day</th>\n",
              "      <th>over_time</th>\n",
              "      <th>no_of_style_change</th>\n",
              "    </tr>\n",
              "  </thead>\n",
              "  <tbody>\n",
              "    <tr>\n",
              "      <th>count</th>\n",
              "      <td>1189</td>\n",
              "      <td>1189</td>\n",
              "      <td>1171</td>\n",
              "      <td>1189</td>\n",
              "      <td>1159</td>\n",
              "      <td>1189</td>\n",
              "    </tr>\n",
              "    <tr>\n",
              "      <th>unique</th>\n",
              "      <td>59</td>\n",
              "      <td>5</td>\n",
              "      <td>2</td>\n",
              "      <td>6</td>\n",
              "      <td>138</td>\n",
              "      <td>2</td>\n",
              "    </tr>\n",
              "    <tr>\n",
              "      <th>top</th>\n",
              "      <td>03/11/2015</td>\n",
              "      <td>Quarter1</td>\n",
              "      <td>sweing</td>\n",
              "      <td>Wednesday</td>\n",
              "      <td>960</td>\n",
              "      <td>No</td>\n",
              "    </tr>\n",
              "    <tr>\n",
              "      <th>freq</th>\n",
              "      <td>24</td>\n",
              "      <td>358</td>\n",
              "      <td>676</td>\n",
              "      <td>208</td>\n",
              "      <td>126</td>\n",
              "      <td>722</td>\n",
              "    </tr>\n",
              "  </tbody>\n",
              "</table>\n",
              "</div>\n",
              "      <button class=\"colab-df-convert\" onclick=\"convertToInteractive('df-3e8cc2a7-34fe-4daf-8093-5f094e41efa1')\"\n",
              "              title=\"Convert this dataframe to an interactive table.\"\n",
              "              style=\"display:none;\">\n",
              "        \n",
              "  <svg xmlns=\"http://www.w3.org/2000/svg\" height=\"24px\"viewBox=\"0 0 24 24\"\n",
              "       width=\"24px\">\n",
              "    <path d=\"M0 0h24v24H0V0z\" fill=\"none\"/>\n",
              "    <path d=\"M18.56 5.44l.94 2.06.94-2.06 2.06-.94-2.06-.94-.94-2.06-.94 2.06-2.06.94zm-11 1L8.5 8.5l.94-2.06 2.06-.94-2.06-.94L8.5 2.5l-.94 2.06-2.06.94zm10 10l.94 2.06.94-2.06 2.06-.94-2.06-.94-.94-2.06-.94 2.06-2.06.94z\"/><path d=\"M17.41 7.96l-1.37-1.37c-.4-.4-.92-.59-1.43-.59-.52 0-1.04.2-1.43.59L10.3 9.45l-7.72 7.72c-.78.78-.78 2.05 0 2.83L4 21.41c.39.39.9.59 1.41.59.51 0 1.02-.2 1.41-.59l7.78-7.78 2.81-2.81c.8-.78.8-2.07 0-2.86zM5.41 20L4 18.59l7.72-7.72 1.47 1.35L5.41 20z\"/>\n",
              "  </svg>\n",
              "      </button>\n",
              "      \n",
              "  <style>\n",
              "    .colab-df-container {\n",
              "      display:flex;\n",
              "      flex-wrap:wrap;\n",
              "      gap: 12px;\n",
              "    }\n",
              "\n",
              "    .colab-df-convert {\n",
              "      background-color: #E8F0FE;\n",
              "      border: none;\n",
              "      border-radius: 50%;\n",
              "      cursor: pointer;\n",
              "      display: none;\n",
              "      fill: #1967D2;\n",
              "      height: 32px;\n",
              "      padding: 0 0 0 0;\n",
              "      width: 32px;\n",
              "    }\n",
              "\n",
              "    .colab-df-convert:hover {\n",
              "      background-color: #E2EBFA;\n",
              "      box-shadow: 0px 1px 2px rgba(60, 64, 67, 0.3), 0px 1px 3px 1px rgba(60, 64, 67, 0.15);\n",
              "      fill: #174EA6;\n",
              "    }\n",
              "\n",
              "    [theme=dark] .colab-df-convert {\n",
              "      background-color: #3B4455;\n",
              "      fill: #D2E3FC;\n",
              "    }\n",
              "\n",
              "    [theme=dark] .colab-df-convert:hover {\n",
              "      background-color: #434B5C;\n",
              "      box-shadow: 0px 1px 3px 1px rgba(0, 0, 0, 0.15);\n",
              "      filter: drop-shadow(0px 1px 2px rgba(0, 0, 0, 0.3));\n",
              "      fill: #FFFFFF;\n",
              "    }\n",
              "  </style>\n",
              "\n",
              "      <script>\n",
              "        const buttonEl =\n",
              "          document.querySelector('#df-3e8cc2a7-34fe-4daf-8093-5f094e41efa1 button.colab-df-convert');\n",
              "        buttonEl.style.display =\n",
              "          google.colab.kernel.accessAllowed ? 'block' : 'none';\n",
              "\n",
              "        async function convertToInteractive(key) {\n",
              "          const element = document.querySelector('#df-3e8cc2a7-34fe-4daf-8093-5f094e41efa1');\n",
              "          const dataTable =\n",
              "            await google.colab.kernel.invokeFunction('convertToInteractive',\n",
              "                                                     [key], {});\n",
              "          if (!dataTable) return;\n",
              "\n",
              "          const docLinkHtml = 'Like what you see? Visit the ' +\n",
              "            '<a target=\"_blank\" href=https://colab.research.google.com/notebooks/data_table.ipynb>data table notebook</a>'\n",
              "            + ' to learn more about interactive tables.';\n",
              "          element.innerHTML = '';\n",
              "          dataTable['output_type'] = 'display_data';\n",
              "          await google.colab.output.renderOutput(dataTable, element);\n",
              "          const docLink = document.createElement('div');\n",
              "          docLink.innerHTML = docLinkHtml;\n",
              "          element.appendChild(docLink);\n",
              "        }\n",
              "      </script>\n",
              "    </div>\n",
              "  </div>\n",
              "  "
            ]
          },
          "metadata": {},
          "execution_count": 158
        }
      ]
    },
    {
      "cell_type": "markdown",
      "source": [
        "# **Missing value treatment**"
      ],
      "metadata": {
        "id": "Du4RA4ChcTOY"
      }
    },
    {
      "cell_type": "code",
      "source": [
        "df.isnull().sum()"
      ],
      "metadata": {
        "colab": {
          "base_uri": "https://localhost:8080/"
        },
        "id": "k2ZsPMaWbASw",
        "outputId": "9624c75c-dba4-4625-e9dd-d1e7eb912054"
      },
      "execution_count": 159,
      "outputs": [
        {
          "output_type": "execute_result",
          "data": {
            "text/plain": [
              "date                       0\n",
              "quarter                    0\n",
              "department                18\n",
              "day                        0\n",
              "team                       0\n",
              "targeted_productivity    494\n",
              "smv                        0\n",
              "total_work                30\n",
              "wip                      501\n",
              "over_time                 30\n",
              "incentive                  0\n",
              "idle_time                  0\n",
              "idle_men                   0\n",
              "no_of_style_change         0\n",
              "no_of_workers              0\n",
              "actual_productivity        0\n",
              "dtype: int64"
            ]
          },
          "metadata": {},
          "execution_count": 159
        }
      ]
    },
    {
      "cell_type": "code",
      "source": [
        "df['department']=df['department'].fillna(df['department'].mode()[0])\n",
        "df['targeted_productivity']=df['targeted_productivity'].fillna(df['targeted_productivity'].median())\n",
        "df['wip']=df['wip'].fillna(df['wip'].median())\n",
        "df['over_time']=df['over_time'].fillna(df['over_time'].median())\n",
        "df['total_work']=df['total_work'].fillna(df['total_work'].median())"
      ],
      "metadata": {
        "id": "jse8vBGSbGL5"
      },
      "execution_count": 160,
      "outputs": []
    },
    {
      "cell_type": "code",
      "source": [
        "df.isnull().sum()"
      ],
      "metadata": {
        "colab": {
          "base_uri": "https://localhost:8080/"
        },
        "id": "9NNdbiHObowQ",
        "outputId": "7d92b117-f14a-485b-bb37-9316ae4484a0"
      },
      "execution_count": 161,
      "outputs": [
        {
          "output_type": "execute_result",
          "data": {
            "text/plain": [
              "date                     0\n",
              "quarter                  0\n",
              "department               0\n",
              "day                      0\n",
              "team                     0\n",
              "targeted_productivity    0\n",
              "smv                      0\n",
              "total_work               0\n",
              "wip                      0\n",
              "over_time                0\n",
              "incentive                0\n",
              "idle_time                0\n",
              "idle_men                 0\n",
              "no_of_style_change       0\n",
              "no_of_workers            0\n",
              "actual_productivity      0\n",
              "dtype: int64"
            ]
          },
          "metadata": {},
          "execution_count": 161
        }
      ]
    },
    {
      "cell_type": "code",
      "source": [
        "df.dtypes"
      ],
      "metadata": {
        "colab": {
          "base_uri": "https://localhost:8080/"
        },
        "id": "Aq_r-c7sf0yq",
        "outputId": "52519338-37a5-4bd3-8779-d10c853f548c"
      },
      "execution_count": 162,
      "outputs": [
        {
          "output_type": "execute_result",
          "data": {
            "text/plain": [
              "date                      object\n",
              "quarter                   object\n",
              "department                object\n",
              "day                       object\n",
              "team                       int64\n",
              "targeted_productivity    float64\n",
              "smv                      float64\n",
              "total_work               float64\n",
              "wip                      float64\n",
              "over_time                 object\n",
              "incentive                  int64\n",
              "idle_time                float64\n",
              "idle_men                   int64\n",
              "no_of_style_change        object\n",
              "no_of_workers              int64\n",
              "actual_productivity      float64\n",
              "dtype: object"
            ]
          },
          "metadata": {},
          "execution_count": 162
        }
      ]
    },
    {
      "cell_type": "code",
      "source": [
        "df['over_time']=df['over_time'].astype(int)"
      ],
      "metadata": {
        "id": "GPU4_WhifWbz"
      },
      "execution_count": 163,
      "outputs": []
    },
    {
      "cell_type": "code",
      "source": [
        "df['over_time'].dtypes #its converted to int"
      ],
      "metadata": {
        "colab": {
          "base_uri": "https://localhost:8080/"
        },
        "id": "4wKQfYpyf4TS",
        "outputId": "dbf89ec2-52b6-40d7-dc0a-9003358c424e"
      },
      "execution_count": 164,
      "outputs": [
        {
          "output_type": "execute_result",
          "data": {
            "text/plain": [
              "dtype('int64')"
            ]
          },
          "metadata": {},
          "execution_count": 164
        }
      ]
    },
    {
      "cell_type": "markdown",
      "source": [
        "# **Outlier Check**"
      ],
      "metadata": {
        "id": "GvxTpKxLcVaI"
      }
    },
    {
      "cell_type": "code",
      "source": [
        "n_total = df.shape[0]\n",
        "cols = ['targeted_productivity', 'smv', 'total_work', 'wip', 'over_time', 'incentive', 'idle_time', 'idle_men', 'no_of_workers']\n",
        "\n",
        "df_out = pd.DataFrame(columns = ['Selected_Column', 'No_of_Outliers', 'No_of_Values', 'Outlier_Proportion'])\n",
        "\n",
        "for col in cols:\n",
        "    quartile_1, quartile_3 = np.percentile(df[col], [25, 75])\n",
        "    iqr = quartile_3 - quartile_1\n",
        "    lower_bound = quartile_1 - (iqr * 1.5)\n",
        "    upper_bound = quartile_3 + (iqr * 1.5)\n",
        "    temp = df[(df[col] < lower_bound) | (df[col]> upper_bound)]\n",
        "    n_outliers = temp.shape[0]\n",
        "    outlier_prop = (n_outliers/n_total)*100\n",
        "    df_out = df_out.append({'Selected_Column': col, 'No_of_Outliers': n_outliers, 'No_of_Values': n_total, 'Outlier_Proportion': outlier_prop}, ignore_index = True)\n",
        "\n",
        "display(df_out)"
      ],
      "metadata": {
        "colab": {
          "base_uri": "https://localhost:8080/",
          "height": 331
        },
        "id": "0ub-0IUacKfy",
        "outputId": "95474d84-9cb7-4711-e488-0579a69d07eb"
      },
      "execution_count": 165,
      "outputs": [
        {
          "output_type": "display_data",
          "data": {
            "text/plain": [
              "         Selected_Column No_of_Outliers No_of_Values  Outlier_Proportion\n",
              "0  targeted_productivity            105         1189            8.830950\n",
              "1                    smv              0         1189            0.000000\n",
              "2             total_work              0         1189            0.000000\n",
              "3                    wip            356         1189           29.941127\n",
              "4              over_time              2         1189            0.168209\n",
              "5              incentive             11         1189            0.925147\n",
              "6              idle_time             18         1189            1.513877\n",
              "7               idle_men             18         1189            1.513877\n",
              "8          no_of_workers              0         1189            0.000000"
            ],
            "text/html": [
              "\n",
              "  <div id=\"df-883bea36-a92c-4bfc-8d60-946c166e73db\">\n",
              "    <div class=\"colab-df-container\">\n",
              "      <div>\n",
              "<style scoped>\n",
              "    .dataframe tbody tr th:only-of-type {\n",
              "        vertical-align: middle;\n",
              "    }\n",
              "\n",
              "    .dataframe tbody tr th {\n",
              "        vertical-align: top;\n",
              "    }\n",
              "\n",
              "    .dataframe thead th {\n",
              "        text-align: right;\n",
              "    }\n",
              "</style>\n",
              "<table border=\"1\" class=\"dataframe\">\n",
              "  <thead>\n",
              "    <tr style=\"text-align: right;\">\n",
              "      <th></th>\n",
              "      <th>Selected_Column</th>\n",
              "      <th>No_of_Outliers</th>\n",
              "      <th>No_of_Values</th>\n",
              "      <th>Outlier_Proportion</th>\n",
              "    </tr>\n",
              "  </thead>\n",
              "  <tbody>\n",
              "    <tr>\n",
              "      <th>0</th>\n",
              "      <td>targeted_productivity</td>\n",
              "      <td>105</td>\n",
              "      <td>1189</td>\n",
              "      <td>8.830950</td>\n",
              "    </tr>\n",
              "    <tr>\n",
              "      <th>1</th>\n",
              "      <td>smv</td>\n",
              "      <td>0</td>\n",
              "      <td>1189</td>\n",
              "      <td>0.000000</td>\n",
              "    </tr>\n",
              "    <tr>\n",
              "      <th>2</th>\n",
              "      <td>total_work</td>\n",
              "      <td>0</td>\n",
              "      <td>1189</td>\n",
              "      <td>0.000000</td>\n",
              "    </tr>\n",
              "    <tr>\n",
              "      <th>3</th>\n",
              "      <td>wip</td>\n",
              "      <td>356</td>\n",
              "      <td>1189</td>\n",
              "      <td>29.941127</td>\n",
              "    </tr>\n",
              "    <tr>\n",
              "      <th>4</th>\n",
              "      <td>over_time</td>\n",
              "      <td>2</td>\n",
              "      <td>1189</td>\n",
              "      <td>0.168209</td>\n",
              "    </tr>\n",
              "    <tr>\n",
              "      <th>5</th>\n",
              "      <td>incentive</td>\n",
              "      <td>11</td>\n",
              "      <td>1189</td>\n",
              "      <td>0.925147</td>\n",
              "    </tr>\n",
              "    <tr>\n",
              "      <th>6</th>\n",
              "      <td>idle_time</td>\n",
              "      <td>18</td>\n",
              "      <td>1189</td>\n",
              "      <td>1.513877</td>\n",
              "    </tr>\n",
              "    <tr>\n",
              "      <th>7</th>\n",
              "      <td>idle_men</td>\n",
              "      <td>18</td>\n",
              "      <td>1189</td>\n",
              "      <td>1.513877</td>\n",
              "    </tr>\n",
              "    <tr>\n",
              "      <th>8</th>\n",
              "      <td>no_of_workers</td>\n",
              "      <td>0</td>\n",
              "      <td>1189</td>\n",
              "      <td>0.000000</td>\n",
              "    </tr>\n",
              "  </tbody>\n",
              "</table>\n",
              "</div>\n",
              "      <button class=\"colab-df-convert\" onclick=\"convertToInteractive('df-883bea36-a92c-4bfc-8d60-946c166e73db')\"\n",
              "              title=\"Convert this dataframe to an interactive table.\"\n",
              "              style=\"display:none;\">\n",
              "        \n",
              "  <svg xmlns=\"http://www.w3.org/2000/svg\" height=\"24px\"viewBox=\"0 0 24 24\"\n",
              "       width=\"24px\">\n",
              "    <path d=\"M0 0h24v24H0V0z\" fill=\"none\"/>\n",
              "    <path d=\"M18.56 5.44l.94 2.06.94-2.06 2.06-.94-2.06-.94-.94-2.06-.94 2.06-2.06.94zm-11 1L8.5 8.5l.94-2.06 2.06-.94-2.06-.94L8.5 2.5l-.94 2.06-2.06.94zm10 10l.94 2.06.94-2.06 2.06-.94-2.06-.94-.94-2.06-.94 2.06-2.06.94z\"/><path d=\"M17.41 7.96l-1.37-1.37c-.4-.4-.92-.59-1.43-.59-.52 0-1.04.2-1.43.59L10.3 9.45l-7.72 7.72c-.78.78-.78 2.05 0 2.83L4 21.41c.39.39.9.59 1.41.59.51 0 1.02-.2 1.41-.59l7.78-7.78 2.81-2.81c.8-.78.8-2.07 0-2.86zM5.41 20L4 18.59l7.72-7.72 1.47 1.35L5.41 20z\"/>\n",
              "  </svg>\n",
              "      </button>\n",
              "      \n",
              "  <style>\n",
              "    .colab-df-container {\n",
              "      display:flex;\n",
              "      flex-wrap:wrap;\n",
              "      gap: 12px;\n",
              "    }\n",
              "\n",
              "    .colab-df-convert {\n",
              "      background-color: #E8F0FE;\n",
              "      border: none;\n",
              "      border-radius: 50%;\n",
              "      cursor: pointer;\n",
              "      display: none;\n",
              "      fill: #1967D2;\n",
              "      height: 32px;\n",
              "      padding: 0 0 0 0;\n",
              "      width: 32px;\n",
              "    }\n",
              "\n",
              "    .colab-df-convert:hover {\n",
              "      background-color: #E2EBFA;\n",
              "      box-shadow: 0px 1px 2px rgba(60, 64, 67, 0.3), 0px 1px 3px 1px rgba(60, 64, 67, 0.15);\n",
              "      fill: #174EA6;\n",
              "    }\n",
              "\n",
              "    [theme=dark] .colab-df-convert {\n",
              "      background-color: #3B4455;\n",
              "      fill: #D2E3FC;\n",
              "    }\n",
              "\n",
              "    [theme=dark] .colab-df-convert:hover {\n",
              "      background-color: #434B5C;\n",
              "      box-shadow: 0px 1px 3px 1px rgba(0, 0, 0, 0.15);\n",
              "      filter: drop-shadow(0px 1px 2px rgba(0, 0, 0, 0.3));\n",
              "      fill: #FFFFFF;\n",
              "    }\n",
              "  </style>\n",
              "\n",
              "      <script>\n",
              "        const buttonEl =\n",
              "          document.querySelector('#df-883bea36-a92c-4bfc-8d60-946c166e73db button.colab-df-convert');\n",
              "        buttonEl.style.display =\n",
              "          google.colab.kernel.accessAllowed ? 'block' : 'none';\n",
              "\n",
              "        async function convertToInteractive(key) {\n",
              "          const element = document.querySelector('#df-883bea36-a92c-4bfc-8d60-946c166e73db');\n",
              "          const dataTable =\n",
              "            await google.colab.kernel.invokeFunction('convertToInteractive',\n",
              "                                                     [key], {});\n",
              "          if (!dataTable) return;\n",
              "\n",
              "          const docLinkHtml = 'Like what you see? Visit the ' +\n",
              "            '<a target=\"_blank\" href=https://colab.research.google.com/notebooks/data_table.ipynb>data table notebook</a>'\n",
              "            + ' to learn more about interactive tables.';\n",
              "          element.innerHTML = '';\n",
              "          dataTable['output_type'] = 'display_data';\n",
              "          await google.colab.output.renderOutput(dataTable, element);\n",
              "          const docLink = document.createElement('div');\n",
              "          docLink.innerHTML = docLinkHtml;\n",
              "          element.appendChild(docLink);\n",
              "        }\n",
              "      </script>\n",
              "    </div>\n",
              "  </div>\n",
              "  "
            ]
          },
          "metadata": {}
        }
      ]
    },
    {
      "cell_type": "code",
      "source": [
        "plt.rcParams[\"figure.figsize\"] = (10,8)\n",
        "sns.boxplot(df['wip'])\n",
        "plt.title('Box Plot of WIP')\n",
        "plt.show()\n"
      ],
      "metadata": {
        "colab": {
          "base_uri": "https://localhost:8080/",
          "height": 513
        },
        "id": "mtQ_axOeYpXZ",
        "outputId": "0ab4aa89-2558-4e6a-92ea-2931f012b023"
      },
      "execution_count": 166,
      "outputs": [
        {
          "output_type": "display_data",
          "data": {
            "text/plain": [
              "<Figure size 720x576 with 1 Axes>"
            ],
            "image/png": "[encoded data removed]"
          },
          "metadata": {
            "needs_background": "light"
          }
        }
      ]
    },
    {
      "cell_type": "code",
      "source": [
        "df[['wip','over_time']].plot(kind='box')\n",
        "plt.title('Box Plot of WIP and over time')\n",
        "plt.show()"
      ],
      "metadata": {
        "colab": {
          "base_uri": "https://localhost:8080/",
          "height": 500
        },
        "id": "OsqrxpG0hQLD",
        "outputId": "78946f1a-435b-4090-cfff-f72bcd6f5b49"
      },
      "execution_count": 167,
      "outputs": [
        {
          "output_type": "display_data",
          "data": {
            "text/plain": [
              "<Figure size 720x576 with 1 Axes>"
            ],
            "image/png": "[encoded data removed]"
          },
          "metadata": {
            "needs_background": "light"
          }
        }
      ]
    },
    {
      "cell_type": "code",
      "source": [
        "df[['incentive', 'idle_time', 'idle_men']].plot(kind='box', showmeans=True)\n",
        "plt.title('Box Plot of Incentive Idle Time and Idle Men')\n",
        "plt.show()"
      ],
      "metadata": {
        "colab": {
          "base_uri": "https://localhost:8080/",
          "height": 500
        },
        "id": "z8G-pPYjhx0s",
        "outputId": "cd669190-a6db-4c46-8bbe-376aae798cd8"
      },
      "execution_count": 168,
      "outputs": [
        {
          "output_type": "display_data",
          "data": {
            "text/plain": [
              "<Figure size 720x576 with 1 Axes>"
            ],
            "image/png": "[encoded data removed]"
          },
          "metadata": {
            "needs_background": "light"
          }
        }
      ]
    },
    {
      "cell_type": "markdown",
      "source": [
        "# **Outlier Treatment**"
      ],
      "metadata": {
        "id": "oLaw2bQnh5r1"
      }
    },
    {
      "cell_type": "code",
      "source": [
        "cols = ['targeted_productivity', 'over_time', 'wip', 'incentive', 'idle_time', 'idle_men']\n",
        "\n",
        "upp_bound = []\n",
        "low_bound = []\n",
        "for col in cols:\n",
        "  q1, q3 = np.percentile(df[col], [25, 75])\n",
        "  iqr = q3-q1\n",
        "  lower_bound = q1 - (iqr*1.5)\n",
        "  upper_bound = q3 + (iqr*1.5)\n",
        "  c1 = df[col] < lower_bound\n",
        "  c2 = df[col] > upper_bound\n",
        "  df.loc[c1, col] = lower_bound\n",
        "  df.loc[c2, col] = upper_bound\n",
        "  upp_bound.append(upper_bound)\n",
        "  low_bound.append(lower_bound)"
      ],
      "metadata": {
        "id": "JMj45BbWh7jL"
      },
      "execution_count": 169,
      "outputs": []
    },
    {
      "cell_type": "code",
      "source": [
        "n_total = df.shape[0]\n",
        "cols = ['targeted_productivity', 'smv', 'total_work', 'wip', 'over_time', 'incentive', 'idle_time', 'idle_men', 'no_of_workers']\n",
        "\n",
        "df_out = pd.DataFrame(columns = ['Selected_Column', 'No_of_Outliers', 'No_of_Values', 'Outlier_Proportion'])\n",
        "\n",
        "for col in cols:\n",
        "    quartile_1, quartile_3 = np.percentile(df[col], [25, 75])\n",
        "    iqr = quartile_3 - quartile_1\n",
        "    lower_bound = quartile_1 - (iqr * 1.5)\n",
        "    upper_bound = quartile_3 + (iqr * 1.5)\n",
        "    temp = df[(df[col] < lower_bound) | (df[col]> upper_bound)]\n",
        "    n_outliers = temp.shape[0]\n",
        "    outlier_prop = (n_outliers/n_total)*100\n",
        "    df_out = df_out.append({'Selected_Column': col, 'No_of_Outliers': n_outliers, 'No_of_Values': n_total, 'Outlier_Proportion': outlier_prop}, ignore_index = True)\n",
        "\n",
        "display(df_out)"
      ],
      "metadata": {
        "colab": {
          "base_uri": "https://localhost:8080/",
          "height": 331
        },
        "id": "mrsElrl6jQni",
        "outputId": "96a5634c-b4d8-4006-f631-5c2bd1e116f4"
      },
      "execution_count": 170,
      "outputs": [
        {
          "output_type": "display_data",
          "data": {
            "text/plain": [
              "         Selected_Column No_of_Outliers No_of_Values  Outlier_Proportion\n",
              "0  targeted_productivity              0         1189                 0.0\n",
              "1                    smv              0         1189                 0.0\n",
              "2             total_work              0         1189                 0.0\n",
              "3                    wip              0         1189                 0.0\n",
              "4              over_time              0         1189                 0.0\n",
              "5              incentive              0         1189                 0.0\n",
              "6              idle_time              0         1189                 0.0\n",
              "7               idle_men              0         1189                 0.0\n",
              "8          no_of_workers              0         1189                 0.0"
            ],
            "text/html": [
              "\n",
              "  <div id=\"df-a3a28fef-09b9-43a8-866c-f5151d1d3c64\">\n",
              "    <div class=\"colab-df-container\">\n",
              "      <div>\n",
              "<style scoped>\n",
              "    .dataframe tbody tr th:only-of-type {\n",
              "        vertical-align: middle;\n",
              "    }\n",
              "\n",
              "    .dataframe tbody tr th {\n",
              "        vertical-align: top;\n",
              "    }\n",
              "\n",
              "    .dataframe thead th {\n",
              "        text-align: right;\n",
              "    }\n",
              "</style>\n",
              "<table border=\"1\" class=\"dataframe\">\n",
              "  <thead>\n",
              "    <tr style=\"text-align: right;\">\n",
              "      <th></th>\n",
              "      <th>Selected_Column</th>\n",
              "      <th>No_of_Outliers</th>\n",
              "      <th>No_of_Values</th>\n",
              "      <th>Outlier_Proportion</th>\n",
              "    </tr>\n",
              "  </thead>\n",
              "  <tbody>\n",
              "    <tr>\n",
              "      <th>0</th>\n",
              "      <td>targeted_productivity</td>\n",
              "      <td>0</td>\n",
              "      <td>1189</td>\n",
              "      <td>0.0</td>\n",
              "    </tr>\n",
              "    <tr>\n",
              "      <th>1</th>\n",
              "      <td>smv</td>\n",
              "      <td>0</td>\n",
              "      <td>1189</td>\n",
              "      <td>0.0</td>\n",
              "    </tr>\n",
              "    <tr>\n",
              "      <th>2</th>\n",
              "      <td>total_work</td>\n",
              "      <td>0</td>\n",
              "      <td>1189</td>\n",
              "      <td>0.0</td>\n",
              "    </tr>\n",
              "    <tr>\n",
              "      <th>3</th>\n",
              "      <td>wip</td>\n",
              "      <td>0</td>\n",
              "      <td>1189</td>\n",
              "      <td>0.0</td>\n",
              "    </tr>\n",
              "    <tr>\n",
              "      <th>4</th>\n",
              "      <td>over_time</td>\n",
              "      <td>0</td>\n",
              "      <td>1189</td>\n",
              "      <td>0.0</td>\n",
              "    </tr>\n",
              "    <tr>\n",
              "      <th>5</th>\n",
              "      <td>incentive</td>\n",
              "      <td>0</td>\n",
              "      <td>1189</td>\n",
              "      <td>0.0</td>\n",
              "    </tr>\n",
              "    <tr>\n",
              "      <th>6</th>\n",
              "      <td>idle_time</td>\n",
              "      <td>0</td>\n",
              "      <td>1189</td>\n",
              "      <td>0.0</td>\n",
              "    </tr>\n",
              "    <tr>\n",
              "      <th>7</th>\n",
              "      <td>idle_men</td>\n",
              "      <td>0</td>\n",
              "      <td>1189</td>\n",
              "      <td>0.0</td>\n",
              "    </tr>\n",
              "    <tr>\n",
              "      <th>8</th>\n",
              "      <td>no_of_workers</td>\n",
              "      <td>0</td>\n",
              "      <td>1189</td>\n",
              "      <td>0.0</td>\n",
              "    </tr>\n",
              "  </tbody>\n",
              "</table>\n",
              "</div>\n",
              "      <button class=\"colab-df-convert\" onclick=\"convertToInteractive('df-a3a28fef-09b9-43a8-866c-f5151d1d3c64')\"\n",
              "              title=\"Convert this dataframe to an interactive table.\"\n",
              "              style=\"display:none;\">\n",
              "        \n",
              "  <svg xmlns=\"http://www.w3.org/2000/svg\" height=\"24px\"viewBox=\"0 0 24 24\"\n",
              "       width=\"24px\">\n",
              "    <path d=\"M0 0h24v24H0V0z\" fill=\"none\"/>\n",
              "    <path d=\"M18.56 5.44l.94 2.06.94-2.06 2.06-.94-2.06-.94-.94-2.06-.94 2.06-2.06.94zm-11 1L8.5 8.5l.94-2.06 2.06-.94-2.06-.94L8.5 2.5l-.94 2.06-2.06.94zm10 10l.94 2.06.94-2.06 2.06-.94-2.06-.94-.94-2.06-.94 2.06-2.06.94z\"/><path d=\"M17.41 7.96l-1.37-1.37c-.4-.4-.92-.59-1.43-.59-.52 0-1.04.2-1.43.59L10.3 9.45l-7.72 7.72c-.78.78-.78 2.05 0 2.83L4 21.41c.39.39.9.59 1.41.59.51 0 1.02-.2 1.41-.59l7.78-7.78 2.81-2.81c.8-.78.8-2.07 0-2.86zM5.41 20L4 18.59l7.72-7.72 1.47 1.35L5.41 20z\"/>\n",
              "  </svg>\n",
              "      </button>\n",
              "      \n",
              "  <style>\n",
              "    .colab-df-container {\n",
              "      display:flex;\n",
              "      flex-wrap:wrap;\n",
              "      gap: 12px;\n",
              "    }\n",
              "\n",
              "    .colab-df-convert {\n",
              "      background-color: #E8F0FE;\n",
              "      border: none;\n",
              "      border-radius: 50%;\n",
              "      cursor: pointer;\n",
              "      display: none;\n",
              "      fill: #1967D2;\n",
              "      height: 32px;\n",
              "      padding: 0 0 0 0;\n",
              "      width: 32px;\n",
              "    }\n",
              "\n",
              "    .colab-df-convert:hover {\n",
              "      background-color: #E2EBFA;\n",
              "      box-shadow: 0px 1px 2px rgba(60, 64, 67, 0.3), 0px 1px 3px 1px rgba(60, 64, 67, 0.15);\n",
              "      fill: #174EA6;\n",
              "    }\n",
              "\n",
              "    [theme=dark] .colab-df-convert {\n",
              "      background-color: #3B4455;\n",
              "      fill: #D2E3FC;\n",
              "    }\n",
              "\n",
              "    [theme=dark] .colab-df-convert:hover {\n",
              "      background-color: #434B5C;\n",
              "      box-shadow: 0px 1px 3px 1px rgba(0, 0, 0, 0.15);\n",
              "      filter: drop-shadow(0px 1px 2px rgba(0, 0, 0, 0.3));\n",
              "      fill: #FFFFFF;\n",
              "    }\n",
              "  </style>\n",
              "\n",
              "      <script>\n",
              "        const buttonEl =\n",
              "          document.querySelector('#df-a3a28fef-09b9-43a8-866c-f5151d1d3c64 button.colab-df-convert');\n",
              "        buttonEl.style.display =\n",
              "          google.colab.kernel.accessAllowed ? 'block' : 'none';\n",
              "\n",
              "        async function convertToInteractive(key) {\n",
              "          const element = document.querySelector('#df-a3a28fef-09b9-43a8-866c-f5151d1d3c64');\n",
              "          const dataTable =\n",
              "            await google.colab.kernel.invokeFunction('convertToInteractive',\n",
              "                                                     [key], {});\n",
              "          if (!dataTable) return;\n",
              "\n",
              "          const docLinkHtml = 'Like what you see? Visit the ' +\n",
              "            '<a target=\"_blank\" href=https://colab.research.google.com/notebooks/data_table.ipynb>data table notebook</a>'\n",
              "            + ' to learn more about interactive tables.';\n",
              "          element.innerHTML = '';\n",
              "          dataTable['output_type'] = 'display_data';\n",
              "          await google.colab.output.renderOutput(dataTable, element);\n",
              "          const docLink = document.createElement('div');\n",
              "          docLink.innerHTML = docLinkHtml;\n",
              "          element.appendChild(docLink);\n",
              "        }\n",
              "      </script>\n",
              "    </div>\n",
              "  </div>\n",
              "  "
            ]
          },
          "metadata": {}
        }
      ]
    },
    {
      "cell_type": "markdown",
      "source": [
        "# **Data Preprocessing**"
      ],
      "metadata": {
        "id": "PV_mKKp8wKdS"
      }
    },
    {
      "cell_type": "markdown",
      "source": [
        "# Calculating the pending work \n",
        "\n",
        "\n",
        "\n"
      ],
      "metadata": {
        "id": "vwqN841VwNhp"
      }
    },
    {
      "cell_type": "code",
      "source": [
        "df['pending'] = df['total_work'] - df['wip']"
      ],
      "metadata": {
        "id": "fnIAZEU_wLDS"
      },
      "execution_count": 171,
      "outputs": []
    },
    {
      "cell_type": "markdown",
      "source": [
        "# proportion of work remaining = Pending work/ total work"
      ],
      "metadata": {
        "id": "tDtkiL5DwoOz"
      }
    },
    {
      "cell_type": "code",
      "source": [
        "df['prop_job_remaining'] = df['pending']/df['total_work']"
      ],
      "metadata": {
        "id": "1kN8mJklwnw3"
      },
      "execution_count": 172,
      "outputs": []
    },
    {
      "cell_type": "markdown",
      "source": [
        "# Converting time to hours"
      ],
      "metadata": {
        "id": "8xT5kSdG1Lic"
      }
    },
    {
      "cell_type": "code",
      "source": [
        "df['smv'] = df['smv']/60\n",
        "df['idle_time'] = df['idle_time']/60\n",
        "df['over_time'] = df['over_time']/60"
      ],
      "metadata": {
        "id": "SsVqrNh-yerl"
      },
      "execution_count": 173,
      "outputs": []
    },
    {
      "cell_type": "markdown",
      "source": [
        "# Computing the Workers that are Not Idle"
      ],
      "metadata": {
        "id": "BhVXXizv1de4"
      }
    },
    {
      "cell_type": "code",
      "source": [
        "df['Actual_workers']= df['no_of_workers'] - df['idle_men']"
      ],
      "metadata": {
        "id": "mBFchnZn1dC5"
      },
      "execution_count": 174,
      "outputs": []
    },
    {
      "cell_type": "markdown",
      "source": [
        "# Extracting the Month for All Dates"
      ],
      "metadata": {
        "id": "zWPayhCL2Xsq"
      }
    },
    {
      "cell_type": "code",
      "source": [
        "df['date']=pd.to_datetime(df['date'])\n",
        "\n",
        "df['date']=df['date'].dt.to_period('M')"
      ],
      "metadata": {
        "id": "7a33ENgM2byk"
      },
      "execution_count": 175,
      "outputs": []
    },
    {
      "cell_type": "code",
      "source": [
        "df['date'] #only month and year are considered"
      ],
      "metadata": {
        "colab": {
          "base_uri": "https://localhost:8080/"
        },
        "id": "jwBlWoh_2XYV",
        "outputId": "7a9a0e37-3e71-45b5-feb5-8383be38da47"
      },
      "execution_count": 176,
      "outputs": [
        {
          "output_type": "execute_result",
          "data": {
            "text/plain": [
              "0       2015-01\n",
              "1       2015-01\n",
              "2       2015-01\n",
              "3       2015-01\n",
              "4       2015-01\n",
              "         ...   \n",
              "1192    2015-03\n",
              "1193    2015-03\n",
              "1194    2015-03\n",
              "1195    2015-03\n",
              "1196    2015-03\n",
              "Name: date, Length: 1189, dtype: period[M]"
            ]
          },
          "metadata": {},
          "execution_count": 176
        }
      ]
    },
    {
      "cell_type": "code",
      "source": [
        "month=df['date'].value_counts().to_frame().reset_index()\n",
        "month"
      ],
      "metadata": {
        "colab": {
          "base_uri": "https://localhost:8080/",
          "height": 143
        },
        "id": "jx0sCaRg2sim",
        "outputId": "2227c327-2594-450f-844d-b333ae1fc89e"
      },
      "execution_count": 177,
      "outputs": [
        {
          "output_type": "execute_result",
          "data": {
            "text/plain": [
              "     index  date\n",
              "0  2015-01   537\n",
              "1  2015-02   440\n",
              "2  2015-03   212"
            ],
            "text/html": [
              "\n",
              "  <div id=\"df-618e5ff4-da3e-4bdc-a2cf-fcf686a162e6\">\n",
              "    <div class=\"colab-df-container\">\n",
              "      <div>\n",
              "<style scoped>\n",
              "    .dataframe tbody tr th:only-of-type {\n",
              "        vertical-align: middle;\n",
              "    }\n",
              "\n",
              "    .dataframe tbody tr th {\n",
              "        vertical-align: top;\n",
              "    }\n",
              "\n",
              "    .dataframe thead th {\n",
              "        text-align: right;\n",
              "    }\n",
              "</style>\n",
              "<table border=\"1\" class=\"dataframe\">\n",
              "  <thead>\n",
              "    <tr style=\"text-align: right;\">\n",
              "      <th></th>\n",
              "      <th>index</th>\n",
              "      <th>date</th>\n",
              "    </tr>\n",
              "  </thead>\n",
              "  <tbody>\n",
              "    <tr>\n",
              "      <th>0</th>\n",
              "      <td>2015-01</td>\n",
              "      <td>537</td>\n",
              "    </tr>\n",
              "    <tr>\n",
              "      <th>1</th>\n",
              "      <td>2015-02</td>\n",
              "      <td>440</td>\n",
              "    </tr>\n",
              "    <tr>\n",
              "      <th>2</th>\n",
              "      <td>2015-03</td>\n",
              "      <td>212</td>\n",
              "    </tr>\n",
              "  </tbody>\n",
              "</table>\n",
              "</div>\n",
              "      <button class=\"colab-df-convert\" onclick=\"convertToInteractive('df-618e5ff4-da3e-4bdc-a2cf-fcf686a162e6')\"\n",
              "              title=\"Convert this dataframe to an interactive table.\"\n",
              "              style=\"display:none;\">\n",
              "        \n",
              "  <svg xmlns=\"http://www.w3.org/2000/svg\" height=\"24px\"viewBox=\"0 0 24 24\"\n",
              "       width=\"24px\">\n",
              "    <path d=\"M0 0h24v24H0V0z\" fill=\"none\"/>\n",
              "    <path d=\"M18.56 5.44l.94 2.06.94-2.06 2.06-.94-2.06-.94-.94-2.06-.94 2.06-2.06.94zm-11 1L8.5 8.5l.94-2.06 2.06-.94-2.06-.94L8.5 2.5l-.94 2.06-2.06.94zm10 10l.94 2.06.94-2.06 2.06-.94-2.06-.94-.94-2.06-.94 2.06-2.06.94z\"/><path d=\"M17.41 7.96l-1.37-1.37c-.4-.4-.92-.59-1.43-.59-.52 0-1.04.2-1.43.59L10.3 9.45l-7.72 7.72c-.78.78-.78 2.05 0 2.83L4 21.41c.39.39.9.59 1.41.59.51 0 1.02-.2 1.41-.59l7.78-7.78 2.81-2.81c.8-.78.8-2.07 0-2.86zM5.41 20L4 18.59l7.72-7.72 1.47 1.35L5.41 20z\"/>\n",
              "  </svg>\n",
              "      </button>\n",
              "      \n",
              "  <style>\n",
              "    .colab-df-container {\n",
              "      display:flex;\n",
              "      flex-wrap:wrap;\n",
              "      gap: 12px;\n",
              "    }\n",
              "\n",
              "    .colab-df-convert {\n",
              "      background-color: #E8F0FE;\n",
              "      border: none;\n",
              "      border-radius: 50%;\n",
              "      cursor: pointer;\n",
              "      display: none;\n",
              "      fill: #1967D2;\n",
              "      height: 32px;\n",
              "      padding: 0 0 0 0;\n",
              "      width: 32px;\n",
              "    }\n",
              "\n",
              "    .colab-df-convert:hover {\n",
              "      background-color: #E2EBFA;\n",
              "      box-shadow: 0px 1px 2px rgba(60, 64, 67, 0.3), 0px 1px 3px 1px rgba(60, 64, 67, 0.15);\n",
              "      fill: #174EA6;\n",
              "    }\n",
              "\n",
              "    [theme=dark] .colab-df-convert {\n",
              "      background-color: #3B4455;\n",
              "      fill: #D2E3FC;\n",
              "    }\n",
              "\n",
              "    [theme=dark] .colab-df-convert:hover {\n",
              "      background-color: #434B5C;\n",
              "      box-shadow: 0px 1px 3px 1px rgba(0, 0, 0, 0.15);\n",
              "      filter: drop-shadow(0px 1px 2px rgba(0, 0, 0, 0.3));\n",
              "      fill: #FFFFFF;\n",
              "    }\n",
              "  </style>\n",
              "\n",
              "      <script>\n",
              "        const buttonEl =\n",
              "          document.querySelector('#df-618e5ff4-da3e-4bdc-a2cf-fcf686a162e6 button.colab-df-convert');\n",
              "        buttonEl.style.display =\n",
              "          google.colab.kernel.accessAllowed ? 'block' : 'none';\n",
              "\n",
              "        async function convertToInteractive(key) {\n",
              "          const element = document.querySelector('#df-618e5ff4-da3e-4bdc-a2cf-fcf686a162e6');\n",
              "          const dataTable =\n",
              "            await google.colab.kernel.invokeFunction('convertToInteractive',\n",
              "                                                     [key], {});\n",
              "          if (!dataTable) return;\n",
              "\n",
              "          const docLinkHtml = 'Like what you see? Visit the ' +\n",
              "            '<a target=\"_blank\" href=https://colab.research.google.com/notebooks/data_table.ipynb>data table notebook</a>'\n",
              "            + ' to learn more about interactive tables.';\n",
              "          element.innerHTML = '';\n",
              "          dataTable['output_type'] = 'display_data';\n",
              "          await google.colab.output.renderOutput(dataTable, element);\n",
              "          const docLink = document.createElement('div');\n",
              "          docLink.innerHTML = docLinkHtml;\n",
              "          element.appendChild(docLink);\n",
              "        }\n",
              "      </script>\n",
              "    </div>\n",
              "  </div>\n",
              "  "
            ]
          },
          "metadata": {},
          "execution_count": 177
        }
      ]
    },
    {
      "cell_type": "code",
      "source": [
        "plt.pie(x=month['date'], labels=month['index'], autopct='%.2f')\n",
        "plt.title('Month Wise Production')\n",
        "plt.legend()\n",
        "plt.show()\n"
      ],
      "metadata": {
        "colab": {
          "base_uri": "https://localhost:8080/",
          "height": 482
        },
        "id": "6N-xHEFl37kY",
        "outputId": "1c7ae127-22f4-4c45-c1a2-d28a4b1def4d"
      },
      "execution_count": 178,
      "outputs": [
        {
          "output_type": "display_data",
          "data": {
            "text/plain": [
              "<Figure size 720x576 with 1 Axes>"
            ],
            "image/png": "[encoded data removed]"
          },
          "metadata": {}
        }
      ]
    },
    {
      "cell_type": "markdown",
      "source": [
        "# Quarter - Wise Distribution"
      ],
      "metadata": {
        "id": "Ww-9ifWA4ob4"
      }
    },
    {
      "cell_type": "code",
      "source": [
        "quarter=df['quarter'].value_counts().reset_index()\n",
        "quarter"
      ],
      "metadata": {
        "colab": {
          "base_uri": "https://localhost:8080/",
          "height": 206
        },
        "id": "qMMkezkF3tE3",
        "outputId": "f34b3f6b-0da4-4141-d73c-a1e23688f2a9"
      },
      "execution_count": 179,
      "outputs": [
        {
          "output_type": "execute_result",
          "data": {
            "text/plain": [
              "      index  quarter\n",
              "0  Quarter1      358\n",
              "1  Quarter2      334\n",
              "2  Quarter4      245\n",
              "3  Quarter3      209\n",
              "4  Quarter5       43"
            ],
            "text/html": [
              "\n",
              "  <div id=\"df-ba32d354-e7f3-4bcf-a5fc-58208423a89b\">\n",
              "    <div class=\"colab-df-container\">\n",
              "      <div>\n",
              "<style scoped>\n",
              "    .dataframe tbody tr th:only-of-type {\n",
              "        vertical-align: middle;\n",
              "    }\n",
              "\n",
              "    .dataframe tbody tr th {\n",
              "        vertical-align: top;\n",
              "    }\n",
              "\n",
              "    .dataframe thead th {\n",
              "        text-align: right;\n",
              "    }\n",
              "</style>\n",
              "<table border=\"1\" class=\"dataframe\">\n",
              "  <thead>\n",
              "    <tr style=\"text-align: right;\">\n",
              "      <th></th>\n",
              "      <th>index</th>\n",
              "      <th>quarter</th>\n",
              "    </tr>\n",
              "  </thead>\n",
              "  <tbody>\n",
              "    <tr>\n",
              "      <th>0</th>\n",
              "      <td>Quarter1</td>\n",
              "      <td>358</td>\n",
              "    </tr>\n",
              "    <tr>\n",
              "      <th>1</th>\n",
              "      <td>Quarter2</td>\n",
              "      <td>334</td>\n",
              "    </tr>\n",
              "    <tr>\n",
              "      <th>2</th>\n",
              "      <td>Quarter4</td>\n",
              "      <td>245</td>\n",
              "    </tr>\n",
              "    <tr>\n",
              "      <th>3</th>\n",
              "      <td>Quarter3</td>\n",
              "      <td>209</td>\n",
              "    </tr>\n",
              "    <tr>\n",
              "      <th>4</th>\n",
              "      <td>Quarter5</td>\n",
              "      <td>43</td>\n",
              "    </tr>\n",
              "  </tbody>\n",
              "</table>\n",
              "</div>\n",
              "      <button class=\"colab-df-convert\" onclick=\"convertToInteractive('df-ba32d354-e7f3-4bcf-a5fc-58208423a89b')\"\n",
              "              title=\"Convert this dataframe to an interactive table.\"\n",
              "              style=\"display:none;\">\n",
              "        \n",
              "  <svg xmlns=\"http://www.w3.org/2000/svg\" height=\"24px\"viewBox=\"0 0 24 24\"\n",
              "       width=\"24px\">\n",
              "    <path d=\"M0 0h24v24H0V0z\" fill=\"none\"/>\n",
              "    <path d=\"M18.56 5.44l.94 2.06.94-2.06 2.06-.94-2.06-.94-.94-2.06-.94 2.06-2.06.94zm-11 1L8.5 8.5l.94-2.06 2.06-.94-2.06-.94L8.5 2.5l-.94 2.06-2.06.94zm10 10l.94 2.06.94-2.06 2.06-.94-2.06-.94-.94-2.06-.94 2.06-2.06.94z\"/><path d=\"M17.41 7.96l-1.37-1.37c-.4-.4-.92-.59-1.43-.59-.52 0-1.04.2-1.43.59L10.3 9.45l-7.72 7.72c-.78.78-.78 2.05 0 2.83L4 21.41c.39.39.9.59 1.41.59.51 0 1.02-.2 1.41-.59l7.78-7.78 2.81-2.81c.8-.78.8-2.07 0-2.86zM5.41 20L4 18.59l7.72-7.72 1.47 1.35L5.41 20z\"/>\n",
              "  </svg>\n",
              "      </button>\n",
              "      \n",
              "  <style>\n",
              "    .colab-df-container {\n",
              "      display:flex;\n",
              "      flex-wrap:wrap;\n",
              "      gap: 12px;\n",
              "    }\n",
              "\n",
              "    .colab-df-convert {\n",
              "      background-color: #E8F0FE;\n",
              "      border: none;\n",
              "      border-radius: 50%;\n",
              "      cursor: pointer;\n",
              "      display: none;\n",
              "      fill: #1967D2;\n",
              "      height: 32px;\n",
              "      padding: 0 0 0 0;\n",
              "      width: 32px;\n",
              "    }\n",
              "\n",
              "    .colab-df-convert:hover {\n",
              "      background-color: #E2EBFA;\n",
              "      box-shadow: 0px 1px 2px rgba(60, 64, 67, 0.3), 0px 1px 3px 1px rgba(60, 64, 67, 0.15);\n",
              "      fill: #174EA6;\n",
              "    }\n",
              "\n",
              "    [theme=dark] .colab-df-convert {\n",
              "      background-color: #3B4455;\n",
              "      fill: #D2E3FC;\n",
              "    }\n",
              "\n",
              "    [theme=dark] .colab-df-convert:hover {\n",
              "      background-color: #434B5C;\n",
              "      box-shadow: 0px 1px 3px 1px rgba(0, 0, 0, 0.15);\n",
              "      filter: drop-shadow(0px 1px 2px rgba(0, 0, 0, 0.3));\n",
              "      fill: #FFFFFF;\n",
              "    }\n",
              "  </style>\n",
              "\n",
              "      <script>\n",
              "        const buttonEl =\n",
              "          document.querySelector('#df-ba32d354-e7f3-4bcf-a5fc-58208423a89b button.colab-df-convert');\n",
              "        buttonEl.style.display =\n",
              "          google.colab.kernel.accessAllowed ? 'block' : 'none';\n",
              "\n",
              "        async function convertToInteractive(key) {\n",
              "          const element = document.querySelector('#df-ba32d354-e7f3-4bcf-a5fc-58208423a89b');\n",
              "          const dataTable =\n",
              "            await google.colab.kernel.invokeFunction('convertToInteractive',\n",
              "                                                     [key], {});\n",
              "          if (!dataTable) return;\n",
              "\n",
              "          const docLinkHtml = 'Like what you see? Visit the ' +\n",
              "            '<a target=\"_blank\" href=https://colab.research.google.com/notebooks/data_table.ipynb>data table notebook</a>'\n",
              "            + ' to learn more about interactive tables.';\n",
              "          element.innerHTML = '';\n",
              "          dataTable['output_type'] = 'display_data';\n",
              "          await google.colab.output.renderOutput(dataTable, element);\n",
              "          const docLink = document.createElement('div');\n",
              "          docLink.innerHTML = docLinkHtml;\n",
              "          element.appendChild(docLink);\n",
              "        }\n",
              "      </script>\n",
              "    </div>\n",
              "  </div>\n",
              "  "
            ]
          },
          "metadata": {},
          "execution_count": 179
        }
      ]
    },
    {
      "cell_type": "code",
      "source": [
        "line=px.line(quarter, x=quarter['index'], y=quarter['quarter'], title='Quarter Distribution')\n",
        "line.show()"
      ],
      "metadata": {
        "colab": {
          "base_uri": "https://localhost:8080/",
          "height": 542
        },
        "id": "zyOmelZg5R8D",
        "outputId": "b006db5b-a303-4227-e12b-bfcdc6f42afb"
      },
      "execution_count": 180,
      "outputs": [
        {
          "output_type": "display_data",
          "data": {
            "text/html": [
              "<html>\n",
              "<head><meta charset=\"utf-8\" /></head>\n",
              "<body>\n",
              "    <div>            <script src=\"https://cdnjs.cloudflare.com/ajax/libs/mathjax/2.7.5/MathJax.js?config=TeX-AMS-MML_SVG\"></script><script type=\"text/javascript\">if (window.MathJax) {MathJax.Hub.Config({SVG: {font: \"STIX-Web\"}});}</script>                <script type=\"text/javascript\">window.PlotlyConfig = {MathJaxConfig: 'local'};</script>\n",
              "        <script src=\"https://cdn.plot.ly/plotly-2.8.3.min.js\"></script>                <div id=\"a435b901-9b74-47ac-9f16-52db3adc7a7f\" class=\"plotly-graph-div\" style=\"height:525px; width:100%;\"></div>            <script type=\"text/javascript\">                                    window.PLOTLYENV=window.PLOTLYENV || {};                                    if (document.getElementById(\"a435b901-9b74-47ac-9f16-52db3adc7a7f\")) {                    Plotly.newPlot(                        \"a435b901-9b74-47ac-9f16-52db3adc7a7f\",                        [{\"hovertemplate\":\"index=%{x}<br>quarter=%{y}<extra></extra>\",\"legendgroup\":\"\",\"line\":{\"color\":\"#636efa\",\"dash\":\"solid\"},\"marker\":{\"symbol\":\"circle\"},\"mode\":\"lines\",\"name\":\"\",\"orientation\":\"v\",\"showlegend\":false,\"x\":[\"Quarter1\",\"Quarter2\",\"Quarter4\",\"Quarter3\",\"Quarter5\"],\"xaxis\":\"x\",\"y\":[358,334,245,209,43],\"yaxis\":\"y\",\"type\":\"scatter\"}],                        {\"template\":{\"data\":{\"bar\":[{\"error_x\":{\"color\":\"#2a3f5f\"},\"error_y\":{\"color\":\"#2a3f5f\"},\"marker\":{\"line\":{\"color\":\"#E5ECF6\",\"width\":0.5},\"pattern\":{\"fillmode\":\"overlay\",\"size\":10,\"solidity\":0.2}},\"type\":\"bar\"}],\"barpolar\":[{\"marker\":{\"line\":{\"color\":\"#E5ECF6\",\"width\":0.5},\"pattern\":{\"fillmode\":\"overlay\",\"size\":10,\"solidity\":0.2}},\"type\":\"barpolar\"}],\"carpet\":[{\"aaxis\":{\"endlinecolor\":\"#2a3f5f\",\"gridcolor\":\"white\",\"linecolor\":\"white\",\"minorgridcolor\":\"white\",\"startlinecolor\":\"#2a3f5f\"},\"baxis\":{\"endlinecolor\":\"#2a3f5f\",\"gridcolor\":\"white\",\"linecolor\":\"white\",\"minorgridcolor\":\"white\",\"startlinecolor\":\"#2a3f5f\"},\"type\":\"carpet\"}],\"choropleth\":[{\"colorbar\":{\"outlinewidth\":0,\"ticks\":\"\"},\"type\":\"choropleth\"}],\"contour\":[{\"colorbar\":{\"outlinewidth\":0,\"ticks\":\"\"},\"colorscale\":[[0.0,\"#0d0887\"],[0.1111111111111111,\"#46039f\"],[0.2222222222222222,\"#7201a8\"],[0.3333333333333333,\"#9c179e\"],[0.4444444444444444,\"#bd3786\"],[0.5555555555555556,\"#d8576b\"],[0.6666666666666666,\"#ed7953\"],[0.7777777777777778,\"#fb9f3a\"],[0.8888888888888888,\"#fdca26\"],[1.0,\"#f0f921\"]],\"type\":\"contour\"}],\"contourcarpet\":[{\"colorbar\":{\"outlinewidth\":0,\"ticks\":\"\"},\"type\":\"contourcarpet\"}],\"heatmap\":[{\"colorbar\":{\"outlinewidth\":0,\"ticks\":\"\"},\"colorscale\":[[0.0,\"#0d0887\"],[0.1111111111111111,\"#46039f\"],[0.2222222222222222,\"#7201a8\"],[0.3333333333333333,\"#9c179e\"],[0.4444444444444444,\"#bd3786\"],[0.5555555555555556,\"#d8576b\"],[0.6666666666666666,\"#ed7953\"],[0.7777777777777778,\"#fb9f3a\"],[0.8888888888888888,\"#fdca26\"],[1.0,\"#f0f921\"]],\"type\":\"heatmap\"}],\"heatmapgl\":[{\"colorbar\":{\"outlinewidth\":0,\"ticks\":\"\"},\"colorscale\":[[0.0,\"#0d0887\"],[0.1111111111111111,\"#46039f\"],[0.2222222222222222,\"#7201a8\"],[0.3333333333333333,\"#9c179e\"],[0.4444444444444444,\"#bd3786\"],[0.5555555555555556,\"#d8576b\"],[0.6666666666666666,\"#ed7953\"],[0.7777777777777778,\"#fb9f3a\"],[0.8888888888888888,\"#fdca26\"],[1.0,\"#f0f921\"]],\"type\":\"heatmapgl\"}],\"histogram\":[{\"marker\":{\"pattern\":{\"fillmode\":\"overlay\",\"size\":10,\"solidity\":0.2}},\"type\":\"histogram\"}],\"histogram2d\":[{\"colorbar\":{\"outlinewidth\":0,\"ticks\":\"\"},\"colorscale\":[[0.0,\"#0d0887\"],[0.1111111111111111,\"#46039f\"],[0.2222222222222222,\"#7201a8\"],[0.3333333333333333,\"#9c179e\"],[0.4444444444444444,\"#bd3786\"],[0.5555555555555556,\"#d8576b\"],[0.6666666666666666,\"#ed7953\"],[0.7777777777777778,\"#fb9f3a\"],[0.8888888888888888,\"#fdca26\"],[1.0,\"#f0f921\"]],\"type\":\"histogram2d\"}],\"histogram2dcontour\":[{\"colorbar\":{\"outlinewidth\":0,\"ticks\":\"\"},\"colorscale\":[[0.0,\"#0d0887\"],[0.1111111111111111,\"#46039f\"],[0.2222222222222222,\"#7201a8\"],[0.3333333333333333,\"#9c179e\"],[0.4444444444444444,\"#bd3786\"],[0.5555555555555556,\"#d8576b\"],[0.6666666666666666,\"#ed7953\"],[0.7777777777777778,\"#fb9f3a\"],[0.8888888888888888,\"#fdca26\"],[1.0,\"#f0f921\"]],\"type\":\"histogram2dcontour\"}],\"mesh3d\":[{\"colorbar\":{\"outlinewidth\":0,\"ticks\":\"\"},\"type\":\"mesh3d\"}],\"parcoords\":[{\"line\":{\"colorbar\":{\"outlinewidth\":0,\"ticks\":\"\"}},\"type\":\"parcoords\"}],\"pie\":[{\"automargin\":true,\"type\":\"pie\"}],\"scatter\":[{\"marker\":{\"colorbar\":{\"outlinewidth\":0,\"ticks\":\"\"}},\"type\":\"scatter\"}],\"scatter3d\":[{\"line\":{\"colorbar\":{\"outlinewidth\":0,\"ticks\":\"\"}},\"marker\":{\"colorbar\":{\"outlinewidth\":0,\"ticks\":\"\"}},\"type\":\"scatter3d\"}],\"scattercarpet\":[{\"marker\":{\"colorbar\":{\"outlinewidth\":0,\"ticks\":\"\"}},\"type\":\"scattercarpet\"}],\"scattergeo\":[{\"marker\":{\"colorbar\":{\"outlinewidth\":0,\"ticks\":\"\"}},\"type\":\"scattergeo\"}],\"scattergl\":[{\"marker\":{\"colorbar\":{\"outlinewidth\":0,\"ticks\":\"\"}},\"type\":\"scattergl\"}],\"scattermapbox\":[{\"marker\":{\"colorbar\":{\"outlinewidth\":0,\"ticks\":\"\"}},\"type\":\"scattermapbox\"}],\"scatterpolar\":[{\"marker\":{\"colorbar\":{\"outlinewidth\":0,\"ticks\":\"\"}},\"type\":\"scatterpolar\"}],\"scatterpolargl\":[{\"marker\":{\"colorbar\":{\"outlinewidth\":0,\"ticks\":\"\"}},\"type\":\"scatterpolargl\"}],\"scatterternary\":[{\"marker\":{\"colorbar\":{\"outlinewidth\":0,\"ticks\":\"\"}},\"type\":\"scatterternary\"}],\"surface\":[{\"colorbar\":{\"outlinewidth\":0,\"ticks\":\"\"},\"colorscale\":[[0.0,\"#0d0887\"],[0.1111111111111111,\"#46039f\"],[0.2222222222222222,\"#7201a8\"],[0.3333333333333333,\"#9c179e\"],[0.4444444444444444,\"#bd3786\"],[0.5555555555555556,\"#d8576b\"],[0.6666666666666666,\"#ed7953\"],[0.7777777777777778,\"#fb9f3a\"],[0.8888888888888888,\"#fdca26\"],[1.0,\"#f0f921\"]],\"type\":\"surface\"}],\"table\":[{\"cells\":{\"fill\":{\"color\":\"#EBF0F8\"},\"line\":{\"color\":\"white\"}},\"header\":{\"fill\":{\"color\":\"#C8D4E3\"},\"line\":{\"color\":\"white\"}},\"type\":\"table\"}]},\"layout\":{\"annotationdefaults\":{\"arrowcolor\":\"#2a3f5f\",\"arrowhead\":0,\"arrowwidth\":1},\"autotypenumbers\":\"strict\",\"coloraxis\":{\"colorbar\":{\"outlinewidth\":0,\"ticks\":\"\"}},\"colorscale\":{\"diverging\":[[0,\"#8e0152\"],[0.1,\"#c51b7d\"],[0.2,\"#de77ae\"],[0.3,\"#f1b6da\"],[0.4,\"#fde0ef\"],[0.5,\"#f7f7f7\"],[0.6,\"#e6f5d0\"],[0.7,\"#b8e186\"],[0.8,\"#7fbc41\"],[0.9,\"#4d9221\"],[1,\"#276419\"]],\"sequential\":[[0.0,\"#0d0887\"],[0.1111111111111111,\"#46039f\"],[0.2222222222222222,\"#7201a8\"],[0.3333333333333333,\"#9c179e\"],[0.4444444444444444,\"#bd3786\"],[0.5555555555555556,\"#d8576b\"],[0.6666666666666666,\"#ed7953\"],[0.7777777777777778,\"#fb9f3a\"],[0.8888888888888888,\"#fdca26\"],[1.0,\"#f0f921\"]],\"sequentialminus\":[[0.0,\"#0d0887\"],[0.1111111111111111,\"#46039f\"],[0.2222222222222222,\"#7201a8\"],[0.3333333333333333,\"#9c179e\"],[0.4444444444444444,\"#bd3786\"],[0.5555555555555556,\"#d8576b\"],[0.6666666666666666,\"#ed7953\"],[0.7777777777777778,\"#fb9f3a\"],[0.8888888888888888,\"#fdca26\"],[1.0,\"#f0f921\"]]},\"colorway\":[\"#636efa\",\"#EF553B\",\"#00cc96\",\"#ab63fa\",\"#FFA15A\",\"#19d3f3\",\"#FF6692\",\"#B6E880\",\"#FF97FF\",\"#FECB52\"],\"font\":{\"color\":\"#2a3f5f\"},\"geo\":{\"bgcolor\":\"white\",\"lakecolor\":\"white\",\"landcolor\":\"#E5ECF6\",\"showlakes\":true,\"showland\":true,\"subunitcolor\":\"white\"},\"hoverlabel\":{\"align\":\"left\"},\"hovermode\":\"closest\",\"mapbox\":{\"style\":\"light\"},\"paper_bgcolor\":\"white\",\"plot_bgcolor\":\"#E5ECF6\",\"polar\":{\"angularaxis\":{\"gridcolor\":\"white\",\"linecolor\":\"white\",\"ticks\":\"\"},\"bgcolor\":\"#E5ECF6\",\"radialaxis\":{\"gridcolor\":\"white\",\"linecolor\":\"white\",\"ticks\":\"\"}},\"scene\":{\"xaxis\":{\"backgroundcolor\":\"#E5ECF6\",\"gridcolor\":\"white\",\"gridwidth\":2,\"linecolor\":\"white\",\"showbackground\":true,\"ticks\":\"\",\"zerolinecolor\":\"white\"},\"yaxis\":{\"backgroundcolor\":\"#E5ECF6\",\"gridcolor\":\"white\",\"gridwidth\":2,\"linecolor\":\"white\",\"showbackground\":true,\"ticks\":\"\",\"zerolinecolor\":\"white\"},\"zaxis\":{\"backgroundcolor\":\"#E5ECF6\",\"gridcolor\":\"white\",\"gridwidth\":2,\"linecolor\":\"white\",\"showbackground\":true,\"ticks\":\"\",\"zerolinecolor\":\"white\"}},\"shapedefaults\":{\"line\":{\"color\":\"#2a3f5f\"}},\"ternary\":{\"aaxis\":{\"gridcolor\":\"white\",\"linecolor\":\"white\",\"ticks\":\"\"},\"baxis\":{\"gridcolor\":\"white\",\"linecolor\":\"white\",\"ticks\":\"\"},\"bgcolor\":\"#E5ECF6\",\"caxis\":{\"gridcolor\":\"white\",\"linecolor\":\"white\",\"ticks\":\"\"}},\"title\":{\"x\":0.05},\"xaxis\":{\"automargin\":true,\"gridcolor\":\"white\",\"linecolor\":\"white\",\"ticks\":\"\",\"title\":{\"standoff\":15},\"zerolinecolor\":\"white\",\"zerolinewidth\":2},\"yaxis\":{\"automargin\":true,\"gridcolor\":\"white\",\"linecolor\":\"white\",\"ticks\":\"\",\"title\":{\"standoff\":15},\"zerolinecolor\":\"white\",\"zerolinewidth\":2}}},\"xaxis\":{\"anchor\":\"y\",\"domain\":[0.0,1.0],\"title\":{\"text\":\"index\"}},\"yaxis\":{\"anchor\":\"x\",\"domain\":[0.0,1.0],\"title\":{\"text\":\"quarter\"}},\"legend\":{\"tracegroupgap\":0},\"title\":{\"text\":\"Quarter Distribution\"}},                        {\"responsive\": true}                    ).then(function(){\n",
              "                            \n",
              "var gd = document.getElementById('a435b901-9b74-47ac-9f16-52db3adc7a7f');\n",
              "var x = new MutationObserver(function (mutations, observer) {{\n",
              "        var display = window.getComputedStyle(gd).display;\n",
              "        if (!display || display === 'none') {{\n",
              "            console.log([gd, 'removed!']);\n",
              "            Plotly.purge(gd);\n",
              "            observer.disconnect();\n",
              "        }}\n",
              "}});\n",
              "\n",
              "// Listen for the removal of the full notebook cells\n",
              "var notebookContainer = gd.closest('#notebook-container');\n",
              "if (notebookContainer) {{\n",
              "    x.observe(notebookContainer, {childList: true});\n",
              "}}\n",
              "\n",
              "// Listen for the clearing of the current output cell\n",
              "var outputEl = gd.closest('.output');\n",
              "if (outputEl) {{\n",
              "    x.observe(outputEl, {childList: true});\n",
              "}}\n",
              "\n",
              "                        })                };                            </script>        </div>\n",
              "</body>\n",
              "</html>"
            ]
          },
          "metadata": {}
        }
      ]
    },
    {
      "cell_type": "markdown",
      "source": [
        "# Department Frequency Distribution"
      ],
      "metadata": {
        "id": "8vQ7IG_Y6Cz5"
      }
    },
    {
      "cell_type": "code",
      "source": [
        "dep=df['department'].value_counts().reset_index()\n",
        "dep"
      ],
      "metadata": {
        "colab": {
          "base_uri": "https://localhost:8080/",
          "height": 112
        },
        "id": "HjR6CywM3ROj",
        "outputId": "3b6c587f-300d-436d-87bd-f80ca0f460d7"
      },
      "execution_count": 181,
      "outputs": [
        {
          "output_type": "execute_result",
          "data": {
            "text/plain": [
              "       index  department\n",
              "0     sweing         694\n",
              "1  finishing         495"
            ],
            "text/html": [
              "\n",
              "  <div id=\"df-13561cb1-c857-4d49-b7e1-3a67b9a0891d\">\n",
              "    <div class=\"colab-df-container\">\n",
              "      <div>\n",
              "<style scoped>\n",
              "    .dataframe tbody tr th:only-of-type {\n",
              "        vertical-align: middle;\n",
              "    }\n",
              "\n",
              "    .dataframe tbody tr th {\n",
              "        vertical-align: top;\n",
              "    }\n",
              "\n",
              "    .dataframe thead th {\n",
              "        text-align: right;\n",
              "    }\n",
              "</style>\n",
              "<table border=\"1\" class=\"dataframe\">\n",
              "  <thead>\n",
              "    <tr style=\"text-align: right;\">\n",
              "      <th></th>\n",
              "      <th>index</th>\n",
              "      <th>department</th>\n",
              "    </tr>\n",
              "  </thead>\n",
              "  <tbody>\n",
              "    <tr>\n",
              "      <th>0</th>\n",
              "      <td>sweing</td>\n",
              "      <td>694</td>\n",
              "    </tr>\n",
              "    <tr>\n",
              "      <th>1</th>\n",
              "      <td>finishing</td>\n",
              "      <td>495</td>\n",
              "    </tr>\n",
              "  </tbody>\n",
              "</table>\n",
              "</div>\n",
              "      <button class=\"colab-df-convert\" onclick=\"convertToInteractive('df-13561cb1-c857-4d49-b7e1-3a67b9a0891d')\"\n",
              "              title=\"Convert this dataframe to an interactive table.\"\n",
              "              style=\"display:none;\">\n",
              "        \n",
              "  <svg xmlns=\"http://www.w3.org/2000/svg\" height=\"24px\"viewBox=\"0 0 24 24\"\n",
              "       width=\"24px\">\n",
              "    <path d=\"M0 0h24v24H0V0z\" fill=\"none\"/>\n",
              "    <path d=\"M18.56 5.44l.94 2.06.94-2.06 2.06-.94-2.06-.94-.94-2.06-.94 2.06-2.06.94zm-11 1L8.5 8.5l.94-2.06 2.06-.94-2.06-.94L8.5 2.5l-.94 2.06-2.06.94zm10 10l.94 2.06.94-2.06 2.06-.94-2.06-.94-.94-2.06-.94 2.06-2.06.94z\"/><path d=\"M17.41 7.96l-1.37-1.37c-.4-.4-.92-.59-1.43-.59-.52 0-1.04.2-1.43.59L10.3 9.45l-7.72 7.72c-.78.78-.78 2.05 0 2.83L4 21.41c.39.39.9.59 1.41.59.51 0 1.02-.2 1.41-.59l7.78-7.78 2.81-2.81c.8-.78.8-2.07 0-2.86zM5.41 20L4 18.59l7.72-7.72 1.47 1.35L5.41 20z\"/>\n",
              "  </svg>\n",
              "      </button>\n",
              "      \n",
              "  <style>\n",
              "    .colab-df-container {\n",
              "      display:flex;\n",
              "      flex-wrap:wrap;\n",
              "      gap: 12px;\n",
              "    }\n",
              "\n",
              "    .colab-df-convert {\n",
              "      background-color: #E8F0FE;\n",
              "      border: none;\n",
              "      border-radius: 50%;\n",
              "      cursor: pointer;\n",
              "      display: none;\n",
              "      fill: #1967D2;\n",
              "      height: 32px;\n",
              "      padding: 0 0 0 0;\n",
              "      width: 32px;\n",
              "    }\n",
              "\n",
              "    .colab-df-convert:hover {\n",
              "      background-color: #E2EBFA;\n",
              "      box-shadow: 0px 1px 2px rgba(60, 64, 67, 0.3), 0px 1px 3px 1px rgba(60, 64, 67, 0.15);\n",
              "      fill: #174EA6;\n",
              "    }\n",
              "\n",
              "    [theme=dark] .colab-df-convert {\n",
              "      background-color: #3B4455;\n",
              "      fill: #D2E3FC;\n",
              "    }\n",
              "\n",
              "    [theme=dark] .colab-df-convert:hover {\n",
              "      background-color: #434B5C;\n",
              "      box-shadow: 0px 1px 3px 1px rgba(0, 0, 0, 0.15);\n",
              "      filter: drop-shadow(0px 1px 2px rgba(0, 0, 0, 0.3));\n",
              "      fill: #FFFFFF;\n",
              "    }\n",
              "  </style>\n",
              "\n",
              "      <script>\n",
              "        const buttonEl =\n",
              "          document.querySelector('#df-13561cb1-c857-4d49-b7e1-3a67b9a0891d button.colab-df-convert');\n",
              "        buttonEl.style.display =\n",
              "          google.colab.kernel.accessAllowed ? 'block' : 'none';\n",
              "\n",
              "        async function convertToInteractive(key) {\n",
              "          const element = document.querySelector('#df-13561cb1-c857-4d49-b7e1-3a67b9a0891d');\n",
              "          const dataTable =\n",
              "            await google.colab.kernel.invokeFunction('convertToInteractive',\n",
              "                                                     [key], {});\n",
              "          if (!dataTable) return;\n",
              "\n",
              "          const docLinkHtml = 'Like what you see? Visit the ' +\n",
              "            '<a target=\"_blank\" href=https://colab.research.google.com/notebooks/data_table.ipynb>data table notebook</a>'\n",
              "            + ' to learn more about interactive tables.';\n",
              "          element.innerHTML = '';\n",
              "          dataTable['output_type'] = 'display_data';\n",
              "          await google.colab.output.renderOutput(dataTable, element);\n",
              "          const docLink = document.createElement('div');\n",
              "          docLink.innerHTML = docLinkHtml;\n",
              "          element.appendChild(docLink);\n",
              "        }\n",
              "      </script>\n",
              "    </div>\n",
              "  </div>\n",
              "  "
            ]
          },
          "metadata": {},
          "execution_count": 181
        }
      ]
    },
    {
      "cell_type": "code",
      "source": [
        "sns.barplot(x=dep['index'],y=dep['department'])\n",
        "plt.title('Department distribution')\n",
        "plt.legend()\n",
        "plt.show()"
      ],
      "metadata": {
        "colab": {
          "base_uri": "https://localhost:8080/",
          "height": 531
        },
        "id": "ePpwynaZ6Ksw",
        "outputId": "7d3981c9-529a-40a9-d92c-65664b7b228b"
      },
      "execution_count": 182,
      "outputs": [
        {
          "output_type": "stream",
          "name": "stderr",
          "text": [
            "No handles with labels found to put in legend.\n"
          ]
        },
        {
          "output_type": "display_data",
          "data": {
            "text/plain": [
              "<Figure size 720x576 with 1 Axes>"
            ],
            "image/png": "[encoded data removed]"
          },
          "metadata": {
            "needs_background": "light"
          }
        }
      ]
    },
    {
      "cell_type": "markdown",
      "source": [
        "# Department - Wise Target Productivity Distribution"
      ],
      "metadata": {
        "id": "fa_MXPch7hlu"
      }
    },
    {
      "cell_type": "code",
      "source": [
        "prod=df.groupby('department')['targeted_productivity'].sum().to_frame().reset_index()\n",
        "prod"
      ],
      "metadata": {
        "colab": {
          "base_uri": "https://localhost:8080/",
          "height": 112
        },
        "id": "JvSebOxt7kRe",
        "outputId": "65a94765-0ab8-4125-bc3f-a3d65a10a876"
      },
      "execution_count": 183,
      "outputs": [
        {
          "output_type": "execute_result",
          "data": {
            "text/plain": [
              "  department  targeted_productivity\n",
              "0  finishing                373.550\n",
              "1     sweing                520.775"
            ],
            "text/html": [
              "\n",
              "  <div id=\"df-a02ca3d1-7590-4cc2-a9f8-82a693c7d5f2\">\n",
              "    <div class=\"colab-df-container\">\n",
              "      <div>\n",
              "<style scoped>\n",
              "    .dataframe tbody tr th:only-of-type {\n",
              "        vertical-align: middle;\n",
              "    }\n",
              "\n",
              "    .dataframe tbody tr th {\n",
              "        vertical-align: top;\n",
              "    }\n",
              "\n",
              "    .dataframe thead th {\n",
              "        text-align: right;\n",
              "    }\n",
              "</style>\n",
              "<table border=\"1\" class=\"dataframe\">\n",
              "  <thead>\n",
              "    <tr style=\"text-align: right;\">\n",
              "      <th></th>\n",
              "      <th>department</th>\n",
              "      <th>targeted_productivity</th>\n",
              "    </tr>\n",
              "  </thead>\n",
              "  <tbody>\n",
              "    <tr>\n",
              "      <th>0</th>\n",
              "      <td>finishing</td>\n",
              "      <td>373.550</td>\n",
              "    </tr>\n",
              "    <tr>\n",
              "      <th>1</th>\n",
              "      <td>sweing</td>\n",
              "      <td>520.775</td>\n",
              "    </tr>\n",
              "  </tbody>\n",
              "</table>\n",
              "</div>\n",
              "      <button class=\"colab-df-convert\" onclick=\"convertToInteractive('df-a02ca3d1-7590-4cc2-a9f8-82a693c7d5f2')\"\n",
              "              title=\"Convert this dataframe to an interactive table.\"\n",
              "              style=\"display:none;\">\n",
              "        \n",
              "  <svg xmlns=\"http://www.w3.org/2000/svg\" height=\"24px\"viewBox=\"0 0 24 24\"\n",
              "       width=\"24px\">\n",
              "    <path d=\"M0 0h24v24H0V0z\" fill=\"none\"/>\n",
              "    <path d=\"M18.56 5.44l.94 2.06.94-2.06 2.06-.94-2.06-.94-.94-2.06-.94 2.06-2.06.94zm-11 1L8.5 8.5l.94-2.06 2.06-.94-2.06-.94L8.5 2.5l-.94 2.06-2.06.94zm10 10l.94 2.06.94-2.06 2.06-.94-2.06-.94-.94-2.06-.94 2.06-2.06.94z\"/><path d=\"M17.41 7.96l-1.37-1.37c-.4-.4-.92-.59-1.43-.59-.52 0-1.04.2-1.43.59L10.3 9.45l-7.72 7.72c-.78.78-.78 2.05 0 2.83L4 21.41c.39.39.9.59 1.41.59.51 0 1.02-.2 1.41-.59l7.78-7.78 2.81-2.81c.8-.78.8-2.07 0-2.86zM5.41 20L4 18.59l7.72-7.72 1.47 1.35L5.41 20z\"/>\n",
              "  </svg>\n",
              "      </button>\n",
              "      \n",
              "  <style>\n",
              "    .colab-df-container {\n",
              "      display:flex;\n",
              "      flex-wrap:wrap;\n",
              "      gap: 12px;\n",
              "    }\n",
              "\n",
              "    .colab-df-convert {\n",
              "      background-color: #E8F0FE;\n",
              "      border: none;\n",
              "      border-radius: 50%;\n",
              "      cursor: pointer;\n",
              "      display: none;\n",
              "      fill: #1967D2;\n",
              "      height: 32px;\n",
              "      padding: 0 0 0 0;\n",
              "      width: 32px;\n",
              "    }\n",
              "\n",
              "    .colab-df-convert:hover {\n",
              "      background-color: #E2EBFA;\n",
              "      box-shadow: 0px 1px 2px rgba(60, 64, 67, 0.3), 0px 1px 3px 1px rgba(60, 64, 67, 0.15);\n",
              "      fill: #174EA6;\n",
              "    }\n",
              "\n",
              "    [theme=dark] .colab-df-convert {\n",
              "      background-color: #3B4455;\n",
              "      fill: #D2E3FC;\n",
              "    }\n",
              "\n",
              "    [theme=dark] .colab-df-convert:hover {\n",
              "      background-color: #434B5C;\n",
              "      box-shadow: 0px 1px 3px 1px rgba(0, 0, 0, 0.15);\n",
              "      filter: drop-shadow(0px 1px 2px rgba(0, 0, 0, 0.3));\n",
              "      fill: #FFFFFF;\n",
              "    }\n",
              "  </style>\n",
              "\n",
              "      <script>\n",
              "        const buttonEl =\n",
              "          document.querySelector('#df-a02ca3d1-7590-4cc2-a9f8-82a693c7d5f2 button.colab-df-convert');\n",
              "        buttonEl.style.display =\n",
              "          google.colab.kernel.accessAllowed ? 'block' : 'none';\n",
              "\n",
              "        async function convertToInteractive(key) {\n",
              "          const element = document.querySelector('#df-a02ca3d1-7590-4cc2-a9f8-82a693c7d5f2');\n",
              "          const dataTable =\n",
              "            await google.colab.kernel.invokeFunction('convertToInteractive',\n",
              "                                                     [key], {});\n",
              "          if (!dataTable) return;\n",
              "\n",
              "          const docLinkHtml = 'Like what you see? Visit the ' +\n",
              "            '<a target=\"_blank\" href=https://colab.research.google.com/notebooks/data_table.ipynb>data table notebook</a>'\n",
              "            + ' to learn more about interactive tables.';\n",
              "          element.innerHTML = '';\n",
              "          dataTable['output_type'] = 'display_data';\n",
              "          await google.colab.output.renderOutput(dataTable, element);\n",
              "          const docLink = document.createElement('div');\n",
              "          docLink.innerHTML = docLinkHtml;\n",
              "          element.appendChild(docLink);\n",
              "        }\n",
              "      </script>\n",
              "    </div>\n",
              "  </div>\n",
              "  "
            ]
          },
          "metadata": {},
          "execution_count": 183
        }
      ]
    },
    {
      "cell_type": "code",
      "source": [
        "fun=px.funnel(prod, x='department', y='targeted_productivity')\n",
        "fun.show()"
      ],
      "metadata": {
        "colab": {
          "base_uri": "https://localhost:8080/",
          "height": 542
        },
        "id": "Zi-ZUuAl8DpG",
        "outputId": "3351b7e7-fc47-4d3f-d306-717a8dfab7e7"
      },
      "execution_count": 184,
      "outputs": [
        {
          "output_type": "display_data",
          "data": {
            "text/html": [
              "<html>\n",
              "<head><meta charset=\"utf-8\" /></head>\n",
              "<body>\n",
              "    <div>            <script src=\"https://cdnjs.cloudflare.com/ajax/libs/mathjax/2.7.5/MathJax.js?config=TeX-AMS-MML_SVG\"></script><script type=\"text/javascript\">if (window.MathJax) {MathJax.Hub.Config({SVG: {font: \"STIX-Web\"}});}</script>                <script type=\"text/javascript\">window.PlotlyConfig = {MathJaxConfig: 'local'};</script>\n",
              "        <script src=\"https://cdn.plot.ly/plotly-2.8.3.min.js\"></script>                <div id=\"a0e3f93b-7f95-4bfa-8ff1-b3f19302a9ef\" class=\"plotly-graph-div\" style=\"height:525px; width:100%;\"></div>            <script type=\"text/javascript\">                                    window.PLOTLYENV=window.PLOTLYENV || {};                                    if (document.getElementById(\"a0e3f93b-7f95-4bfa-8ff1-b3f19302a9ef\")) {                    Plotly.newPlot(                        \"a0e3f93b-7f95-4bfa-8ff1-b3f19302a9ef\",                        [{\"hovertemplate\":\"department=%{x}<br>targeted_productivity=%{y}<extra></extra>\",\"legendgroup\":\"\",\"marker\":{\"color\":\"#636efa\"},\"name\":\"\",\"orientation\":\"v\",\"showlegend\":false,\"x\":[\"finishing\",\"sweing\"],\"xaxis\":\"x\",\"y\":[373.55,520.775],\"yaxis\":\"y\",\"type\":\"funnel\"}],                        {\"template\":{\"data\":{\"bar\":[{\"error_x\":{\"color\":\"#2a3f5f\"},\"error_y\":{\"color\":\"#2a3f5f\"},\"marker\":{\"line\":{\"color\":\"#E5ECF6\",\"width\":0.5},\"pattern\":{\"fillmode\":\"overlay\",\"size\":10,\"solidity\":0.2}},\"type\":\"bar\"}],\"barpolar\":[{\"marker\":{\"line\":{\"color\":\"#E5ECF6\",\"width\":0.5},\"pattern\":{\"fillmode\":\"overlay\",\"size\":10,\"solidity\":0.2}},\"type\":\"barpolar\"}],\"carpet\":[{\"aaxis\":{\"endlinecolor\":\"#2a3f5f\",\"gridcolor\":\"white\",\"linecolor\":\"white\",\"minorgridcolor\":\"white\",\"startlinecolor\":\"#2a3f5f\"},\"baxis\":{\"endlinecolor\":\"#2a3f5f\",\"gridcolor\":\"white\",\"linecolor\":\"white\",\"minorgridcolor\":\"white\",\"startlinecolor\":\"#2a3f5f\"},\"type\":\"carpet\"}],\"choropleth\":[{\"colorbar\":{\"outlinewidth\":0,\"ticks\":\"\"},\"type\":\"choropleth\"}],\"contour\":[{\"colorbar\":{\"outlinewidth\":0,\"ticks\":\"\"},\"colorscale\":[[0.0,\"#0d0887\"],[0.1111111111111111,\"#46039f\"],[0.2222222222222222,\"#7201a8\"],[0.3333333333333333,\"#9c179e\"],[0.4444444444444444,\"#bd3786\"],[0.5555555555555556,\"#d8576b\"],[0.6666666666666666,\"#ed7953\"],[0.7777777777777778,\"#fb9f3a\"],[0.8888888888888888,\"#fdca26\"],[1.0,\"#f0f921\"]],\"type\":\"contour\"}],\"contourcarpet\":[{\"colorbar\":{\"outlinewidth\":0,\"ticks\":\"\"},\"type\":\"contourcarpet\"}],\"heatmap\":[{\"colorbar\":{\"outlinewidth\":0,\"ticks\":\"\"},\"colorscale\":[[0.0,\"#0d0887\"],[0.1111111111111111,\"#46039f\"],[0.2222222222222222,\"#7201a8\"],[0.3333333333333333,\"#9c179e\"],[0.4444444444444444,\"#bd3786\"],[0.5555555555555556,\"#d8576b\"],[0.6666666666666666,\"#ed7953\"],[0.7777777777777778,\"#fb9f3a\"],[0.8888888888888888,\"#fdca26\"],[1.0,\"#f0f921\"]],\"type\":\"heatmap\"}],\"heatmapgl\":[{\"colorbar\":{\"outlinewidth\":0,\"ticks\":\"\"},\"colorscale\":[[0.0,\"#0d0887\"],[0.1111111111111111,\"#46039f\"],[0.2222222222222222,\"#7201a8\"],[0.3333333333333333,\"#9c179e\"],[0.4444444444444444,\"#bd3786\"],[0.5555555555555556,\"#d8576b\"],[0.6666666666666666,\"#ed7953\"],[0.7777777777777778,\"#fb9f3a\"],[0.8888888888888888,\"#fdca26\"],[1.0,\"#f0f921\"]],\"type\":\"heatmapgl\"}],\"histogram\":[{\"marker\":{\"pattern\":{\"fillmode\":\"overlay\",\"size\":10,\"solidity\":0.2}},\"type\":\"histogram\"}],\"histogram2d\":[{\"colorbar\":{\"outlinewidth\":0,\"ticks\":\"\"},\"colorscale\":[[0.0,\"#0d0887\"],[0.1111111111111111,\"#46039f\"],[0.2222222222222222,\"#7201a8\"],[0.3333333333333333,\"#9c179e\"],[0.4444444444444444,\"#bd3786\"],[0.5555555555555556,\"#d8576b\"],[0.6666666666666666,\"#ed7953\"],[0.7777777777777778,\"#fb9f3a\"],[0.8888888888888888,\"#fdca26\"],[1.0,\"#f0f921\"]],\"type\":\"histogram2d\"}],\"histogram2dcontour\":[{\"colorbar\":{\"outlinewidth\":0,\"ticks\":\"\"},\"colorscale\":[[0.0,\"#0d0887\"],[0.1111111111111111,\"#46039f\"],[0.2222222222222222,\"#7201a8\"],[0.3333333333333333,\"#9c179e\"],[0.4444444444444444,\"#bd3786\"],[0.5555555555555556,\"#d8576b\"],[0.6666666666666666,\"#ed7953\"],[0.7777777777777778,\"#fb9f3a\"],[0.8888888888888888,\"#fdca26\"],[1.0,\"#f0f921\"]],\"type\":\"histogram2dcontour\"}],\"mesh3d\":[{\"colorbar\":{\"outlinewidth\":0,\"ticks\":\"\"},\"type\":\"mesh3d\"}],\"parcoords\":[{\"line\":{\"colorbar\":{\"outlinewidth\":0,\"ticks\":\"\"}},\"type\":\"parcoords\"}],\"pie\":[{\"automargin\":true,\"type\":\"pie\"}],\"scatter\":[{\"marker\":{\"colorbar\":{\"outlinewidth\":0,\"ticks\":\"\"}},\"type\":\"scatter\"}],\"scatter3d\":[{\"line\":{\"colorbar\":{\"outlinewidth\":0,\"ticks\":\"\"}},\"marker\":{\"colorbar\":{\"outlinewidth\":0,\"ticks\":\"\"}},\"type\":\"scatter3d\"}],\"scattercarpet\":[{\"marker\":{\"colorbar\":{\"outlinewidth\":0,\"ticks\":\"\"}},\"type\":\"scattercarpet\"}],\"scattergeo\":[{\"marker\":{\"colorbar\":{\"outlinewidth\":0,\"ticks\":\"\"}},\"type\":\"scattergeo\"}],\"scattergl\":[{\"marker\":{\"colorbar\":{\"outlinewidth\":0,\"ticks\":\"\"}},\"type\":\"scattergl\"}],\"scattermapbox\":[{\"marker\":{\"colorbar\":{\"outlinewidth\":0,\"ticks\":\"\"}},\"type\":\"scattermapbox\"}],\"scatterpolar\":[{\"marker\":{\"colorbar\":{\"outlinewidth\":0,\"ticks\":\"\"}},\"type\":\"scatterpolar\"}],\"scatterpolargl\":[{\"marker\":{\"colorbar\":{\"outlinewidth\":0,\"ticks\":\"\"}},\"type\":\"scatterpolargl\"}],\"scatterternary\":[{\"marker\":{\"colorbar\":{\"outlinewidth\":0,\"ticks\":\"\"}},\"type\":\"scatterternary\"}],\"surface\":[{\"colorbar\":{\"outlinewidth\":0,\"ticks\":\"\"},\"colorscale\":[[0.0,\"#0d0887\"],[0.1111111111111111,\"#46039f\"],[0.2222222222222222,\"#7201a8\"],[0.3333333333333333,\"#9c179e\"],[0.4444444444444444,\"#bd3786\"],[0.5555555555555556,\"#d8576b\"],[0.6666666666666666,\"#ed7953\"],[0.7777777777777778,\"#fb9f3a\"],[0.8888888888888888,\"#fdca26\"],[1.0,\"#f0f921\"]],\"type\":\"surface\"}],\"table\":[{\"cells\":{\"fill\":{\"color\":\"#EBF0F8\"},\"line\":{\"color\":\"white\"}},\"header\":{\"fill\":{\"color\":\"#C8D4E3\"},\"line\":{\"color\":\"white\"}},\"type\":\"table\"}]},\"layout\":{\"annotationdefaults\":{\"arrowcolor\":\"#2a3f5f\",\"arrowhead\":0,\"arrowwidth\":1},\"autotypenumbers\":\"strict\",\"coloraxis\":{\"colorbar\":{\"outlinewidth\":0,\"ticks\":\"\"}},\"colorscale\":{\"diverging\":[[0,\"#8e0152\"],[0.1,\"#c51b7d\"],[0.2,\"#de77ae\"],[0.3,\"#f1b6da\"],[0.4,\"#fde0ef\"],[0.5,\"#f7f7f7\"],[0.6,\"#e6f5d0\"],[0.7,\"#b8e186\"],[0.8,\"#7fbc41\"],[0.9,\"#4d9221\"],[1,\"#276419\"]],\"sequential\":[[0.0,\"#0d0887\"],[0.1111111111111111,\"#46039f\"],[0.2222222222222222,\"#7201a8\"],[0.3333333333333333,\"#9c179e\"],[0.4444444444444444,\"#bd3786\"],[0.5555555555555556,\"#d8576b\"],[0.6666666666666666,\"#ed7953\"],[0.7777777777777778,\"#fb9f3a\"],[0.8888888888888888,\"#fdca26\"],[1.0,\"#f0f921\"]],\"sequentialminus\":[[0.0,\"#0d0887\"],[0.1111111111111111,\"#46039f\"],[0.2222222222222222,\"#7201a8\"],[0.3333333333333333,\"#9c179e\"],[0.4444444444444444,\"#bd3786\"],[0.5555555555555556,\"#d8576b\"],[0.6666666666666666,\"#ed7953\"],[0.7777777777777778,\"#fb9f3a\"],[0.8888888888888888,\"#fdca26\"],[1.0,\"#f0f921\"]]},\"colorway\":[\"#636efa\",\"#EF553B\",\"#00cc96\",\"#ab63fa\",\"#FFA15A\",\"#19d3f3\",\"#FF6692\",\"#B6E880\",\"#FF97FF\",\"#FECB52\"],\"font\":{\"color\":\"#2a3f5f\"},\"geo\":{\"bgcolor\":\"white\",\"lakecolor\":\"white\",\"landcolor\":\"#E5ECF6\",\"showlakes\":true,\"showland\":true,\"subunitcolor\":\"white\"},\"hoverlabel\":{\"align\":\"left\"},\"hovermode\":\"closest\",\"mapbox\":{\"style\":\"light\"},\"paper_bgcolor\":\"white\",\"plot_bgcolor\":\"#E5ECF6\",\"polar\":{\"angularaxis\":{\"gridcolor\":\"white\",\"linecolor\":\"white\",\"ticks\":\"\"},\"bgcolor\":\"#E5ECF6\",\"radialaxis\":{\"gridcolor\":\"white\",\"linecolor\":\"white\",\"ticks\":\"\"}},\"scene\":{\"xaxis\":{\"backgroundcolor\":\"#E5ECF6\",\"gridcolor\":\"white\",\"gridwidth\":2,\"linecolor\":\"white\",\"showbackground\":true,\"ticks\":\"\",\"zerolinecolor\":\"white\"},\"yaxis\":{\"backgroundcolor\":\"#E5ECF6\",\"gridcolor\":\"white\",\"gridwidth\":2,\"linecolor\":\"white\",\"showbackground\":true,\"ticks\":\"\",\"zerolinecolor\":\"white\"},\"zaxis\":{\"backgroundcolor\":\"#E5ECF6\",\"gridcolor\":\"white\",\"gridwidth\":2,\"linecolor\":\"white\",\"showbackground\":true,\"ticks\":\"\",\"zerolinecolor\":\"white\"}},\"shapedefaults\":{\"line\":{\"color\":\"#2a3f5f\"}},\"ternary\":{\"aaxis\":{\"gridcolor\":\"white\",\"linecolor\":\"white\",\"ticks\":\"\"},\"baxis\":{\"gridcolor\":\"white\",\"linecolor\":\"white\",\"ticks\":\"\"},\"bgcolor\":\"#E5ECF6\",\"caxis\":{\"gridcolor\":\"white\",\"linecolor\":\"white\",\"ticks\":\"\"}},\"title\":{\"x\":0.05},\"xaxis\":{\"automargin\":true,\"gridcolor\":\"white\",\"linecolor\":\"white\",\"ticks\":\"\",\"title\":{\"standoff\":15},\"zerolinecolor\":\"white\",\"zerolinewidth\":2},\"yaxis\":{\"automargin\":true,\"gridcolor\":\"white\",\"linecolor\":\"white\",\"ticks\":\"\",\"title\":{\"standoff\":15},\"zerolinecolor\":\"white\",\"zerolinewidth\":2}}},\"xaxis\":{\"anchor\":\"y\",\"domain\":[0.0,1.0],\"title\":{\"text\":\"department\"}},\"yaxis\":{\"anchor\":\"x\",\"domain\":[0.0,1.0],\"title\":{\"text\":\"targeted_productivity\"}},\"legend\":{\"tracegroupgap\":0},\"margin\":{\"t\":60}},                        {\"responsive\": true}                    ).then(function(){\n",
              "                            \n",
              "var gd = document.getElementById('a0e3f93b-7f95-4bfa-8ff1-b3f19302a9ef');\n",
              "var x = new MutationObserver(function (mutations, observer) {{\n",
              "        var display = window.getComputedStyle(gd).display;\n",
              "        if (!display || display === 'none') {{\n",
              "            console.log([gd, 'removed!']);\n",
              "            Plotly.purge(gd);\n",
              "            observer.disconnect();\n",
              "        }}\n",
              "}});\n",
              "\n",
              "// Listen for the removal of the full notebook cells\n",
              "var notebookContainer = gd.closest('#notebook-container');\n",
              "if (notebookContainer) {{\n",
              "    x.observe(notebookContainer, {childList: true});\n",
              "}}\n",
              "\n",
              "// Listen for the clearing of the current output cell\n",
              "var outputEl = gd.closest('.output');\n",
              "if (outputEl) {{\n",
              "    x.observe(outputEl, {childList: true});\n",
              "}}\n",
              "\n",
              "                        })                };                            </script>        </div>\n",
              "</body>\n",
              "</html>"
            ]
          },
          "metadata": {}
        }
      ]
    },
    {
      "cell_type": "markdown",
      "source": [
        "# Bar Chart Representation of Team Wise mean targeted productivity"
      ],
      "metadata": {
        "id": "VGPr8rm2AT3V"
      }
    },
    {
      "cell_type": "code",
      "source": [
        "df.head()"
      ],
      "metadata": {
        "colab": {
          "base_uri": "https://localhost:8080/",
          "height": 357
        },
        "id": "xgP0Te3nAcnv",
        "outputId": "3b79247b-f46e-40e5-f1f0-ddb94e71847b"
      },
      "execution_count": 185,
      "outputs": [
        {
          "output_type": "execute_result",
          "data": {
            "text/plain": [
              "      date   quarter department       day  team  targeted_productivity  \\\n",
              "0  2015-01  Quarter1     sweing  Thursday     8                   0.80   \n",
              "1  2015-01  Quarter1  finishing  Thursday     1                   0.75   \n",
              "2  2015-01  Quarter1     sweing  Thursday    11                   0.80   \n",
              "3  2015-01  Quarter1     sweing  Thursday    12                   0.80   \n",
              "4  2015-01  Quarter1     sweing  Thursday     6                   0.80   \n",
              "\n",
              "        smv  total_work     wip  over_time  incentive  idle_time  idle_men  \\\n",
              "0  0.436000     19876.0  1108.0      118.0         98        0.0         0   \n",
              "1  0.065667     21791.0  1039.0       16.0          0        0.0         0   \n",
              "2  0.190167      5513.0   968.0       61.0         50        0.0         0   \n",
              "3  0.190167     23582.0   968.0       61.0         50        0.0         0   \n",
              "4  0.431667     13469.0  1170.0       32.0         50        0.0         0   \n",
              "\n",
              "  no_of_style_change  no_of_workers  actual_productivity  pending  \\\n",
              "0                 No             59             0.940725  18768.0   \n",
              "1                 No              8             0.886500  20752.0   \n",
              "2                 No             31             0.800570   4545.0   \n",
              "3                 No             31             0.800570  22614.0   \n",
              "4                 No             56             0.800382  12299.0   \n",
              "\n",
              "   prop_job_remaining  Actual_workers  \n",
              "0            0.944254              59  \n",
              "1            0.952320               8  \n",
              "2            0.824415              31  \n",
              "3            0.958952              31  \n",
              "4            0.913134              56  "
            ],
            "text/html": [
              "\n",
              "  <div id=\"df-4eaa513a-0ceb-41a8-827f-63128c3ed54f\">\n",
              "    <div class=\"colab-df-container\">\n",
              "      <div>\n",
              "<style scoped>\n",
              "    .dataframe tbody tr th:only-of-type {\n",
              "        vertical-align: middle;\n",
              "    }\n",
              "\n",
              "    .dataframe tbody tr th {\n",
              "        vertical-align: top;\n",
              "    }\n",
              "\n",
              "    .dataframe thead th {\n",
              "        text-align: right;\n",
              "    }\n",
              "</style>\n",
              "<table border=\"1\" class=\"dataframe\">\n",
              "  <thead>\n",
              "    <tr style=\"text-align: right;\">\n",
              "      <th></th>\n",
              "      <th>date</th>\n",
              "      <th>quarter</th>\n",
              "      <th>department</th>\n",
              "      <th>day</th>\n",
              "      <th>team</th>\n",
              "      <th>targeted_productivity</th>\n",
              "      <th>smv</th>\n",
              "      <th>total_work</th>\n",
              "      <th>wip</th>\n",
              "      <th>over_time</th>\n",
              "      <th>incentive</th>\n",
              "      <th>idle_time</th>\n",
              "      <th>idle_men</th>\n",
              "      <th>no_of_style_change</th>\n",
              "      <th>no_of_workers</th>\n",
              "      <th>actual_productivity</th>\n",
              "      <th>pending</th>\n",
              "      <th>prop_job_remaining</th>\n",
              "      <th>Actual_workers</th>\n",
              "    </tr>\n",
              "  </thead>\n",
              "  <tbody>\n",
              "    <tr>\n",
              "      <th>0</th>\n",
              "      <td>2015-01</td>\n",
              "      <td>Quarter1</td>\n",
              "      <td>sweing</td>\n",
              "      <td>Thursday</td>\n",
              "      <td>8</td>\n",
              "      <td>0.80</td>\n",
              "      <td>0.436000</td>\n",
              "      <td>19876.0</td>\n",
              "      <td>1108.0</td>\n",
              "      <td>118.0</td>\n",
              "      <td>98</td>\n",
              "      <td>0.0</td>\n",
              "      <td>0</td>\n",
              "      <td>No</td>\n",
              "      <td>59</td>\n",
              "      <td>0.940725</td>\n",
              "      <td>18768.0</td>\n",
              "      <td>0.944254</td>\n",
              "      <td>59</td>\n",
              "    </tr>\n",
              "    <tr>\n",
              "      <th>1</th>\n",
              "      <td>2015-01</td>\n",
              "      <td>Quarter1</td>\n",
              "      <td>finishing</td>\n",
              "      <td>Thursday</td>\n",
              "      <td>1</td>\n",
              "      <td>0.75</td>\n",
              "      <td>0.065667</td>\n",
              "      <td>21791.0</td>\n",
              "      <td>1039.0</td>\n",
              "      <td>16.0</td>\n",
              "      <td>0</td>\n",
              "      <td>0.0</td>\n",
              "      <td>0</td>\n",
              "      <td>No</td>\n",
              "      <td>8</td>\n",
              "      <td>0.886500</td>\n",
              "      <td>20752.0</td>\n",
              "      <td>0.952320</td>\n",
              "      <td>8</td>\n",
              "    </tr>\n",
              "    <tr>\n",
              "      <th>2</th>\n",
              "      <td>2015-01</td>\n",
              "      <td>Quarter1</td>\n",
              "      <td>sweing</td>\n",
              "      <td>Thursday</td>\n",
              "      <td>11</td>\n",
              "      <td>0.80</td>\n",
              "      <td>0.190167</td>\n",
              "      <td>5513.0</td>\n",
              "      <td>968.0</td>\n",
              "      <td>61.0</td>\n",
              "      <td>50</td>\n",
              "      <td>0.0</td>\n",
              "      <td>0</td>\n",
              "      <td>No</td>\n",
              "      <td>31</td>\n",
              "      <td>0.800570</td>\n",
              "      <td>4545.0</td>\n",
              "      <td>0.824415</td>\n",
              "      <td>31</td>\n",
              "    </tr>\n",
              "    <tr>\n",
              "      <th>3</th>\n",
              "      <td>2015-01</td>\n",
              "      <td>Quarter1</td>\n",
              "      <td>sweing</td>\n",
              "      <td>Thursday</td>\n",
              "      <td>12</td>\n",
              "      <td>0.80</td>\n",
              "      <td>0.190167</td>\n",
              "      <td>23582.0</td>\n",
              "      <td>968.0</td>\n",
              "      <td>61.0</td>\n",
              "      <td>50</td>\n",
              "      <td>0.0</td>\n",
              "      <td>0</td>\n",
              "      <td>No</td>\n",
              "      <td>31</td>\n",
              "      <td>0.800570</td>\n",
              "      <td>22614.0</td>\n",
              "      <td>0.958952</td>\n",
              "      <td>31</td>\n",
              "    </tr>\n",
              "    <tr>\n",
              "      <th>4</th>\n",
              "      <td>2015-01</td>\n",
              "      <td>Quarter1</td>\n",
              "      <td>sweing</td>\n",
              "      <td>Thursday</td>\n",
              "      <td>6</td>\n",
              "      <td>0.80</td>\n",
              "      <td>0.431667</td>\n",
              "      <td>13469.0</td>\n",
              "      <td>1170.0</td>\n",
              "      <td>32.0</td>\n",
              "      <td>50</td>\n",
              "      <td>0.0</td>\n",
              "      <td>0</td>\n",
              "      <td>No</td>\n",
              "      <td>56</td>\n",
              "      <td>0.800382</td>\n",
              "      <td>12299.0</td>\n",
              "      <td>0.913134</td>\n",
              "      <td>56</td>\n",
              "    </tr>\n",
              "  </tbody>\n",
              "</table>\n",
              "</div>\n",
              "      <button class=\"colab-df-convert\" onclick=\"convertToInteractive('df-4eaa513a-0ceb-41a8-827f-63128c3ed54f')\"\n",
              "              title=\"Convert this dataframe to an interactive table.\"\n",
              "              style=\"display:none;\">\n",
              "        \n",
              "  <svg xmlns=\"http://www.w3.org/2000/svg\" height=\"24px\"viewBox=\"0 0 24 24\"\n",
              "       width=\"24px\">\n",
              "    <path d=\"M0 0h24v24H0V0z\" fill=\"none\"/>\n",
              "    <path d=\"M18.56 5.44l.94 2.06.94-2.06 2.06-.94-2.06-.94-.94-2.06-.94 2.06-2.06.94zm-11 1L8.5 8.5l.94-2.06 2.06-.94-2.06-.94L8.5 2.5l-.94 2.06-2.06.94zm10 10l.94 2.06.94-2.06 2.06-.94-2.06-.94-.94-2.06-.94 2.06-2.06.94z\"/><path d=\"M17.41 7.96l-1.37-1.37c-.4-.4-.92-.59-1.43-.59-.52 0-1.04.2-1.43.59L10.3 9.45l-7.72 7.72c-.78.78-.78 2.05 0 2.83L4 21.41c.39.39.9.59 1.41.59.51 0 1.02-.2 1.41-.59l7.78-7.78 2.81-2.81c.8-.78.8-2.07 0-2.86zM5.41 20L4 18.59l7.72-7.72 1.47 1.35L5.41 20z\"/>\n",
              "  </svg>\n",
              "      </button>\n",
              "      \n",
              "  <style>\n",
              "    .colab-df-container {\n",
              "      display:flex;\n",
              "      flex-wrap:wrap;\n",
              "      gap: 12px;\n",
              "    }\n",
              "\n",
              "    .colab-df-convert {\n",
              "      background-color: #E8F0FE;\n",
              "      border: none;\n",
              "      border-radius: 50%;\n",
              "      cursor: pointer;\n",
              "      display: none;\n",
              "      fill: #1967D2;\n",
              "      height: 32px;\n",
              "      padding: 0 0 0 0;\n",
              "      width: 32px;\n",
              "    }\n",
              "\n",
              "    .colab-df-convert:hover {\n",
              "      background-color: #E2EBFA;\n",
              "      box-shadow: 0px 1px 2px rgba(60, 64, 67, 0.3), 0px 1px 3px 1px rgba(60, 64, 67, 0.15);\n",
              "      fill: #174EA6;\n",
              "    }\n",
              "\n",
              "    [theme=dark] .colab-df-convert {\n",
              "      background-color: #3B4455;\n",
              "      fill: #D2E3FC;\n",
              "    }\n",
              "\n",
              "    [theme=dark] .colab-df-convert:hover {\n",
              "      background-color: #434B5C;\n",
              "      box-shadow: 0px 1px 3px 1px rgba(0, 0, 0, 0.15);\n",
              "      filter: drop-shadow(0px 1px 2px rgba(0, 0, 0, 0.3));\n",
              "      fill: #FFFFFF;\n",
              "    }\n",
              "  </style>\n",
              "\n",
              "      <script>\n",
              "        const buttonEl =\n",
              "          document.querySelector('#df-4eaa513a-0ceb-41a8-827f-63128c3ed54f button.colab-df-convert');\n",
              "        buttonEl.style.display =\n",
              "          google.colab.kernel.accessAllowed ? 'block' : 'none';\n",
              "\n",
              "        async function convertToInteractive(key) {\n",
              "          const element = document.querySelector('#df-4eaa513a-0ceb-41a8-827f-63128c3ed54f');\n",
              "          const dataTable =\n",
              "            await google.colab.kernel.invokeFunction('convertToInteractive',\n",
              "                                                     [key], {});\n",
              "          if (!dataTable) return;\n",
              "\n",
              "          const docLinkHtml = 'Like what you see? Visit the ' +\n",
              "            '<a target=\"_blank\" href=https://colab.research.google.com/notebooks/data_table.ipynb>data table notebook</a>'\n",
              "            + ' to learn more about interactive tables.';\n",
              "          element.innerHTML = '';\n",
              "          dataTable['output_type'] = 'display_data';\n",
              "          await google.colab.output.renderOutput(dataTable, element);\n",
              "          const docLink = document.createElement('div');\n",
              "          docLink.innerHTML = docLinkHtml;\n",
              "          element.appendChild(docLink);\n",
              "        }\n",
              "      </script>\n",
              "    </div>\n",
              "  </div>\n",
              "  "
            ]
          },
          "metadata": {},
          "execution_count": 185
        }
      ]
    },
    {
      "cell_type": "code",
      "source": [
        "plt.title('Team Wise Frequency')\n",
        "df.groupby('team')['targeted_productivity'].mean().plot(kind = 'bar')\n",
        "plt.show()"
      ],
      "metadata": {
        "colab": {
          "base_uri": "https://localhost:8080/",
          "height": 516
        },
        "id": "J1AX3W8c-aec",
        "outputId": "d9ab4c8a-b702-4831-b807-884791d793f2"
      },
      "execution_count": 186,
      "outputs": [
        {
          "output_type": "display_data",
          "data": {
            "text/plain": [
              "<Figure size 720x576 with 1 Axes>"
            ],
            "image/png": "[encoded data removed]"
          },
          "metadata": {
            "needs_background": "light"
          }
        }
      ]
    },
    {
      "cell_type": "markdown",
      "source": [
        "# Average overtime based on team and department"
      ],
      "metadata": {
        "id": "TkU_odItEIIv"
      }
    },
    {
      "cell_type": "code",
      "source": [
        "b2=df.groupby(['team','department'])['over_time'].mean().reset_index()\n",
        "b2"
      ],
      "metadata": {
        "colab": {
          "base_uri": "https://localhost:8080/",
          "height": 802
        },
        "id": "WF-pCPejBrIa",
        "outputId": "aa741836-92cb-45db-cc7b-0eea5e392c77"
      },
      "execution_count": 187,
      "outputs": [
        {
          "output_type": "execute_result",
          "data": {
            "text/plain": [
              "    team department   over_time\n",
              "0      1  finishing   31.469388\n",
              "1      1     sweing  122.258929\n",
              "2      2  finishing   33.313725\n",
              "3      2     sweing  106.758621\n",
              "4      3  finishing   45.121212\n",
              "5      3     sweing  114.279661\n",
              "6      4  finishing   45.978261\n",
              "7      4     sweing  124.254237\n",
              "8      5  finishing   35.257143\n",
              "9      5     sweing  121.189655\n",
              "10     6  finishing   25.457143\n",
              "11     6     sweing   73.894068\n",
              "12     7  finishing   31.631579\n",
              "13     7     sweing  113.359649\n",
              "14     8  finishing   26.358491\n",
              "15     8     sweing  115.163636\n",
              "16     9  finishing   21.000000\n",
              "17     9     sweing  117.810345\n",
              "18    10  finishing   30.952381\n",
              "19    10     sweing  110.719298\n",
              "20    11  finishing   31.666667\n",
              "21    11     sweing   91.108333\n",
              "22    12  finishing   29.325000\n",
              "23    12     sweing   73.734195"
            ],
            "text/html": [
              "\n",
              "  <div id=\"df-1a246b65-41a4-44bf-9934-0e5ee7520572\">\n",
              "    <div class=\"colab-df-container\">\n",
              "      <div>\n",
              "<style scoped>\n",
              "    .dataframe tbody tr th:only-of-type {\n",
              "        vertical-align: middle;\n",
              "    }\n",
              "\n",
              "    .dataframe tbody tr th {\n",
              "        vertical-align: top;\n",
              "    }\n",
              "\n",
              "    .dataframe thead th {\n",
              "        text-align: right;\n",
              "    }\n",
              "</style>\n",
              "<table border=\"1\" class=\"dataframe\">\n",
              "  <thead>\n",
              "    <tr style=\"text-align: right;\">\n",
              "      <th></th>\n",
              "      <th>team</th>\n",
              "      <th>department</th>\n",
              "      <th>over_time</th>\n",
              "    </tr>\n",
              "  </thead>\n",
              "  <tbody>\n",
              "    <tr>\n",
              "      <th>0</th>\n",
              "      <td>1</td>\n",
              "      <td>finishing</td>\n",
              "      <td>31.469388</td>\n",
              "    </tr>\n",
              "    <tr>\n",
              "      <th>1</th>\n",
              "      <td>1</td>\n",
              "      <td>sweing</td>\n",
              "      <td>122.258929</td>\n",
              "    </tr>\n",
              "    <tr>\n",
              "      <th>2</th>\n",
              "      <td>2</td>\n",
              "      <td>finishing</td>\n",
              "      <td>33.313725</td>\n",
              "    </tr>\n",
              "    <tr>\n",
              "      <th>3</th>\n",
              "      <td>2</td>\n",
              "      <td>sweing</td>\n",
              "      <td>106.758621</td>\n",
              "    </tr>\n",
              "    <tr>\n",
              "      <th>4</th>\n",
              "      <td>3</td>\n",
              "      <td>finishing</td>\n",
              "      <td>45.121212</td>\n",
              "    </tr>\n",
              "    <tr>\n",
              "      <th>5</th>\n",
              "      <td>3</td>\n",
              "      <td>sweing</td>\n",
              "      <td>114.279661</td>\n",
              "    </tr>\n",
              "    <tr>\n",
              "      <th>6</th>\n",
              "      <td>4</td>\n",
              "      <td>finishing</td>\n",
              "      <td>45.978261</td>\n",
              "    </tr>\n",
              "    <tr>\n",
              "      <th>7</th>\n",
              "      <td>4</td>\n",
              "      <td>sweing</td>\n",
              "      <td>124.254237</td>\n",
              "    </tr>\n",
              "    <tr>\n",
              "      <th>8</th>\n",
              "      <td>5</td>\n",
              "      <td>finishing</td>\n",
              "      <td>35.257143</td>\n",
              "    </tr>\n",
              "    <tr>\n",
              "      <th>9</th>\n",
              "      <td>5</td>\n",
              "      <td>sweing</td>\n",
              "      <td>121.189655</td>\n",
              "    </tr>\n",
              "    <tr>\n",
              "      <th>10</th>\n",
              "      <td>6</td>\n",
              "      <td>finishing</td>\n",
              "      <td>25.457143</td>\n",
              "    </tr>\n",
              "    <tr>\n",
              "      <th>11</th>\n",
              "      <td>6</td>\n",
              "      <td>sweing</td>\n",
              "      <td>73.894068</td>\n",
              "    </tr>\n",
              "    <tr>\n",
              "      <th>12</th>\n",
              "      <td>7</td>\n",
              "      <td>finishing</td>\n",
              "      <td>31.631579</td>\n",
              "    </tr>\n",
              "    <tr>\n",
              "      <th>13</th>\n",
              "      <td>7</td>\n",
              "      <td>sweing</td>\n",
              "      <td>113.359649</td>\n",
              "    </tr>\n",
              "    <tr>\n",
              "      <th>14</th>\n",
              "      <td>8</td>\n",
              "      <td>finishing</td>\n",
              "      <td>26.358491</td>\n",
              "    </tr>\n",
              "    <tr>\n",
              "      <th>15</th>\n",
              "      <td>8</td>\n",
              "      <td>sweing</td>\n",
              "      <td>115.163636</td>\n",
              "    </tr>\n",
              "    <tr>\n",
              "      <th>16</th>\n",
              "      <td>9</td>\n",
              "      <td>finishing</td>\n",
              "      <td>21.000000</td>\n",
              "    </tr>\n",
              "    <tr>\n",
              "      <th>17</th>\n",
              "      <td>9</td>\n",
              "      <td>sweing</td>\n",
              "      <td>117.810345</td>\n",
              "    </tr>\n",
              "    <tr>\n",
              "      <th>18</th>\n",
              "      <td>10</td>\n",
              "      <td>finishing</td>\n",
              "      <td>30.952381</td>\n",
              "    </tr>\n",
              "    <tr>\n",
              "      <th>19</th>\n",
              "      <td>10</td>\n",
              "      <td>sweing</td>\n",
              "      <td>110.719298</td>\n",
              "    </tr>\n",
              "    <tr>\n",
              "      <th>20</th>\n",
              "      <td>11</td>\n",
              "      <td>finishing</td>\n",
              "      <td>31.666667</td>\n",
              "    </tr>\n",
              "    <tr>\n",
              "      <th>21</th>\n",
              "      <td>11</td>\n",
              "      <td>sweing</td>\n",
              "      <td>91.108333</td>\n",
              "    </tr>\n",
              "    <tr>\n",
              "      <th>22</th>\n",
              "      <td>12</td>\n",
              "      <td>finishing</td>\n",
              "      <td>29.325000</td>\n",
              "    </tr>\n",
              "    <tr>\n",
              "      <th>23</th>\n",
              "      <td>12</td>\n",
              "      <td>sweing</td>\n",
              "      <td>73.734195</td>\n",
              "    </tr>\n",
              "  </tbody>\n",
              "</table>\n",
              "</div>\n",
              "      <button class=\"colab-df-convert\" onclick=\"convertToInteractive('df-1a246b65-41a4-44bf-9934-0e5ee7520572')\"\n",
              "              title=\"Convert this dataframe to an interactive table.\"\n",
              "              style=\"display:none;\">\n",
              "        \n",
              "  <svg xmlns=\"http://www.w3.org/2000/svg\" height=\"24px\"viewBox=\"0 0 24 24\"\n",
              "       width=\"24px\">\n",
              "    <path d=\"M0 0h24v24H0V0z\" fill=\"none\"/>\n",
              "    <path d=\"M18.56 5.44l.94 2.06.94-2.06 2.06-.94-2.06-.94-.94-2.06-.94 2.06-2.06.94zm-11 1L8.5 8.5l.94-2.06 2.06-.94-2.06-.94L8.5 2.5l-.94 2.06-2.06.94zm10 10l.94 2.06.94-2.06 2.06-.94-2.06-.94-.94-2.06-.94 2.06-2.06.94z\"/><path d=\"M17.41 7.96l-1.37-1.37c-.4-.4-.92-.59-1.43-.59-.52 0-1.04.2-1.43.59L10.3 9.45l-7.72 7.72c-.78.78-.78 2.05 0 2.83L4 21.41c.39.39.9.59 1.41.59.51 0 1.02-.2 1.41-.59l7.78-7.78 2.81-2.81c.8-.78.8-2.07 0-2.86zM5.41 20L4 18.59l7.72-7.72 1.47 1.35L5.41 20z\"/>\n",
              "  </svg>\n",
              "      </button>\n",
              "      \n",
              "  <style>\n",
              "    .colab-df-container {\n",
              "      display:flex;\n",
              "      flex-wrap:wrap;\n",
              "      gap: 12px;\n",
              "    }\n",
              "\n",
              "    .colab-df-convert {\n",
              "      background-color: #E8F0FE;\n",
              "      border: none;\n",
              "      border-radius: 50%;\n",
              "      cursor: pointer;\n",
              "      display: none;\n",
              "      fill: #1967D2;\n",
              "      height: 32px;\n",
              "      padding: 0 0 0 0;\n",
              "      width: 32px;\n",
              "    }\n",
              "\n",
              "    .colab-df-convert:hover {\n",
              "      background-color: #E2EBFA;\n",
              "      box-shadow: 0px 1px 2px rgba(60, 64, 67, 0.3), 0px 1px 3px 1px rgba(60, 64, 67, 0.15);\n",
              "      fill: #174EA6;\n",
              "    }\n",
              "\n",
              "    [theme=dark] .colab-df-convert {\n",
              "      background-color: #3B4455;\n",
              "      fill: #D2E3FC;\n",
              "    }\n",
              "\n",
              "    [theme=dark] .colab-df-convert:hover {\n",
              "      background-color: #434B5C;\n",
              "      box-shadow: 0px 1px 3px 1px rgba(0, 0, 0, 0.15);\n",
              "      filter: drop-shadow(0px 1px 2px rgba(0, 0, 0, 0.3));\n",
              "      fill: #FFFFFF;\n",
              "    }\n",
              "  </style>\n",
              "\n",
              "      <script>\n",
              "        const buttonEl =\n",
              "          document.querySelector('#df-1a246b65-41a4-44bf-9934-0e5ee7520572 button.colab-df-convert');\n",
              "        buttonEl.style.display =\n",
              "          google.colab.kernel.accessAllowed ? 'block' : 'none';\n",
              "\n",
              "        async function convertToInteractive(key) {\n",
              "          const element = document.querySelector('#df-1a246b65-41a4-44bf-9934-0e5ee7520572');\n",
              "          const dataTable =\n",
              "            await google.colab.kernel.invokeFunction('convertToInteractive',\n",
              "                                                     [key], {});\n",
              "          if (!dataTable) return;\n",
              "\n",
              "          const docLinkHtml = 'Like what you see? Visit the ' +\n",
              "            '<a target=\"_blank\" href=https://colab.research.google.com/notebooks/data_table.ipynb>data table notebook</a>'\n",
              "            + ' to learn more about interactive tables.';\n",
              "          element.innerHTML = '';\n",
              "          dataTable['output_type'] = 'display_data';\n",
              "          await google.colab.output.renderOutput(dataTable, element);\n",
              "          const docLink = document.createElement('div');\n",
              "          docLink.innerHTML = docLinkHtml;\n",
              "          element.appendChild(docLink);\n",
              "        }\n",
              "      </script>\n",
              "    </div>\n",
              "  </div>\n",
              "  "
            ]
          },
          "metadata": {},
          "execution_count": 187
        }
      ]
    },
    {
      "cell_type": "code",
      "source": [
        "over=px.bar(b2, x='team', y='over_time', color='department', title='Average overtime based on team and department')\n",
        "over.show()"
      ],
      "metadata": {
        "colab": {
          "base_uri": "https://localhost:8080/",
          "height": 542
        },
        "id": "QjLaUIGTCOtx",
        "outputId": "289d96a9-7cb6-4678-801b-ccc6e18b7d9b"
      },
      "execution_count": 188,
      "outputs": [
        {
          "output_type": "display_data",
          "data": {
            "text/html": [
              "<html>\n",
              "<head><meta charset=\"utf-8\" /></head>\n",
              "<body>\n",
              "    <div>            <script src=\"https://cdnjs.cloudflare.com/ajax/libs/mathjax/2.7.5/MathJax.js?config=TeX-AMS-MML_SVG\"></script><script type=\"text/javascript\">if (window.MathJax) {MathJax.Hub.Config({SVG: {font: \"STIX-Web\"}});}</script>                <script type=\"text/javascript\">window.PlotlyConfig = {MathJaxConfig: 'local'};</script>\n",
              "        <script src=\"https://cdn.plot.ly/plotly-2.8.3.min.js\"></script>                <div id=\"500e7cc5-8ec7-482c-b2d6-884734086150\" class=\"plotly-graph-div\" style=\"height:525px; width:100%;\"></div>            <script type=\"text/javascript\">                                    window.PLOTLYENV=window.PLOTLYENV || {};                                    if (document.getElementById(\"500e7cc5-8ec7-482c-b2d6-884734086150\")) {                    Plotly.newPlot(                        \"500e7cc5-8ec7-482c-b2d6-884734086150\",                        [{\"alignmentgroup\":\"True\",\"hovertemplate\":\"department=finishing<br>team=%{x}<br>over_time=%{y}<extra></extra>\",\"legendgroup\":\"finishing\",\"marker\":{\"color\":\"#636efa\",\"pattern\":{\"shape\":\"\"}},\"name\":\"finishing\",\"offsetgroup\":\"finishing\",\"orientation\":\"v\",\"showlegend\":true,\"textposition\":\"auto\",\"x\":[1,2,3,4,5,6,7,8,9,10,11,12],\"xaxis\":\"x\",\"y\":[31.46938775510204,33.31372549019608,45.121212121212125,45.97826086956522,35.25714285714286,25.457142857142856,31.63157894736842,26.358490566037737,21.0,30.952380952380953,31.666666666666668,29.325],\"yaxis\":\"y\",\"type\":\"bar\"},{\"alignmentgroup\":\"True\",\"hovertemplate\":\"department=sweing<br>team=%{x}<br>over_time=%{y}<extra></extra>\",\"legendgroup\":\"sweing\",\"marker\":{\"color\":\"#EF553B\",\"pattern\":{\"shape\":\"\"}},\"name\":\"sweing\",\"offsetgroup\":\"sweing\",\"orientation\":\"v\",\"showlegend\":true,\"textposition\":\"auto\",\"x\":[1,2,3,4,5,6,7,8,9,10,11,12],\"xaxis\":\"x\",\"y\":[122.25892857142857,106.75862068965517,114.27966101694915,124.2542372881356,121.1896551724138,73.89406779661017,113.35964912280701,115.16363636363636,117.8103448275862,110.71929824561404,91.10833333333333,73.73419540229885],\"yaxis\":\"y\",\"type\":\"bar\"}],                        {\"template\":{\"data\":{\"bar\":[{\"error_x\":{\"color\":\"#2a3f5f\"},\"error_y\":{\"color\":\"#2a3f5f\"},\"marker\":{\"line\":{\"color\":\"#E5ECF6\",\"width\":0.5},\"pattern\":{\"fillmode\":\"overlay\",\"size\":10,\"solidity\":0.2}},\"type\":\"bar\"}],\"barpolar\":[{\"marker\":{\"line\":{\"color\":\"#E5ECF6\",\"width\":0.5},\"pattern\":{\"fillmode\":\"overlay\",\"size\":10,\"solidity\":0.2}},\"type\":\"barpolar\"}],\"carpet\":[{\"aaxis\":{\"endlinecolor\":\"#2a3f5f\",\"gridcolor\":\"white\",\"linecolor\":\"white\",\"minorgridcolor\":\"white\",\"startlinecolor\":\"#2a3f5f\"},\"baxis\":{\"endlinecolor\":\"#2a3f5f\",\"gridcolor\":\"white\",\"linecolor\":\"white\",\"minorgridcolor\":\"white\",\"startlinecolor\":\"#2a3f5f\"},\"type\":\"carpet\"}],\"choropleth\":[{\"colorbar\":{\"outlinewidth\":0,\"ticks\":\"\"},\"type\":\"choropleth\"}],\"contour\":[{\"colorbar\":{\"outlinewidth\":0,\"ticks\":\"\"},\"colorscale\":[[0.0,\"#0d0887\"],[0.1111111111111111,\"#46039f\"],[0.2222222222222222,\"#7201a8\"],[0.3333333333333333,\"#9c179e\"],[0.4444444444444444,\"#bd3786\"],[0.5555555555555556,\"#d8576b\"],[0.6666666666666666,\"#ed7953\"],[0.7777777777777778,\"#fb9f3a\"],[0.8888888888888888,\"#fdca26\"],[1.0,\"#f0f921\"]],\"type\":\"contour\"}],\"contourcarpet\":[{\"colorbar\":{\"outlinewidth\":0,\"ticks\":\"\"},\"type\":\"contourcarpet\"}],\"heatmap\":[{\"colorbar\":{\"outlinewidth\":0,\"ticks\":\"\"},\"colorscale\":[[0.0,\"#0d0887\"],[0.1111111111111111,\"#46039f\"],[0.2222222222222222,\"#7201a8\"],[0.3333333333333333,\"#9c179e\"],[0.4444444444444444,\"#bd3786\"],[0.5555555555555556,\"#d8576b\"],[0.6666666666666666,\"#ed7953\"],[0.7777777777777778,\"#fb9f3a\"],[0.8888888888888888,\"#fdca26\"],[1.0,\"#f0f921\"]],\"type\":\"heatmap\"}],\"heatmapgl\":[{\"colorbar\":{\"outlinewidth\":0,\"ticks\":\"\"},\"colorscale\":[[0.0,\"#0d0887\"],[0.1111111111111111,\"#46039f\"],[0.2222222222222222,\"#7201a8\"],[0.3333333333333333,\"#9c179e\"],[0.4444444444444444,\"#bd3786\"],[0.5555555555555556,\"#d8576b\"],[0.6666666666666666,\"#ed7953\"],[0.7777777777777778,\"#fb9f3a\"],[0.8888888888888888,\"#fdca26\"],[1.0,\"#f0f921\"]],\"type\":\"heatmapgl\"}],\"histogram\":[{\"marker\":{\"pattern\":{\"fillmode\":\"overlay\",\"size\":10,\"solidity\":0.2}},\"type\":\"histogram\"}],\"histogram2d\":[{\"colorbar\":{\"outlinewidth\":0,\"ticks\":\"\"},\"colorscale\":[[0.0,\"#0d0887\"],[0.1111111111111111,\"#46039f\"],[0.2222222222222222,\"#7201a8\"],[0.3333333333333333,\"#9c179e\"],[0.4444444444444444,\"#bd3786\"],[0.5555555555555556,\"#d8576b\"],[0.6666666666666666,\"#ed7953\"],[0.7777777777777778,\"#fb9f3a\"],[0.8888888888888888,\"#fdca26\"],[1.0,\"#f0f921\"]],\"type\":\"histogram2d\"}],\"histogram2dcontour\":[{\"colorbar\":{\"outlinewidth\":0,\"ticks\":\"\"},\"colorscale\":[[0.0,\"#0d0887\"],[0.1111111111111111,\"#46039f\"],[0.2222222222222222,\"#7201a8\"],[0.3333333333333333,\"#9c179e\"],[0.4444444444444444,\"#bd3786\"],[0.5555555555555556,\"#d8576b\"],[0.6666666666666666,\"#ed7953\"],[0.7777777777777778,\"#fb9f3a\"],[0.8888888888888888,\"#fdca26\"],[1.0,\"#f0f921\"]],\"type\":\"histogram2dcontour\"}],\"mesh3d\":[{\"colorbar\":{\"outlinewidth\":0,\"ticks\":\"\"},\"type\":\"mesh3d\"}],\"parcoords\":[{\"line\":{\"colorbar\":{\"outlinewidth\":0,\"ticks\":\"\"}},\"type\":\"parcoords\"}],\"pie\":[{\"automargin\":true,\"type\":\"pie\"}],\"scatter\":[{\"marker\":{\"colorbar\":{\"outlinewidth\":0,\"ticks\":\"\"}},\"type\":\"scatter\"}],\"scatter3d\":[{\"line\":{\"colorbar\":{\"outlinewidth\":0,\"ticks\":\"\"}},\"marker\":{\"colorbar\":{\"outlinewidth\":0,\"ticks\":\"\"}},\"type\":\"scatter3d\"}],\"scattercarpet\":[{\"marker\":{\"colorbar\":{\"outlinewidth\":0,\"ticks\":\"\"}},\"type\":\"scattercarpet\"}],\"scattergeo\":[{\"marker\":{\"colorbar\":{\"outlinewidth\":0,\"ticks\":\"\"}},\"type\":\"scattergeo\"}],\"scattergl\":[{\"marker\":{\"colorbar\":{\"outlinewidth\":0,\"ticks\":\"\"}},\"type\":\"scattergl\"}],\"scattermapbox\":[{\"marker\":{\"colorbar\":{\"outlinewidth\":0,\"ticks\":\"\"}},\"type\":\"scattermapbox\"}],\"scatterpolar\":[{\"marker\":{\"colorbar\":{\"outlinewidth\":0,\"ticks\":\"\"}},\"type\":\"scatterpolar\"}],\"scatterpolargl\":[{\"marker\":{\"colorbar\":{\"outlinewidth\":0,\"ticks\":\"\"}},\"type\":\"scatterpolargl\"}],\"scatterternary\":[{\"marker\":{\"colorbar\":{\"outlinewidth\":0,\"ticks\":\"\"}},\"type\":\"scatterternary\"}],\"surface\":[{\"colorbar\":{\"outlinewidth\":0,\"ticks\":\"\"},\"colorscale\":[[0.0,\"#0d0887\"],[0.1111111111111111,\"#46039f\"],[0.2222222222222222,\"#7201a8\"],[0.3333333333333333,\"#9c179e\"],[0.4444444444444444,\"#bd3786\"],[0.5555555555555556,\"#d8576b\"],[0.6666666666666666,\"#ed7953\"],[0.7777777777777778,\"#fb9f3a\"],[0.8888888888888888,\"#fdca26\"],[1.0,\"#f0f921\"]],\"type\":\"surface\"}],\"table\":[{\"cells\":{\"fill\":{\"color\":\"#EBF0F8\"},\"line\":{\"color\":\"white\"}},\"header\":{\"fill\":{\"color\":\"#C8D4E3\"},\"line\":{\"color\":\"white\"}},\"type\":\"table\"}]},\"layout\":{\"annotationdefaults\":{\"arrowcolor\":\"#2a3f5f\",\"arrowhead\":0,\"arrowwidth\":1},\"autotypenumbers\":\"strict\",\"coloraxis\":{\"colorbar\":{\"outlinewidth\":0,\"ticks\":\"\"}},\"colorscale\":{\"diverging\":[[0,\"#8e0152\"],[0.1,\"#c51b7d\"],[0.2,\"#de77ae\"],[0.3,\"#f1b6da\"],[0.4,\"#fde0ef\"],[0.5,\"#f7f7f7\"],[0.6,\"#e6f5d0\"],[0.7,\"#b8e186\"],[0.8,\"#7fbc41\"],[0.9,\"#4d9221\"],[1,\"#276419\"]],\"sequential\":[[0.0,\"#0d0887\"],[0.1111111111111111,\"#46039f\"],[0.2222222222222222,\"#7201a8\"],[0.3333333333333333,\"#9c179e\"],[0.4444444444444444,\"#bd3786\"],[0.5555555555555556,\"#d8576b\"],[0.6666666666666666,\"#ed7953\"],[0.7777777777777778,\"#fb9f3a\"],[0.8888888888888888,\"#fdca26\"],[1.0,\"#f0f921\"]],\"sequentialminus\":[[0.0,\"#0d0887\"],[0.1111111111111111,\"#46039f\"],[0.2222222222222222,\"#7201a8\"],[0.3333333333333333,\"#9c179e\"],[0.4444444444444444,\"#bd3786\"],[0.5555555555555556,\"#d8576b\"],[0.6666666666666666,\"#ed7953\"],[0.7777777777777778,\"#fb9f3a\"],[0.8888888888888888,\"#fdca26\"],[1.0,\"#f0f921\"]]},\"colorway\":[\"#636efa\",\"#EF553B\",\"#00cc96\",\"#ab63fa\",\"#FFA15A\",\"#19d3f3\",\"#FF6692\",\"#B6E880\",\"#FF97FF\",\"#FECB52\"],\"font\":{\"color\":\"#2a3f5f\"},\"geo\":{\"bgcolor\":\"white\",\"lakecolor\":\"white\",\"landcolor\":\"#E5ECF6\",\"showlakes\":true,\"showland\":true,\"subunitcolor\":\"white\"},\"hoverlabel\":{\"align\":\"left\"},\"hovermode\":\"closest\",\"mapbox\":{\"style\":\"light\"},\"paper_bgcolor\":\"white\",\"plot_bgcolor\":\"#E5ECF6\",\"polar\":{\"angularaxis\":{\"gridcolor\":\"white\",\"linecolor\":\"white\",\"ticks\":\"\"},\"bgcolor\":\"#E5ECF6\",\"radialaxis\":{\"gridcolor\":\"white\",\"linecolor\":\"white\",\"ticks\":\"\"}},\"scene\":{\"xaxis\":{\"backgroundcolor\":\"#E5ECF6\",\"gridcolor\":\"white\",\"gridwidth\":2,\"linecolor\":\"white\",\"showbackground\":true,\"ticks\":\"\",\"zerolinecolor\":\"white\"},\"yaxis\":{\"backgroundcolor\":\"#E5ECF6\",\"gridcolor\":\"white\",\"gridwidth\":2,\"linecolor\":\"white\",\"showbackground\":true,\"ticks\":\"\",\"zerolinecolor\":\"white\"},\"zaxis\":{\"backgroundcolor\":\"#E5ECF6\",\"gridcolor\":\"white\",\"gridwidth\":2,\"linecolor\":\"white\",\"showbackground\":true,\"ticks\":\"\",\"zerolinecolor\":\"white\"}},\"shapedefaults\":{\"line\":{\"color\":\"#2a3f5f\"}},\"ternary\":{\"aaxis\":{\"gridcolor\":\"white\",\"linecolor\":\"white\",\"ticks\":\"\"},\"baxis\":{\"gridcolor\":\"white\",\"linecolor\":\"white\",\"ticks\":\"\"},\"bgcolor\":\"#E5ECF6\",\"caxis\":{\"gridcolor\":\"white\",\"linecolor\":\"white\",\"ticks\":\"\"}},\"title\":{\"x\":0.05},\"xaxis\":{\"automargin\":true,\"gridcolor\":\"white\",\"linecolor\":\"white\",\"ticks\":\"\",\"title\":{\"standoff\":15},\"zerolinecolor\":\"white\",\"zerolinewidth\":2},\"yaxis\":{\"automargin\":true,\"gridcolor\":\"white\",\"linecolor\":\"white\",\"ticks\":\"\",\"title\":{\"standoff\":15},\"zerolinecolor\":\"white\",\"zerolinewidth\":2}}},\"xaxis\":{\"anchor\":\"y\",\"domain\":[0.0,1.0],\"title\":{\"text\":\"team\"}},\"yaxis\":{\"anchor\":\"x\",\"domain\":[0.0,1.0],\"title\":{\"text\":\"over_time\"}},\"legend\":{\"title\":{\"text\":\"department\"},\"tracegroupgap\":0},\"title\":{\"text\":\"Average overtime based on team and department\"},\"barmode\":\"relative\"},                        {\"responsive\": true}                    ).then(function(){\n",
              "                            \n",
              "var gd = document.getElementById('500e7cc5-8ec7-482c-b2d6-884734086150');\n",
              "var x = new MutationObserver(function (mutations, observer) {{\n",
              "        var display = window.getComputedStyle(gd).display;\n",
              "        if (!display || display === 'none') {{\n",
              "            console.log([gd, 'removed!']);\n",
              "            Plotly.purge(gd);\n",
              "            observer.disconnect();\n",
              "        }}\n",
              "}});\n",
              "\n",
              "// Listen for the removal of the full notebook cells\n",
              "var notebookContainer = gd.closest('#notebook-container');\n",
              "if (notebookContainer) {{\n",
              "    x.observe(notebookContainer, {childList: true});\n",
              "}}\n",
              "\n",
              "// Listen for the clearing of the current output cell\n",
              "var outputEl = gd.closest('.output');\n",
              "if (outputEl) {{\n",
              "    x.observe(outputEl, {childList: true});\n",
              "}}\n",
              "\n",
              "                        })                };                            </script>        </div>\n",
              "</body>\n",
              "</html>"
            ]
          },
          "metadata": {}
        }
      ]
    },
    {
      "cell_type": "code",
      "source": [
        "over=px.bar(b2, x='team', y='over_time', color='department', barmode='group',text='department',title='Average overtime based on team and department')\n",
        "over.show()"
      ],
      "metadata": {
        "colab": {
          "base_uri": "https://localhost:8080/",
          "height": 542
        },
        "id": "gD1csYqaEyCj",
        "outputId": "965cb5fd-299c-4da0-e1b7-266fae4cac61"
      },
      "execution_count": 189,
      "outputs": [
        {
          "output_type": "display_data",
          "data": {
            "text/html": [
              "<html>\n",
              "<head><meta charset=\"utf-8\" /></head>\n",
              "<body>\n",
              "    <div>            <script src=\"https://cdnjs.cloudflare.com/ajax/libs/mathjax/2.7.5/MathJax.js?config=TeX-AMS-MML_SVG\"></script><script type=\"text/javascript\">if (window.MathJax) {MathJax.Hub.Config({SVG: {font: \"STIX-Web\"}});}</script>                <script type=\"text/javascript\">window.PlotlyConfig = {MathJaxConfig: 'local'};</script>\n",
              "        <script src=\"https://cdn.plot.ly/plotly-2.8.3.min.js\"></script>                <div id=\"9d0f4c43-e93a-4303-9739-1649a628c697\" class=\"plotly-graph-div\" style=\"height:525px; width:100%;\"></div>            <script type=\"text/javascript\">                                    window.PLOTLYENV=window.PLOTLYENV || {};                                    if (document.getElementById(\"9d0f4c43-e93a-4303-9739-1649a628c697\")) {                    Plotly.newPlot(                        \"9d0f4c43-e93a-4303-9739-1649a628c697\",                        [{\"alignmentgroup\":\"True\",\"hovertemplate\":\"department=%{text}<br>team=%{x}<br>over_time=%{y}<extra></extra>\",\"legendgroup\":\"finishing\",\"marker\":{\"color\":\"#636efa\",\"pattern\":{\"shape\":\"\"}},\"name\":\"finishing\",\"offsetgroup\":\"finishing\",\"orientation\":\"v\",\"showlegend\":true,\"text\":[\"finishing\",\"finishing\",\"finishing\",\"finishing\",\"finishing\",\"finishing\",\"finishing\",\"finishing\",\"finishing\",\"finishing\",\"finishing\",\"finishing\"],\"textposition\":\"auto\",\"x\":[1,2,3,4,5,6,7,8,9,10,11,12],\"xaxis\":\"x\",\"y\":[31.46938775510204,33.31372549019608,45.121212121212125,45.97826086956522,35.25714285714286,25.457142857142856,31.63157894736842,26.358490566037737,21.0,30.952380952380953,31.666666666666668,29.325],\"yaxis\":\"y\",\"type\":\"bar\"},{\"alignmentgroup\":\"True\",\"hovertemplate\":\"department=%{text}<br>team=%{x}<br>over_time=%{y}<extra></extra>\",\"legendgroup\":\"sweing\",\"marker\":{\"color\":\"#EF553B\",\"pattern\":{\"shape\":\"\"}},\"name\":\"sweing\",\"offsetgroup\":\"sweing\",\"orientation\":\"v\",\"showlegend\":true,\"text\":[\"sweing\",\"sweing\",\"sweing\",\"sweing\",\"sweing\",\"sweing\",\"sweing\",\"sweing\",\"sweing\",\"sweing\",\"sweing\",\"sweing\"],\"textposition\":\"auto\",\"x\":[1,2,3,4,5,6,7,8,9,10,11,12],\"xaxis\":\"x\",\"y\":[122.25892857142857,106.75862068965517,114.27966101694915,124.2542372881356,121.1896551724138,73.89406779661017,113.35964912280701,115.16363636363636,117.8103448275862,110.71929824561404,91.10833333333333,73.73419540229885],\"yaxis\":\"y\",\"type\":\"bar\"}],                        {\"template\":{\"data\":{\"bar\":[{\"error_x\":{\"color\":\"#2a3f5f\"},\"error_y\":{\"color\":\"#2a3f5f\"},\"marker\":{\"line\":{\"color\":\"#E5ECF6\",\"width\":0.5},\"pattern\":{\"fillmode\":\"overlay\",\"size\":10,\"solidity\":0.2}},\"type\":\"bar\"}],\"barpolar\":[{\"marker\":{\"line\":{\"color\":\"#E5ECF6\",\"width\":0.5},\"pattern\":{\"fillmode\":\"overlay\",\"size\":10,\"solidity\":0.2}},\"type\":\"barpolar\"}],\"carpet\":[{\"aaxis\":{\"endlinecolor\":\"#2a3f5f\",\"gridcolor\":\"white\",\"linecolor\":\"white\",\"minorgridcolor\":\"white\",\"startlinecolor\":\"#2a3f5f\"},\"baxis\":{\"endlinecolor\":\"#2a3f5f\",\"gridcolor\":\"white\",\"linecolor\":\"white\",\"minorgridcolor\":\"white\",\"startlinecolor\":\"#2a3f5f\"},\"type\":\"carpet\"}],\"choropleth\":[{\"colorbar\":{\"outlinewidth\":0,\"ticks\":\"\"},\"type\":\"choropleth\"}],\"contour\":[{\"colorbar\":{\"outlinewidth\":0,\"ticks\":\"\"},\"colorscale\":[[0.0,\"#0d0887\"],[0.1111111111111111,\"#46039f\"],[0.2222222222222222,\"#7201a8\"],[0.3333333333333333,\"#9c179e\"],[0.4444444444444444,\"#bd3786\"],[0.5555555555555556,\"#d8576b\"],[0.6666666666666666,\"#ed7953\"],[0.7777777777777778,\"#fb9f3a\"],[0.8888888888888888,\"#fdca26\"],[1.0,\"#f0f921\"]],\"type\":\"contour\"}],\"contourcarpet\":[{\"colorbar\":{\"outlinewidth\":0,\"ticks\":\"\"},\"type\":\"contourcarpet\"}],\"heatmap\":[{\"colorbar\":{\"outlinewidth\":0,\"ticks\":\"\"},\"colorscale\":[[0.0,\"#0d0887\"],[0.1111111111111111,\"#46039f\"],[0.2222222222222222,\"#7201a8\"],[0.3333333333333333,\"#9c179e\"],[0.4444444444444444,\"#bd3786\"],[0.5555555555555556,\"#d8576b\"],[0.6666666666666666,\"#ed7953\"],[0.7777777777777778,\"#fb9f3a\"],[0.8888888888888888,\"#fdca26\"],[1.0,\"#f0f921\"]],\"type\":\"heatmap\"}],\"heatmapgl\":[{\"colorbar\":{\"outlinewidth\":0,\"ticks\":\"\"},\"colorscale\":[[0.0,\"#0d0887\"],[0.1111111111111111,\"#46039f\"],[0.2222222222222222,\"#7201a8\"],[0.3333333333333333,\"#9c179e\"],[0.4444444444444444,\"#bd3786\"],[0.5555555555555556,\"#d8576b\"],[0.6666666666666666,\"#ed7953\"],[0.7777777777777778,\"#fb9f3a\"],[0.8888888888888888,\"#fdca26\"],[1.0,\"#f0f921\"]],\"type\":\"heatmapgl\"}],\"histogram\":[{\"marker\":{\"pattern\":{\"fillmode\":\"overlay\",\"size\":10,\"solidity\":0.2}},\"type\":\"histogram\"}],\"histogram2d\":[{\"colorbar\":{\"outlinewidth\":0,\"ticks\":\"\"},\"colorscale\":[[0.0,\"#0d0887\"],[0.1111111111111111,\"#46039f\"],[0.2222222222222222,\"#7201a8\"],[0.3333333333333333,\"#9c179e\"],[0.4444444444444444,\"#bd3786\"],[0.5555555555555556,\"#d8576b\"],[0.6666666666666666,\"#ed7953\"],[0.7777777777777778,\"#fb9f3a\"],[0.8888888888888888,\"#fdca26\"],[1.0,\"#f0f921\"]],\"type\":\"histogram2d\"}],\"histogram2dcontour\":[{\"colorbar\":{\"outlinewidth\":0,\"ticks\":\"\"},\"colorscale\":[[0.0,\"#0d0887\"],[0.1111111111111111,\"#46039f\"],[0.2222222222222222,\"#7201a8\"],[0.3333333333333333,\"#9c179e\"],[0.4444444444444444,\"#bd3786\"],[0.5555555555555556,\"#d8576b\"],[0.6666666666666666,\"#ed7953\"],[0.7777777777777778,\"#fb9f3a\"],[0.8888888888888888,\"#fdca26\"],[1.0,\"#f0f921\"]],\"type\":\"histogram2dcontour\"}],\"mesh3d\":[{\"colorbar\":{\"outlinewidth\":0,\"ticks\":\"\"},\"type\":\"mesh3d\"}],\"parcoords\":[{\"line\":{\"colorbar\":{\"outlinewidth\":0,\"ticks\":\"\"}},\"type\":\"parcoords\"}],\"pie\":[{\"automargin\":true,\"type\":\"pie\"}],\"scatter\":[{\"marker\":{\"colorbar\":{\"outlinewidth\":0,\"ticks\":\"\"}},\"type\":\"scatter\"}],\"scatter3d\":[{\"line\":{\"colorbar\":{\"outlinewidth\":0,\"ticks\":\"\"}},\"marker\":{\"colorbar\":{\"outlinewidth\":0,\"ticks\":\"\"}},\"type\":\"scatter3d\"}],\"scattercarpet\":[{\"marker\":{\"colorbar\":{\"outlinewidth\":0,\"ticks\":\"\"}},\"type\":\"scattercarpet\"}],\"scattergeo\":[{\"marker\":{\"colorbar\":{\"outlinewidth\":0,\"ticks\":\"\"}},\"type\":\"scattergeo\"}],\"scattergl\":[{\"marker\":{\"colorbar\":{\"outlinewidth\":0,\"ticks\":\"\"}},\"type\":\"scattergl\"}],\"scattermapbox\":[{\"marker\":{\"colorbar\":{\"outlinewidth\":0,\"ticks\":\"\"}},\"type\":\"scattermapbox\"}],\"scatterpolar\":[{\"marker\":{\"colorbar\":{\"outlinewidth\":0,\"ticks\":\"\"}},\"type\":\"scatterpolar\"}],\"scatterpolargl\":[{\"marker\":{\"colorbar\":{\"outlinewidth\":0,\"ticks\":\"\"}},\"type\":\"scatterpolargl\"}],\"scatterternary\":[{\"marker\":{\"colorbar\":{\"outlinewidth\":0,\"ticks\":\"\"}},\"type\":\"scatterternary\"}],\"surface\":[{\"colorbar\":{\"outlinewidth\":0,\"ticks\":\"\"},\"colorscale\":[[0.0,\"#0d0887\"],[0.1111111111111111,\"#46039f\"],[0.2222222222222222,\"#7201a8\"],[0.3333333333333333,\"#9c179e\"],[0.4444444444444444,\"#bd3786\"],[0.5555555555555556,\"#d8576b\"],[0.6666666666666666,\"#ed7953\"],[0.7777777777777778,\"#fb9f3a\"],[0.8888888888888888,\"#fdca26\"],[1.0,\"#f0f921\"]],\"type\":\"surface\"}],\"table\":[{\"cells\":{\"fill\":{\"color\":\"#EBF0F8\"},\"line\":{\"color\":\"white\"}},\"header\":{\"fill\":{\"color\":\"#C8D4E3\"},\"line\":{\"color\":\"white\"}},\"type\":\"table\"}]},\"layout\":{\"annotationdefaults\":{\"arrowcolor\":\"#2a3f5f\",\"arrowhead\":0,\"arrowwidth\":1},\"autotypenumbers\":\"strict\",\"coloraxis\":{\"colorbar\":{\"outlinewidth\":0,\"ticks\":\"\"}},\"colorscale\":{\"diverging\":[[0,\"#8e0152\"],[0.1,\"#c51b7d\"],[0.2,\"#de77ae\"],[0.3,\"#f1b6da\"],[0.4,\"#fde0ef\"],[0.5,\"#f7f7f7\"],[0.6,\"#e6f5d0\"],[0.7,\"#b8e186\"],[0.8,\"#7fbc41\"],[0.9,\"#4d9221\"],[1,\"#276419\"]],\"sequential\":[[0.0,\"#0d0887\"],[0.1111111111111111,\"#46039f\"],[0.2222222222222222,\"#7201a8\"],[0.3333333333333333,\"#9c179e\"],[0.4444444444444444,\"#bd3786\"],[0.5555555555555556,\"#d8576b\"],[0.6666666666666666,\"#ed7953\"],[0.7777777777777778,\"#fb9f3a\"],[0.8888888888888888,\"#fdca26\"],[1.0,\"#f0f921\"]],\"sequentialminus\":[[0.0,\"#0d0887\"],[0.1111111111111111,\"#46039f\"],[0.2222222222222222,\"#7201a8\"],[0.3333333333333333,\"#9c179e\"],[0.4444444444444444,\"#bd3786\"],[0.5555555555555556,\"#d8576b\"],[0.6666666666666666,\"#ed7953\"],[0.7777777777777778,\"#fb9f3a\"],[0.8888888888888888,\"#fdca26\"],[1.0,\"#f0f921\"]]},\"colorway\":[\"#636efa\",\"#EF553B\",\"#00cc96\",\"#ab63fa\",\"#FFA15A\",\"#19d3f3\",\"#FF6692\",\"#B6E880\",\"#FF97FF\",\"#FECB52\"],\"font\":{\"color\":\"#2a3f5f\"},\"geo\":{\"bgcolor\":\"white\",\"lakecolor\":\"white\",\"landcolor\":\"#E5ECF6\",\"showlakes\":true,\"showland\":true,\"subunitcolor\":\"white\"},\"hoverlabel\":{\"align\":\"left\"},\"hovermode\":\"closest\",\"mapbox\":{\"style\":\"light\"},\"paper_bgcolor\":\"white\",\"plot_bgcolor\":\"#E5ECF6\",\"polar\":{\"angularaxis\":{\"gridcolor\":\"white\",\"linecolor\":\"white\",\"ticks\":\"\"},\"bgcolor\":\"#E5ECF6\",\"radialaxis\":{\"gridcolor\":\"white\",\"linecolor\":\"white\",\"ticks\":\"\"}},\"scene\":{\"xaxis\":{\"backgroundcolor\":\"#E5ECF6\",\"gridcolor\":\"white\",\"gridwidth\":2,\"linecolor\":\"white\",\"showbackground\":true,\"ticks\":\"\",\"zerolinecolor\":\"white\"},\"yaxis\":{\"backgroundcolor\":\"#E5ECF6\",\"gridcolor\":\"white\",\"gridwidth\":2,\"linecolor\":\"white\",\"showbackground\":true,\"ticks\":\"\",\"zerolinecolor\":\"white\"},\"zaxis\":{\"backgroundcolor\":\"#E5ECF6\",\"gridcolor\":\"white\",\"gridwidth\":2,\"linecolor\":\"white\",\"showbackground\":true,\"ticks\":\"\",\"zerolinecolor\":\"white\"}},\"shapedefaults\":{\"line\":{\"color\":\"#2a3f5f\"}},\"ternary\":{\"aaxis\":{\"gridcolor\":\"white\",\"linecolor\":\"white\",\"ticks\":\"\"},\"baxis\":{\"gridcolor\":\"white\",\"linecolor\":\"white\",\"ticks\":\"\"},\"bgcolor\":\"#E5ECF6\",\"caxis\":{\"gridcolor\":\"white\",\"linecolor\":\"white\",\"ticks\":\"\"}},\"title\":{\"x\":0.05},\"xaxis\":{\"automargin\":true,\"gridcolor\":\"white\",\"linecolor\":\"white\",\"ticks\":\"\",\"title\":{\"standoff\":15},\"zerolinecolor\":\"white\",\"zerolinewidth\":2},\"yaxis\":{\"automargin\":true,\"gridcolor\":\"white\",\"linecolor\":\"white\",\"ticks\":\"\",\"title\":{\"standoff\":15},\"zerolinecolor\":\"white\",\"zerolinewidth\":2}}},\"xaxis\":{\"anchor\":\"y\",\"domain\":[0.0,1.0],\"title\":{\"text\":\"team\"}},\"yaxis\":{\"anchor\":\"x\",\"domain\":[0.0,1.0],\"title\":{\"text\":\"over_time\"}},\"legend\":{\"title\":{\"text\":\"department\"},\"tracegroupgap\":0},\"title\":{\"text\":\"Average overtime based on team and department\"},\"barmode\":\"group\"},                        {\"responsive\": true}                    ).then(function(){\n",
              "                            \n",
              "var gd = document.getElementById('9d0f4c43-e93a-4303-9739-1649a628c697');\n",
              "var x = new MutationObserver(function (mutations, observer) {{\n",
              "        var display = window.getComputedStyle(gd).display;\n",
              "        if (!display || display === 'none') {{\n",
              "            console.log([gd, 'removed!']);\n",
              "            Plotly.purge(gd);\n",
              "            observer.disconnect();\n",
              "        }}\n",
              "}});\n",
              "\n",
              "// Listen for the removal of the full notebook cells\n",
              "var notebookContainer = gd.closest('#notebook-container');\n",
              "if (notebookContainer) {{\n",
              "    x.observe(notebookContainer, {childList: true});\n",
              "}}\n",
              "\n",
              "// Listen for the clearing of the current output cell\n",
              "var outputEl = gd.closest('.output');\n",
              "if (outputEl) {{\n",
              "    x.observe(outputEl, {childList: true});\n",
              "}}\n",
              "\n",
              "                        })                };                            </script>        </div>\n",
              "</body>\n",
              "</html>"
            ]
          },
          "metadata": {}
        }
      ]
    },
    {
      "cell_type": "markdown",
      "source": [
        "# Removing columns"
      ],
      "metadata": {
        "id": "ILvpwcw9Gy8U"
      }
    },
    {
      "cell_type": "code",
      "source": [
        "df.head()"
      ],
      "metadata": {
        "colab": {
          "base_uri": "https://localhost:8080/",
          "height": 357
        },
        "id": "KT-MTbXJG1FU",
        "outputId": "21bb74f4-4f51-412b-ccf4-9a289bb707b8"
      },
      "execution_count": 190,
      "outputs": [
        {
          "output_type": "execute_result",
          "data": {
            "text/plain": [
              "      date   quarter department       day  team  targeted_productivity  \\\n",
              "0  2015-01  Quarter1     sweing  Thursday     8                   0.80   \n",
              "1  2015-01  Quarter1  finishing  Thursday     1                   0.75   \n",
              "2  2015-01  Quarter1     sweing  Thursday    11                   0.80   \n",
              "3  2015-01  Quarter1     sweing  Thursday    12                   0.80   \n",
              "4  2015-01  Quarter1     sweing  Thursday     6                   0.80   \n",
              "\n",
              "        smv  total_work     wip  over_time  incentive  idle_time  idle_men  \\\n",
              "0  0.436000     19876.0  1108.0      118.0         98        0.0         0   \n",
              "1  0.065667     21791.0  1039.0       16.0          0        0.0         0   \n",
              "2  0.190167      5513.0   968.0       61.0         50        0.0         0   \n",
              "3  0.190167     23582.0   968.0       61.0         50        0.0         0   \n",
              "4  0.431667     13469.0  1170.0       32.0         50        0.0         0   \n",
              "\n",
              "  no_of_style_change  no_of_workers  actual_productivity  pending  \\\n",
              "0                 No             59             0.940725  18768.0   \n",
              "1                 No              8             0.886500  20752.0   \n",
              "2                 No             31             0.800570   4545.0   \n",
              "3                 No             31             0.800570  22614.0   \n",
              "4                 No             56             0.800382  12299.0   \n",
              "\n",
              "   prop_job_remaining  Actual_workers  \n",
              "0            0.944254              59  \n",
              "1            0.952320               8  \n",
              "2            0.824415              31  \n",
              "3            0.958952              31  \n",
              "4            0.913134              56  "
            ],
            "text/html": [
              "\n",
              "  <div id=\"df-b4be4953-9fec-466d-9356-50a7a86be6e4\">\n",
              "    <div class=\"colab-df-container\">\n",
              "      <div>\n",
              "<style scoped>\n",
              "    .dataframe tbody tr th:only-of-type {\n",
              "        vertical-align: middle;\n",
              "    }\n",
              "\n",
              "    .dataframe tbody tr th {\n",
              "        vertical-align: top;\n",
              "    }\n",
              "\n",
              "    .dataframe thead th {\n",
              "        text-align: right;\n",
              "    }\n",
              "</style>\n",
              "<table border=\"1\" class=\"dataframe\">\n",
              "  <thead>\n",
              "    <tr style=\"text-align: right;\">\n",
              "      <th></th>\n",
              "      <th>date</th>\n",
              "      <th>quarter</th>\n",
              "      <th>department</th>\n",
              "      <th>day</th>\n",
              "      <th>team</th>\n",
              "      <th>targeted_productivity</th>\n",
              "      <th>smv</th>\n",
              "      <th>total_work</th>\n",
              "      <th>wip</th>\n",
              "      <th>over_time</th>\n",
              "      <th>incentive</th>\n",
              "      <th>idle_time</th>\n",
              "      <th>idle_men</th>\n",
              "      <th>no_of_style_change</th>\n",
              "      <th>no_of_workers</th>\n",
              "      <th>actual_productivity</th>\n",
              "      <th>pending</th>\n",
              "      <th>prop_job_remaining</th>\n",
              "      <th>Actual_workers</th>\n",
              "    </tr>\n",
              "  </thead>\n",
              "  <tbody>\n",
              "    <tr>\n",
              "      <th>0</th>\n",
              "      <td>2015-01</td>\n",
              "      <td>Quarter1</td>\n",
              "      <td>sweing</td>\n",
              "      <td>Thursday</td>\n",
              "      <td>8</td>\n",
              "      <td>0.80</td>\n",
              "      <td>0.436000</td>\n",
              "      <td>19876.0</td>\n",
              "      <td>1108.0</td>\n",
              "      <td>118.0</td>\n",
              "      <td>98</td>\n",
              "      <td>0.0</td>\n",
              "      <td>0</td>\n",
              "      <td>No</td>\n",
              "      <td>59</td>\n",
              "      <td>0.940725</td>\n",
              "      <td>18768.0</td>\n",
              "      <td>0.944254</td>\n",
              "      <td>59</td>\n",
              "    </tr>\n",
              "    <tr>\n",
              "      <th>1</th>\n",
              "      <td>2015-01</td>\n",
              "      <td>Quarter1</td>\n",
              "      <td>finishing</td>\n",
              "      <td>Thursday</td>\n",
              "      <td>1</td>\n",
              "      <td>0.75</td>\n",
              "      <td>0.065667</td>\n",
              "      <td>21791.0</td>\n",
              "      <td>1039.0</td>\n",
              "      <td>16.0</td>\n",
              "      <td>0</td>\n",
              "      <td>0.0</td>\n",
              "      <td>0</td>\n",
              "      <td>No</td>\n",
              "      <td>8</td>\n",
              "      <td>0.886500</td>\n",
              "      <td>20752.0</td>\n",
              "      <td>0.952320</td>\n",
              "      <td>8</td>\n",
              "    </tr>\n",
              "    <tr>\n",
              "      <th>2</th>\n",
              "      <td>2015-01</td>\n",
              "      <td>Quarter1</td>\n",
              "      <td>sweing</td>\n",
              "      <td>Thursday</td>\n",
              "      <td>11</td>\n",
              "      <td>0.80</td>\n",
              "      <td>0.190167</td>\n",
              "      <td>5513.0</td>\n",
              "      <td>968.0</td>\n",
              "      <td>61.0</td>\n",
              "      <td>50</td>\n",
              "      <td>0.0</td>\n",
              "      <td>0</td>\n",
              "      <td>No</td>\n",
              "      <td>31</td>\n",
              "      <td>0.800570</td>\n",
              "      <td>4545.0</td>\n",
              "      <td>0.824415</td>\n",
              "      <td>31</td>\n",
              "    </tr>\n",
              "    <tr>\n",
              "      <th>3</th>\n",
              "      <td>2015-01</td>\n",
              "      <td>Quarter1</td>\n",
              "      <td>sweing</td>\n",
              "      <td>Thursday</td>\n",
              "      <td>12</td>\n",
              "      <td>0.80</td>\n",
              "      <td>0.190167</td>\n",
              "      <td>23582.0</td>\n",
              "      <td>968.0</td>\n",
              "      <td>61.0</td>\n",
              "      <td>50</td>\n",
              "      <td>0.0</td>\n",
              "      <td>0</td>\n",
              "      <td>No</td>\n",
              "      <td>31</td>\n",
              "      <td>0.800570</td>\n",
              "      <td>22614.0</td>\n",
              "      <td>0.958952</td>\n",
              "      <td>31</td>\n",
              "    </tr>\n",
              "    <tr>\n",
              "      <th>4</th>\n",
              "      <td>2015-01</td>\n",
              "      <td>Quarter1</td>\n",
              "      <td>sweing</td>\n",
              "      <td>Thursday</td>\n",
              "      <td>6</td>\n",
              "      <td>0.80</td>\n",
              "      <td>0.431667</td>\n",
              "      <td>13469.0</td>\n",
              "      <td>1170.0</td>\n",
              "      <td>32.0</td>\n",
              "      <td>50</td>\n",
              "      <td>0.0</td>\n",
              "      <td>0</td>\n",
              "      <td>No</td>\n",
              "      <td>56</td>\n",
              "      <td>0.800382</td>\n",
              "      <td>12299.0</td>\n",
              "      <td>0.913134</td>\n",
              "      <td>56</td>\n",
              "    </tr>\n",
              "  </tbody>\n",
              "</table>\n",
              "</div>\n",
              "      <button class=\"colab-df-convert\" onclick=\"convertToInteractive('df-b4be4953-9fec-466d-9356-50a7a86be6e4')\"\n",
              "              title=\"Convert this dataframe to an interactive table.\"\n",
              "              style=\"display:none;\">\n",
              "        \n",
              "  <svg xmlns=\"http://www.w3.org/2000/svg\" height=\"24px\"viewBox=\"0 0 24 24\"\n",
              "       width=\"24px\">\n",
              "    <path d=\"M0 0h24v24H0V0z\" fill=\"none\"/>\n",
              "    <path d=\"M18.56 5.44l.94 2.06.94-2.06 2.06-.94-2.06-.94-.94-2.06-.94 2.06-2.06.94zm-11 1L8.5 8.5l.94-2.06 2.06-.94-2.06-.94L8.5 2.5l-.94 2.06-2.06.94zm10 10l.94 2.06.94-2.06 2.06-.94-2.06-.94-.94-2.06-.94 2.06-2.06.94z\"/><path d=\"M17.41 7.96l-1.37-1.37c-.4-.4-.92-.59-1.43-.59-.52 0-1.04.2-1.43.59L10.3 9.45l-7.72 7.72c-.78.78-.78 2.05 0 2.83L4 21.41c.39.39.9.59 1.41.59.51 0 1.02-.2 1.41-.59l7.78-7.78 2.81-2.81c.8-.78.8-2.07 0-2.86zM5.41 20L4 18.59l7.72-7.72 1.47 1.35L5.41 20z\"/>\n",
              "  </svg>\n",
              "      </button>\n",
              "      \n",
              "  <style>\n",
              "    .colab-df-container {\n",
              "      display:flex;\n",
              "      flex-wrap:wrap;\n",
              "      gap: 12px;\n",
              "    }\n",
              "\n",
              "    .colab-df-convert {\n",
              "      background-color: #E8F0FE;\n",
              "      border: none;\n",
              "      border-radius: 50%;\n",
              "      cursor: pointer;\n",
              "      display: none;\n",
              "      fill: #1967D2;\n",
              "      height: 32px;\n",
              "      padding: 0 0 0 0;\n",
              "      width: 32px;\n",
              "    }\n",
              "\n",
              "    .colab-df-convert:hover {\n",
              "      background-color: #E2EBFA;\n",
              "      box-shadow: 0px 1px 2px rgba(60, 64, 67, 0.3), 0px 1px 3px 1px rgba(60, 64, 67, 0.15);\n",
              "      fill: #174EA6;\n",
              "    }\n",
              "\n",
              "    [theme=dark] .colab-df-convert {\n",
              "      background-color: #3B4455;\n",
              "      fill: #D2E3FC;\n",
              "    }\n",
              "\n",
              "    [theme=dark] .colab-df-convert:hover {\n",
              "      background-color: #434B5C;\n",
              "      box-shadow: 0px 1px 3px 1px rgba(0, 0, 0, 0.15);\n",
              "      filter: drop-shadow(0px 1px 2px rgba(0, 0, 0, 0.3));\n",
              "      fill: #FFFFFF;\n",
              "    }\n",
              "  </style>\n",
              "\n",
              "      <script>\n",
              "        const buttonEl =\n",
              "          document.querySelector('#df-b4be4953-9fec-466d-9356-50a7a86be6e4 button.colab-df-convert');\n",
              "        buttonEl.style.display =\n",
              "          google.colab.kernel.accessAllowed ? 'block' : 'none';\n",
              "\n",
              "        async function convertToInteractive(key) {\n",
              "          const element = document.querySelector('#df-b4be4953-9fec-466d-9356-50a7a86be6e4');\n",
              "          const dataTable =\n",
              "            await google.colab.kernel.invokeFunction('convertToInteractive',\n",
              "                                                     [key], {});\n",
              "          if (!dataTable) return;\n",
              "\n",
              "          const docLinkHtml = 'Like what you see? Visit the ' +\n",
              "            '<a target=\"_blank\" href=https://colab.research.google.com/notebooks/data_table.ipynb>data table notebook</a>'\n",
              "            + ' to learn more about interactive tables.';\n",
              "          element.innerHTML = '';\n",
              "          dataTable['output_type'] = 'display_data';\n",
              "          await google.colab.output.renderOutput(dataTable, element);\n",
              "          const docLink = document.createElement('div');\n",
              "          docLink.innerHTML = docLinkHtml;\n",
              "          element.appendChild(docLink);\n",
              "        }\n",
              "      </script>\n",
              "    </div>\n",
              "  </div>\n",
              "  "
            ]
          },
          "metadata": {},
          "execution_count": 190
        }
      ]
    },
    {
      "cell_type": "code",
      "source": [
        "df=df.drop(['total_work','wip', 'idle_men', 'idle_time'], axis=1) "
      ],
      "metadata": {
        "id": "nfypcjNNG1ys"
      },
      "execution_count": 191,
      "outputs": []
    },
    {
      "cell_type": "code",
      "source": [
        "df.head()"
      ],
      "metadata": {
        "colab": {
          "base_uri": "https://localhost:8080/",
          "height": 357
        },
        "id": "hobZ_GYdyUFK",
        "outputId": "8b93f015-5c0d-4928-9dc8-8a1f4c8507bc"
      },
      "execution_count": 192,
      "outputs": [
        {
          "output_type": "execute_result",
          "data": {
            "text/plain": [
              "      date   quarter department       day  team  targeted_productivity  \\\n",
              "0  2015-01  Quarter1     sweing  Thursday     8                   0.80   \n",
              "1  2015-01  Quarter1  finishing  Thursday     1                   0.75   \n",
              "2  2015-01  Quarter1     sweing  Thursday    11                   0.80   \n",
              "3  2015-01  Quarter1     sweing  Thursday    12                   0.80   \n",
              "4  2015-01  Quarter1     sweing  Thursday     6                   0.80   \n",
              "\n",
              "        smv  over_time  incentive no_of_style_change  no_of_workers  \\\n",
              "0  0.436000      118.0         98                 No             59   \n",
              "1  0.065667       16.0          0                 No              8   \n",
              "2  0.190167       61.0         50                 No             31   \n",
              "3  0.190167       61.0         50                 No             31   \n",
              "4  0.431667       32.0         50                 No             56   \n",
              "\n",
              "   actual_productivity  pending  prop_job_remaining  Actual_workers  \n",
              "0             0.940725  18768.0            0.944254              59  \n",
              "1             0.886500  20752.0            0.952320               8  \n",
              "2             0.800570   4545.0            0.824415              31  \n",
              "3             0.800570  22614.0            0.958952              31  \n",
              "4             0.800382  12299.0            0.913134              56  "
            ],
            "text/html": [
              "\n",
              "  <div id=\"df-6ef4a17b-2023-44db-9bbf-70942c450abc\">\n",
              "    <div class=\"colab-df-container\">\n",
              "      <div>\n",
              "<style scoped>\n",
              "    .dataframe tbody tr th:only-of-type {\n",
              "        vertical-align: middle;\n",
              "    }\n",
              "\n",
              "    .dataframe tbody tr th {\n",
              "        vertical-align: top;\n",
              "    }\n",
              "\n",
              "    .dataframe thead th {\n",
              "        text-align: right;\n",
              "    }\n",
              "</style>\n",
              "<table border=\"1\" class=\"dataframe\">\n",
              "  <thead>\n",
              "    <tr style=\"text-align: right;\">\n",
              "      <th></th>\n",
              "      <th>date</th>\n",
              "      <th>quarter</th>\n",
              "      <th>department</th>\n",
              "      <th>day</th>\n",
              "      <th>team</th>\n",
              "      <th>targeted_productivity</th>\n",
              "      <th>smv</th>\n",
              "      <th>over_time</th>\n",
              "      <th>incentive</th>\n",
              "      <th>no_of_style_change</th>\n",
              "      <th>no_of_workers</th>\n",
              "      <th>actual_productivity</th>\n",
              "      <th>pending</th>\n",
              "      <th>prop_job_remaining</th>\n",
              "      <th>Actual_workers</th>\n",
              "    </tr>\n",
              "  </thead>\n",
              "  <tbody>\n",
              "    <tr>\n",
              "      <th>0</th>\n",
              "      <td>2015-01</td>\n",
              "      <td>Quarter1</td>\n",
              "      <td>sweing</td>\n",
              "      <td>Thursday</td>\n",
              "      <td>8</td>\n",
              "      <td>0.80</td>\n",
              "      <td>0.436000</td>\n",
              "      <td>118.0</td>\n",
              "      <td>98</td>\n",
              "      <td>No</td>\n",
              "      <td>59</td>\n",
              "      <td>0.940725</td>\n",
              "      <td>18768.0</td>\n",
              "      <td>0.944254</td>\n",
              "      <td>59</td>\n",
              "    </tr>\n",
              "    <tr>\n",
              "      <th>1</th>\n",
              "      <td>2015-01</td>\n",
              "      <td>Quarter1</td>\n",
              "      <td>finishing</td>\n",
              "      <td>Thursday</td>\n",
              "      <td>1</td>\n",
              "      <td>0.75</td>\n",
              "      <td>0.065667</td>\n",
              "      <td>16.0</td>\n",
              "      <td>0</td>\n",
              "      <td>No</td>\n",
              "      <td>8</td>\n",
              "      <td>0.886500</td>\n",
              "      <td>20752.0</td>\n",
              "      <td>0.952320</td>\n",
              "      <td>8</td>\n",
              "    </tr>\n",
              "    <tr>\n",
              "      <th>2</th>\n",
              "      <td>2015-01</td>\n",
              "      <td>Quarter1</td>\n",
              "      <td>sweing</td>\n",
              "      <td>Thursday</td>\n",
              "      <td>11</td>\n",
              "      <td>0.80</td>\n",
              "      <td>0.190167</td>\n",
              "      <td>61.0</td>\n",
              "      <td>50</td>\n",
              "      <td>No</td>\n",
              "      <td>31</td>\n",
              "      <td>0.800570</td>\n",
              "      <td>4545.0</td>\n",
              "      <td>0.824415</td>\n",
              "      <td>31</td>\n",
              "    </tr>\n",
              "    <tr>\n",
              "      <th>3</th>\n",
              "      <td>2015-01</td>\n",
              "      <td>Quarter1</td>\n",
              "      <td>sweing</td>\n",
              "      <td>Thursday</td>\n",
              "      <td>12</td>\n",
              "      <td>0.80</td>\n",
              "      <td>0.190167</td>\n",
              "      <td>61.0</td>\n",
              "      <td>50</td>\n",
              "      <td>No</td>\n",
              "      <td>31</td>\n",
              "      <td>0.800570</td>\n",
              "      <td>22614.0</td>\n",
              "      <td>0.958952</td>\n",
              "      <td>31</td>\n",
              "    </tr>\n",
              "    <tr>\n",
              "      <th>4</th>\n",
              "      <td>2015-01</td>\n",
              "      <td>Quarter1</td>\n",
              "      <td>sweing</td>\n",
              "      <td>Thursday</td>\n",
              "      <td>6</td>\n",
              "      <td>0.80</td>\n",
              "      <td>0.431667</td>\n",
              "      <td>32.0</td>\n",
              "      <td>50</td>\n",
              "      <td>No</td>\n",
              "      <td>56</td>\n",
              "      <td>0.800382</td>\n",
              "      <td>12299.0</td>\n",
              "      <td>0.913134</td>\n",
              "      <td>56</td>\n",
              "    </tr>\n",
              "  </tbody>\n",
              "</table>\n",
              "</div>\n",
              "      <button class=\"colab-df-convert\" onclick=\"convertToInteractive('df-6ef4a17b-2023-44db-9bbf-70942c450abc')\"\n",
              "              title=\"Convert this dataframe to an interactive table.\"\n",
              "              style=\"display:none;\">\n",
              "        \n",
              "  <svg xmlns=\"http://www.w3.org/2000/svg\" height=\"24px\"viewBox=\"0 0 24 24\"\n",
              "       width=\"24px\">\n",
              "    <path d=\"M0 0h24v24H0V0z\" fill=\"none\"/>\n",
              "    <path d=\"M18.56 5.44l.94 2.06.94-2.06 2.06-.94-2.06-.94-.94-2.06-.94 2.06-2.06.94zm-11 1L8.5 8.5l.94-2.06 2.06-.94-2.06-.94L8.5 2.5l-.94 2.06-2.06.94zm10 10l.94 2.06.94-2.06 2.06-.94-2.06-.94-.94-2.06-.94 2.06-2.06.94z\"/><path d=\"M17.41 7.96l-1.37-1.37c-.4-.4-.92-.59-1.43-.59-.52 0-1.04.2-1.43.59L10.3 9.45l-7.72 7.72c-.78.78-.78 2.05 0 2.83L4 21.41c.39.39.9.59 1.41.59.51 0 1.02-.2 1.41-.59l7.78-7.78 2.81-2.81c.8-.78.8-2.07 0-2.86zM5.41 20L4 18.59l7.72-7.72 1.47 1.35L5.41 20z\"/>\n",
              "  </svg>\n",
              "      </button>\n",
              "      \n",
              "  <style>\n",
              "    .colab-df-container {\n",
              "      display:flex;\n",
              "      flex-wrap:wrap;\n",
              "      gap: 12px;\n",
              "    }\n",
              "\n",
              "    .colab-df-convert {\n",
              "      background-color: #E8F0FE;\n",
              "      border: none;\n",
              "      border-radius: 50%;\n",
              "      cursor: pointer;\n",
              "      display: none;\n",
              "      fill: #1967D2;\n",
              "      height: 32px;\n",
              "      padding: 0 0 0 0;\n",
              "      width: 32px;\n",
              "    }\n",
              "\n",
              "    .colab-df-convert:hover {\n",
              "      background-color: #E2EBFA;\n",
              "      box-shadow: 0px 1px 2px rgba(60, 64, 67, 0.3), 0px 1px 3px 1px rgba(60, 64, 67, 0.15);\n",
              "      fill: #174EA6;\n",
              "    }\n",
              "\n",
              "    [theme=dark] .colab-df-convert {\n",
              "      background-color: #3B4455;\n",
              "      fill: #D2E3FC;\n",
              "    }\n",
              "\n",
              "    [theme=dark] .colab-df-convert:hover {\n",
              "      background-color: #434B5C;\n",
              "      box-shadow: 0px 1px 3px 1px rgba(0, 0, 0, 0.15);\n",
              "      filter: drop-shadow(0px 1px 2px rgba(0, 0, 0, 0.3));\n",
              "      fill: #FFFFFF;\n",
              "    }\n",
              "  </style>\n",
              "\n",
              "      <script>\n",
              "        const buttonEl =\n",
              "          document.querySelector('#df-6ef4a17b-2023-44db-9bbf-70942c450abc button.colab-df-convert');\n",
              "        buttonEl.style.display =\n",
              "          google.colab.kernel.accessAllowed ? 'block' : 'none';\n",
              "\n",
              "        async function convertToInteractive(key) {\n",
              "          const element = document.querySelector('#df-6ef4a17b-2023-44db-9bbf-70942c450abc');\n",
              "          const dataTable =\n",
              "            await google.colab.kernel.invokeFunction('convertToInteractive',\n",
              "                                                     [key], {});\n",
              "          if (!dataTable) return;\n",
              "\n",
              "          const docLinkHtml = 'Like what you see? Visit the ' +\n",
              "            '<a target=\"_blank\" href=https://colab.research.google.com/notebooks/data_table.ipynb>data table notebook</a>'\n",
              "            + ' to learn more about interactive tables.';\n",
              "          element.innerHTML = '';\n",
              "          dataTable['output_type'] = 'display_data';\n",
              "          await google.colab.output.renderOutput(dataTable, element);\n",
              "          const docLink = document.createElement('div');\n",
              "          docLink.innerHTML = docLinkHtml;\n",
              "          element.appendChild(docLink);\n",
              "        }\n",
              "      </script>\n",
              "    </div>\n",
              "  </div>\n",
              "  "
            ]
          },
          "metadata": {},
          "execution_count": 192
        }
      ]
    },
    {
      "cell_type": "markdown",
      "source": [
        "# **Categorical Encoding**"
      ],
      "metadata": {
        "id": "UMnYh8FkywxH"
      }
    },
    {
      "cell_type": "code",
      "source": [
        "df=pd.get_dummies(df, columns = [\t'department',\t'day', 'no_of_style_change'], drop_first=True)"
      ],
      "metadata": {
        "id": "zl-G4hjFyj2J"
      },
      "execution_count": 193,
      "outputs": []
    },
    {
      "cell_type": "code",
      "source": [
        "df.head()"
      ],
      "metadata": {
        "colab": {
          "base_uri": "https://localhost:8080/",
          "height": 357
        },
        "id": "huGanqePzJ4H",
        "outputId": "edc4db39-887f-495e-aa31-4e00a2fd5167"
      },
      "execution_count": 194,
      "outputs": [
        {
          "output_type": "execute_result",
          "data": {
            "text/plain": [
              "      date   quarter  team  targeted_productivity       smv  over_time  \\\n",
              "0  2015-01  Quarter1     8                   0.80  0.436000      118.0   \n",
              "1  2015-01  Quarter1     1                   0.75  0.065667       16.0   \n",
              "2  2015-01  Quarter1    11                   0.80  0.190167       61.0   \n",
              "3  2015-01  Quarter1    12                   0.80  0.190167       61.0   \n",
              "4  2015-01  Quarter1     6                   0.80  0.431667       32.0   \n",
              "\n",
              "   incentive  no_of_workers  actual_productivity  pending  prop_job_remaining  \\\n",
              "0         98             59             0.940725  18768.0            0.944254   \n",
              "1          0              8             0.886500  20752.0            0.952320   \n",
              "2         50             31             0.800570   4545.0            0.824415   \n",
              "3         50             31             0.800570  22614.0            0.958952   \n",
              "4         50             56             0.800382  12299.0            0.913134   \n",
              "\n",
              "   Actual_workers  department_sweing  day_Saturday  day_Sunday  day_Thursday  \\\n",
              "0              59                  1             0           0             1   \n",
              "1               8                  0             0           0             1   \n",
              "2              31                  1             0           0             1   \n",
              "3              31                  1             0           0             1   \n",
              "4              56                  1             0           0             1   \n",
              "\n",
              "   day_Tuesday  day_Wednesday  no_of_style_change_Yes  \n",
              "0            0              0                       0  \n",
              "1            0              0                       0  \n",
              "2            0              0                       0  \n",
              "3            0              0                       0  \n",
              "4            0              0                       0  "
            ],
            "text/html": [
              "\n",
              "  <div id=\"df-c4b90107-a828-4048-b53f-3a29e1c4934f\">\n",
              "    <div class=\"colab-df-container\">\n",
              "      <div>\n",
              "<style scoped>\n",
              "    .dataframe tbody tr th:only-of-type {\n",
              "        vertical-align: middle;\n",
              "    }\n",
              "\n",
              "    .dataframe tbody tr th {\n",
              "        vertical-align: top;\n",
              "    }\n",
              "\n",
              "    .dataframe thead th {\n",
              "        text-align: right;\n",
              "    }\n",
              "</style>\n",
              "<table border=\"1\" class=\"dataframe\">\n",
              "  <thead>\n",
              "    <tr style=\"text-align: right;\">\n",
              "      <th></th>\n",
              "      <th>date</th>\n",
              "      <th>quarter</th>\n",
              "      <th>team</th>\n",
              "      <th>targeted_productivity</th>\n",
              "      <th>smv</th>\n",
              "      <th>over_time</th>\n",
              "      <th>incentive</th>\n",
              "      <th>no_of_workers</th>\n",
              "      <th>actual_productivity</th>\n",
              "      <th>pending</th>\n",
              "      <th>prop_job_remaining</th>\n",
              "      <th>Actual_workers</th>\n",
              "      <th>department_sweing</th>\n",
              "      <th>day_Saturday</th>\n",
              "      <th>day_Sunday</th>\n",
              "      <th>day_Thursday</th>\n",
              "      <th>day_Tuesday</th>\n",
              "      <th>day_Wednesday</th>\n",
              "      <th>no_of_style_change_Yes</th>\n",
              "    </tr>\n",
              "  </thead>\n",
              "  <tbody>\n",
              "    <tr>\n",
              "      <th>0</th>\n",
              "      <td>2015-01</td>\n",
              "      <td>Quarter1</td>\n",
              "      <td>8</td>\n",
              "      <td>0.80</td>\n",
              "      <td>0.436000</td>\n",
              "      <td>118.0</td>\n",
              "      <td>98</td>\n",
              "      <td>59</td>\n",
              "      <td>0.940725</td>\n",
              "      <td>18768.0</td>\n",
              "      <td>0.944254</td>\n",
              "      <td>59</td>\n",
              "      <td>1</td>\n",
              "      <td>0</td>\n",
              "      <td>0</td>\n",
              "      <td>1</td>\n",
              "      <td>0</td>\n",
              "      <td>0</td>\n",
              "      <td>0</td>\n",
              "    </tr>\n",
              "    <tr>\n",
              "      <th>1</th>\n",
              "      <td>2015-01</td>\n",
              "      <td>Quarter1</td>\n",
              "      <td>1</td>\n",
              "      <td>0.75</td>\n",
              "      <td>0.065667</td>\n",
              "      <td>16.0</td>\n",
              "      <td>0</td>\n",
              "      <td>8</td>\n",
              "      <td>0.886500</td>\n",
              "      <td>20752.0</td>\n",
              "      <td>0.952320</td>\n",
              "      <td>8</td>\n",
              "      <td>0</td>\n",
              "      <td>0</td>\n",
              "      <td>0</td>\n",
              "      <td>1</td>\n",
              "      <td>0</td>\n",
              "      <td>0</td>\n",
              "      <td>0</td>\n",
              "    </tr>\n",
              "    <tr>\n",
              "      <th>2</th>\n",
              "      <td>2015-01</td>\n",
              "      <td>Quarter1</td>\n",
              "      <td>11</td>\n",
              "      <td>0.80</td>\n",
              "      <td>0.190167</td>\n",
              "      <td>61.0</td>\n",
              "      <td>50</td>\n",
              "      <td>31</td>\n",
              "      <td>0.800570</td>\n",
              "      <td>4545.0</td>\n",
              "      <td>0.824415</td>\n",
              "      <td>31</td>\n",
              "      <td>1</td>\n",
              "      <td>0</td>\n",
              "      <td>0</td>\n",
              "      <td>1</td>\n",
              "      <td>0</td>\n",
              "      <td>0</td>\n",
              "      <td>0</td>\n",
              "    </tr>\n",
              "    <tr>\n",
              "      <th>3</th>\n",
              "      <td>2015-01</td>\n",
              "      <td>Quarter1</td>\n",
              "      <td>12</td>\n",
              "      <td>0.80</td>\n",
              "      <td>0.190167</td>\n",
              "      <td>61.0</td>\n",
              "      <td>50</td>\n",
              "      <td>31</td>\n",
              "      <td>0.800570</td>\n",
              "      <td>22614.0</td>\n",
              "      <td>0.958952</td>\n",
              "      <td>31</td>\n",
              "      <td>1</td>\n",
              "      <td>0</td>\n",
              "      <td>0</td>\n",
              "      <td>1</td>\n",
              "      <td>0</td>\n",
              "      <td>0</td>\n",
              "      <td>0</td>\n",
              "    </tr>\n",
              "    <tr>\n",
              "      <th>4</th>\n",
              "      <td>2015-01</td>\n",
              "      <td>Quarter1</td>\n",
              "      <td>6</td>\n",
              "      <td>0.80</td>\n",
              "      <td>0.431667</td>\n",
              "      <td>32.0</td>\n",
              "      <td>50</td>\n",
              "      <td>56</td>\n",
              "      <td>0.800382</td>\n",
              "      <td>12299.0</td>\n",
              "      <td>0.913134</td>\n",
              "      <td>56</td>\n",
              "      <td>1</td>\n",
              "      <td>0</td>\n",
              "      <td>0</td>\n",
              "      <td>1</td>\n",
              "      <td>0</td>\n",
              "      <td>0</td>\n",
              "      <td>0</td>\n",
              "    </tr>\n",
              "  </tbody>\n",
              "</table>\n",
              "</div>\n",
              "      <button class=\"colab-df-convert\" onclick=\"convertToInteractive('df-c4b90107-a828-4048-b53f-3a29e1c4934f')\"\n",
              "              title=\"Convert this dataframe to an interactive table.\"\n",
              "              style=\"display:none;\">\n",
              "        \n",
              "  <svg xmlns=\"http://www.w3.org/2000/svg\" height=\"24px\"viewBox=\"0 0 24 24\"\n",
              "       width=\"24px\">\n",
              "    <path d=\"M0 0h24v24H0V0z\" fill=\"none\"/>\n",
              "    <path d=\"M18.56 5.44l.94 2.06.94-2.06 2.06-.94-2.06-.94-.94-2.06-.94 2.06-2.06.94zm-11 1L8.5 8.5l.94-2.06 2.06-.94-2.06-.94L8.5 2.5l-.94 2.06-2.06.94zm10 10l.94 2.06.94-2.06 2.06-.94-2.06-.94-.94-2.06-.94 2.06-2.06.94z\"/><path d=\"M17.41 7.96l-1.37-1.37c-.4-.4-.92-.59-1.43-.59-.52 0-1.04.2-1.43.59L10.3 9.45l-7.72 7.72c-.78.78-.78 2.05 0 2.83L4 21.41c.39.39.9.59 1.41.59.51 0 1.02-.2 1.41-.59l7.78-7.78 2.81-2.81c.8-.78.8-2.07 0-2.86zM5.41 20L4 18.59l7.72-7.72 1.47 1.35L5.41 20z\"/>\n",
              "  </svg>\n",
              "      </button>\n",
              "      \n",
              "  <style>\n",
              "    .colab-df-container {\n",
              "      display:flex;\n",
              "      flex-wrap:wrap;\n",
              "      gap: 12px;\n",
              "    }\n",
              "\n",
              "    .colab-df-convert {\n",
              "      background-color: #E8F0FE;\n",
              "      border: none;\n",
              "      border-radius: 50%;\n",
              "      cursor: pointer;\n",
              "      display: none;\n",
              "      fill: #1967D2;\n",
              "      height: 32px;\n",
              "      padding: 0 0 0 0;\n",
              "      width: 32px;\n",
              "    }\n",
              "\n",
              "    .colab-df-convert:hover {\n",
              "      background-color: #E2EBFA;\n",
              "      box-shadow: 0px 1px 2px rgba(60, 64, 67, 0.3), 0px 1px 3px 1px rgba(60, 64, 67, 0.15);\n",
              "      fill: #174EA6;\n",
              "    }\n",
              "\n",
              "    [theme=dark] .colab-df-convert {\n",
              "      background-color: #3B4455;\n",
              "      fill: #D2E3FC;\n",
              "    }\n",
              "\n",
              "    [theme=dark] .colab-df-convert:hover {\n",
              "      background-color: #434B5C;\n",
              "      box-shadow: 0px 1px 3px 1px rgba(0, 0, 0, 0.15);\n",
              "      filter: drop-shadow(0px 1px 2px rgba(0, 0, 0, 0.3));\n",
              "      fill: #FFFFFF;\n",
              "    }\n",
              "  </style>\n",
              "\n",
              "      <script>\n",
              "        const buttonEl =\n",
              "          document.querySelector('#df-c4b90107-a828-4048-b53f-3a29e1c4934f button.colab-df-convert');\n",
              "        buttonEl.style.display =\n",
              "          google.colab.kernel.accessAllowed ? 'block' : 'none';\n",
              "\n",
              "        async function convertToInteractive(key) {\n",
              "          const element = document.querySelector('#df-c4b90107-a828-4048-b53f-3a29e1c4934f');\n",
              "          const dataTable =\n",
              "            await google.colab.kernel.invokeFunction('convertToInteractive',\n",
              "                                                     [key], {});\n",
              "          if (!dataTable) return;\n",
              "\n",
              "          const docLinkHtml = 'Like what you see? Visit the ' +\n",
              "            '<a target=\"_blank\" href=https://colab.research.google.com/notebooks/data_table.ipynb>data table notebook</a>'\n",
              "            + ' to learn more about interactive tables.';\n",
              "          element.innerHTML = '';\n",
              "          dataTable['output_type'] = 'display_data';\n",
              "          await google.colab.output.renderOutput(dataTable, element);\n",
              "          const docLink = document.createElement('div');\n",
              "          docLink.innerHTML = docLinkHtml;\n",
              "          element.appendChild(docLink);\n",
              "        }\n",
              "      </script>\n",
              "    </div>\n",
              "  </div>\n",
              "  "
            ]
          },
          "metadata": {},
          "execution_count": 194
        }
      ]
    },
    {
      "cell_type": "markdown",
      "source": [
        "# **Removing Multicollinearity using Variance Inflation Factor**"
      ],
      "metadata": {
        "id": "rco2XuC6zQei"
      }
    },
    {
      "cell_type": "code",
      "source": [
        "import statsmodels.api as sm\n",
        "from statsmodels.stats.outliers_influence import variance_inflation_factor"
      ],
      "metadata": {
        "id": "tcqKQm5c1Mq-"
      },
      "execution_count": 195,
      "outputs": []
    },
    {
      "cell_type": "code",
      "source": [
        "\n",
        "X = df[['targeted_productivity', 'smv', 'over_time', 'incentive','no_of_workers', 'pending', 'prop_job_remaining', 'Actual_workers']]\n",
        "\n",
        "\n",
        "vif=pd.DataFrame()\n",
        "vif['feature']=X.columns\n",
        "\n",
        "\n",
        "vif['VIF']=[variance_inflation_factor(X.values,i) for i in range(len(X.columns))]\n",
        "\n",
        "vif \n",
        "# we can observe that 'no_of_workers' and 'Actual_workers' are highly correlated, hence we will remove one variable and check for VIF again\n"
      ],
      "metadata": {
        "colab": {
          "base_uri": "https://localhost:8080/",
          "height": 300
        },
        "id": "nmwt47aszKir",
        "outputId": "9da075fb-4c34-463d-9d90-6763f2ada0d7"
      },
      "execution_count": 196,
      "outputs": [
        {
          "output_type": "execute_result",
          "data": {
            "text/plain": [
              "                 feature        VIF\n",
              "0  targeted_productivity   6.375819\n",
              "1                    smv  17.518245\n",
              "2              over_time   6.499921\n",
              "3              incentive   2.918621\n",
              "4          no_of_workers        inf\n",
              "5                pending   3.912703\n",
              "6     prop_job_remaining   1.107381\n",
              "7         Actual_workers        inf"
            ],
            "text/html": [
              "\n",
              "  <div id=\"df-0fcf640f-9f3b-44db-a29d-2dcd133573bc\">\n",
              "    <div class=\"colab-df-container\">\n",
              "      <div>\n",
              "<style scoped>\n",
              "    .dataframe tbody tr th:only-of-type {\n",
              "        vertical-align: middle;\n",
              "    }\n",
              "\n",
              "    .dataframe tbody tr th {\n",
              "        vertical-align: top;\n",
              "    }\n",
              "\n",
              "    .dataframe thead th {\n",
              "        text-align: right;\n",
              "    }\n",
              "</style>\n",
              "<table border=\"1\" class=\"dataframe\">\n",
              "  <thead>\n",
              "    <tr style=\"text-align: right;\">\n",
              "      <th></th>\n",
              "      <th>feature</th>\n",
              "      <th>VIF</th>\n",
              "    </tr>\n",
              "  </thead>\n",
              "  <tbody>\n",
              "    <tr>\n",
              "      <th>0</th>\n",
              "      <td>targeted_productivity</td>\n",
              "      <td>6.375819</td>\n",
              "    </tr>\n",
              "    <tr>\n",
              "      <th>1</th>\n",
              "      <td>smv</td>\n",
              "      <td>17.518245</td>\n",
              "    </tr>\n",
              "    <tr>\n",
              "      <th>2</th>\n",
              "      <td>over_time</td>\n",
              "      <td>6.499921</td>\n",
              "    </tr>\n",
              "    <tr>\n",
              "      <th>3</th>\n",
              "      <td>incentive</td>\n",
              "      <td>2.918621</td>\n",
              "    </tr>\n",
              "    <tr>\n",
              "      <th>4</th>\n",
              "      <td>no_of_workers</td>\n",
              "      <td>inf</td>\n",
              "    </tr>\n",
              "    <tr>\n",
              "      <th>5</th>\n",
              "      <td>pending</td>\n",
              "      <td>3.912703</td>\n",
              "    </tr>\n",
              "    <tr>\n",
              "      <th>6</th>\n",
              "      <td>prop_job_remaining</td>\n",
              "      <td>1.107381</td>\n",
              "    </tr>\n",
              "    <tr>\n",
              "      <th>7</th>\n",
              "      <td>Actual_workers</td>\n",
              "      <td>inf</td>\n",
              "    </tr>\n",
              "  </tbody>\n",
              "</table>\n",
              "</div>\n",
              "      <button class=\"colab-df-convert\" onclick=\"convertToInteractive('df-0fcf640f-9f3b-44db-a29d-2dcd133573bc')\"\n",
              "              title=\"Convert this dataframe to an interactive table.\"\n",
              "              style=\"display:none;\">\n",
              "        \n",
              "  <svg xmlns=\"http://www.w3.org/2000/svg\" height=\"24px\"viewBox=\"0 0 24 24\"\n",
              "       width=\"24px\">\n",
              "    <path d=\"M0 0h24v24H0V0z\" fill=\"none\"/>\n",
              "    <path d=\"M18.56 5.44l.94 2.06.94-2.06 2.06-.94-2.06-.94-.94-2.06-.94 2.06-2.06.94zm-11 1L8.5 8.5l.94-2.06 2.06-.94-2.06-.94L8.5 2.5l-.94 2.06-2.06.94zm10 10l.94 2.06.94-2.06 2.06-.94-2.06-.94-.94-2.06-.94 2.06-2.06.94z\"/><path d=\"M17.41 7.96l-1.37-1.37c-.4-.4-.92-.59-1.43-.59-.52 0-1.04.2-1.43.59L10.3 9.45l-7.72 7.72c-.78.78-.78 2.05 0 2.83L4 21.41c.39.39.9.59 1.41.59.51 0 1.02-.2 1.41-.59l7.78-7.78 2.81-2.81c.8-.78.8-2.07 0-2.86zM5.41 20L4 18.59l7.72-7.72 1.47 1.35L5.41 20z\"/>\n",
              "  </svg>\n",
              "      </button>\n",
              "      \n",
              "  <style>\n",
              "    .colab-df-container {\n",
              "      display:flex;\n",
              "      flex-wrap:wrap;\n",
              "      gap: 12px;\n",
              "    }\n",
              "\n",
              "    .colab-df-convert {\n",
              "      background-color: #E8F0FE;\n",
              "      border: none;\n",
              "      border-radius: 50%;\n",
              "      cursor: pointer;\n",
              "      display: none;\n",
              "      fill: #1967D2;\n",
              "      height: 32px;\n",
              "      padding: 0 0 0 0;\n",
              "      width: 32px;\n",
              "    }\n",
              "\n",
              "    .colab-df-convert:hover {\n",
              "      background-color: #E2EBFA;\n",
              "      box-shadow: 0px 1px 2px rgba(60, 64, 67, 0.3), 0px 1px 3px 1px rgba(60, 64, 67, 0.15);\n",
              "      fill: #174EA6;\n",
              "    }\n",
              "\n",
              "    [theme=dark] .colab-df-convert {\n",
              "      background-color: #3B4455;\n",
              "      fill: #D2E3FC;\n",
              "    }\n",
              "\n",
              "    [theme=dark] .colab-df-convert:hover {\n",
              "      background-color: #434B5C;\n",
              "      box-shadow: 0px 1px 3px 1px rgba(0, 0, 0, 0.15);\n",
              "      filter: drop-shadow(0px 1px 2px rgba(0, 0, 0, 0.3));\n",
              "      fill: #FFFFFF;\n",
              "    }\n",
              "  </style>\n",
              "\n",
              "      <script>\n",
              "        const buttonEl =\n",
              "          document.querySelector('#df-0fcf640f-9f3b-44db-a29d-2dcd133573bc button.colab-df-convert');\n",
              "        buttonEl.style.display =\n",
              "          google.colab.kernel.accessAllowed ? 'block' : 'none';\n",
              "\n",
              "        async function convertToInteractive(key) {\n",
              "          const element = document.querySelector('#df-0fcf640f-9f3b-44db-a29d-2dcd133573bc');\n",
              "          const dataTable =\n",
              "            await google.colab.kernel.invokeFunction('convertToInteractive',\n",
              "                                                     [key], {});\n",
              "          if (!dataTable) return;\n",
              "\n",
              "          const docLinkHtml = 'Like what you see? Visit the ' +\n",
              "            '<a target=\"_blank\" href=https://colab.research.google.com/notebooks/data_table.ipynb>data table notebook</a>'\n",
              "            + ' to learn more about interactive tables.';\n",
              "          element.innerHTML = '';\n",
              "          dataTable['output_type'] = 'display_data';\n",
              "          await google.colab.output.renderOutput(dataTable, element);\n",
              "          const docLink = document.createElement('div');\n",
              "          docLink.innerHTML = docLinkHtml;\n",
              "          element.appendChild(docLink);\n",
              "        }\n",
              "      </script>\n",
              "    </div>\n",
              "  </div>\n",
              "  "
            ]
          },
          "metadata": {},
          "execution_count": 196
        }
      ]
    },
    {
      "cell_type": "code",
      "source": [
        "X = df[['targeted_productivity', 'smv', 'over_time', 'incentive', 'pending', 'prop_job_remaining', 'Actual_workers']]\n",
        "\n",
        "\n",
        "vif=pd.DataFrame()\n",
        "vif['feature']=X.columns\n",
        "\n",
        "\n",
        "vif['VIF']=[variance_inflation_factor(X.values,i) for i in range(len(X.columns))]\n",
        "\n",
        "vif "
      ],
      "metadata": {
        "colab": {
          "base_uri": "https://localhost:8080/",
          "height": 269
        },
        "id": "Cp7_rvWQ1gCN",
        "outputId": "0be9e13d-8e38-4f3f-aaaa-cb2df7918791"
      },
      "execution_count": 197,
      "outputs": [
        {
          "output_type": "execute_result",
          "data": {
            "text/plain": [
              "                 feature        VIF\n",
              "0  targeted_productivity   6.375819\n",
              "1                    smv  17.518245\n",
              "2              over_time   6.499921\n",
              "3              incentive   2.918621\n",
              "4                pending   3.912703\n",
              "5     prop_job_remaining   1.107381\n",
              "6         Actual_workers  27.774483"
            ],
            "text/html": [
              "\n",
              "  <div id=\"df-59866d81-e6f7-4a69-b2c5-56432c04e863\">\n",
              "    <div class=\"colab-df-container\">\n",
              "      <div>\n",
              "<style scoped>\n",
              "    .dataframe tbody tr th:only-of-type {\n",
              "        vertical-align: middle;\n",
              "    }\n",
              "\n",
              "    .dataframe tbody tr th {\n",
              "        vertical-align: top;\n",
              "    }\n",
              "\n",
              "    .dataframe thead th {\n",
              "        text-align: right;\n",
              "    }\n",
              "</style>\n",
              "<table border=\"1\" class=\"dataframe\">\n",
              "  <thead>\n",
              "    <tr style=\"text-align: right;\">\n",
              "      <th></th>\n",
              "      <th>feature</th>\n",
              "      <th>VIF</th>\n",
              "    </tr>\n",
              "  </thead>\n",
              "  <tbody>\n",
              "    <tr>\n",
              "      <th>0</th>\n",
              "      <td>targeted_productivity</td>\n",
              "      <td>6.375819</td>\n",
              "    </tr>\n",
              "    <tr>\n",
              "      <th>1</th>\n",
              "      <td>smv</td>\n",
              "      <td>17.518245</td>\n",
              "    </tr>\n",
              "    <tr>\n",
              "      <th>2</th>\n",
              "      <td>over_time</td>\n",
              "      <td>6.499921</td>\n",
              "    </tr>\n",
              "    <tr>\n",
              "      <th>3</th>\n",
              "      <td>incentive</td>\n",
              "      <td>2.918621</td>\n",
              "    </tr>\n",
              "    <tr>\n",
              "      <th>4</th>\n",
              "      <td>pending</td>\n",
              "      <td>3.912703</td>\n",
              "    </tr>\n",
              "    <tr>\n",
              "      <th>5</th>\n",
              "      <td>prop_job_remaining</td>\n",
              "      <td>1.107381</td>\n",
              "    </tr>\n",
              "    <tr>\n",
              "      <th>6</th>\n",
              "      <td>Actual_workers</td>\n",
              "      <td>27.774483</td>\n",
              "    </tr>\n",
              "  </tbody>\n",
              "</table>\n",
              "</div>\n",
              "      <button class=\"colab-df-convert\" onclick=\"convertToInteractive('df-59866d81-e6f7-4a69-b2c5-56432c04e863')\"\n",
              "              title=\"Convert this dataframe to an interactive table.\"\n",
              "              style=\"display:none;\">\n",
              "        \n",
              "  <svg xmlns=\"http://www.w3.org/2000/svg\" height=\"24px\"viewBox=\"0 0 24 24\"\n",
              "       width=\"24px\">\n",
              "    <path d=\"M0 0h24v24H0V0z\" fill=\"none\"/>\n",
              "    <path d=\"M18.56 5.44l.94 2.06.94-2.06 2.06-.94-2.06-.94-.94-2.06-.94 2.06-2.06.94zm-11 1L8.5 8.5l.94-2.06 2.06-.94-2.06-.94L8.5 2.5l-.94 2.06-2.06.94zm10 10l.94 2.06.94-2.06 2.06-.94-2.06-.94-.94-2.06-.94 2.06-2.06.94z\"/><path d=\"M17.41 7.96l-1.37-1.37c-.4-.4-.92-.59-1.43-.59-.52 0-1.04.2-1.43.59L10.3 9.45l-7.72 7.72c-.78.78-.78 2.05 0 2.83L4 21.41c.39.39.9.59 1.41.59.51 0 1.02-.2 1.41-.59l7.78-7.78 2.81-2.81c.8-.78.8-2.07 0-2.86zM5.41 20L4 18.59l7.72-7.72 1.47 1.35L5.41 20z\"/>\n",
              "  </svg>\n",
              "      </button>\n",
              "      \n",
              "  <style>\n",
              "    .colab-df-container {\n",
              "      display:flex;\n",
              "      flex-wrap:wrap;\n",
              "      gap: 12px;\n",
              "    }\n",
              "\n",
              "    .colab-df-convert {\n",
              "      background-color: #E8F0FE;\n",
              "      border: none;\n",
              "      border-radius: 50%;\n",
              "      cursor: pointer;\n",
              "      display: none;\n",
              "      fill: #1967D2;\n",
              "      height: 32px;\n",
              "      padding: 0 0 0 0;\n",
              "      width: 32px;\n",
              "    }\n",
              "\n",
              "    .colab-df-convert:hover {\n",
              "      background-color: #E2EBFA;\n",
              "      box-shadow: 0px 1px 2px rgba(60, 64, 67, 0.3), 0px 1px 3px 1px rgba(60, 64, 67, 0.15);\n",
              "      fill: #174EA6;\n",
              "    }\n",
              "\n",
              "    [theme=dark] .colab-df-convert {\n",
              "      background-color: #3B4455;\n",
              "      fill: #D2E3FC;\n",
              "    }\n",
              "\n",
              "    [theme=dark] .colab-df-convert:hover {\n",
              "      background-color: #434B5C;\n",
              "      box-shadow: 0px 1px 3px 1px rgba(0, 0, 0, 0.15);\n",
              "      filter: drop-shadow(0px 1px 2px rgba(0, 0, 0, 0.3));\n",
              "      fill: #FFFFFF;\n",
              "    }\n",
              "  </style>\n",
              "\n",
              "      <script>\n",
              "        const buttonEl =\n",
              "          document.querySelector('#df-59866d81-e6f7-4a69-b2c5-56432c04e863 button.colab-df-convert');\n",
              "        buttonEl.style.display =\n",
              "          google.colab.kernel.accessAllowed ? 'block' : 'none';\n",
              "\n",
              "        async function convertToInteractive(key) {\n",
              "          const element = document.querySelector('#df-59866d81-e6f7-4a69-b2c5-56432c04e863');\n",
              "          const dataTable =\n",
              "            await google.colab.kernel.invokeFunction('convertToInteractive',\n",
              "                                                     [key], {});\n",
              "          if (!dataTable) return;\n",
              "\n",
              "          const docLinkHtml = 'Like what you see? Visit the ' +\n",
              "            '<a target=\"_blank\" href=https://colab.research.google.com/notebooks/data_table.ipynb>data table notebook</a>'\n",
              "            + ' to learn more about interactive tables.';\n",
              "          element.innerHTML = '';\n",
              "          dataTable['output_type'] = 'display_data';\n",
              "          await google.colab.output.renderOutput(dataTable, element);\n",
              "          const docLink = document.createElement('div');\n",
              "          docLink.innerHTML = docLinkHtml;\n",
              "          element.appendChild(docLink);\n",
              "        }\n",
              "      </script>\n",
              "    </div>\n",
              "  </div>\n",
              "  "
            ]
          },
          "metadata": {},
          "execution_count": 197
        }
      ]
    },
    {
      "cell_type": "code",
      "source": [
        "X = df[['targeted_productivity', 'smv', 'over_time', 'incentive', 'pending', 'prop_job_remaining']]\n",
        "\n",
        "\n",
        "vif=pd.DataFrame()\n",
        "vif['feature']=X.columns\n",
        "\n",
        "\n",
        "vif['VIF']=[variance_inflation_factor(X.values,i) for i in range(len(X.columns))]\n",
        "\n",
        "vif  #All the vif values are less than 10, hence we will consider these variables"
      ],
      "metadata": {
        "colab": {
          "base_uri": "https://localhost:8080/",
          "height": 237
        },
        "id": "TwXFuI1P4Ur-",
        "outputId": "e7bf2512-7a1f-4ba7-8eee-709f64173a87"
      },
      "execution_count": 198,
      "outputs": [
        {
          "output_type": "execute_result",
          "data": {
            "text/plain": [
              "                 feature       VIF\n",
              "0  targeted_productivity  6.090630\n",
              "1                    smv  6.120233\n",
              "2              over_time  5.656488\n",
              "3              incentive  2.533201\n",
              "4                pending  3.912527\n",
              "5     prop_job_remaining  1.107189"
            ],
            "text/html": [
              "\n",
              "  <div id=\"df-b57b4585-1b94-4fc5-bb74-4eb5474ab487\">\n",
              "    <div class=\"colab-df-container\">\n",
              "      <div>\n",
              "<style scoped>\n",
              "    .dataframe tbody tr th:only-of-type {\n",
              "        vertical-align: middle;\n",
              "    }\n",
              "\n",
              "    .dataframe tbody tr th {\n",
              "        vertical-align: top;\n",
              "    }\n",
              "\n",
              "    .dataframe thead th {\n",
              "        text-align: right;\n",
              "    }\n",
              "</style>\n",
              "<table border=\"1\" class=\"dataframe\">\n",
              "  <thead>\n",
              "    <tr style=\"text-align: right;\">\n",
              "      <th></th>\n",
              "      <th>feature</th>\n",
              "      <th>VIF</th>\n",
              "    </tr>\n",
              "  </thead>\n",
              "  <tbody>\n",
              "    <tr>\n",
              "      <th>0</th>\n",
              "      <td>targeted_productivity</td>\n",
              "      <td>6.090630</td>\n",
              "    </tr>\n",
              "    <tr>\n",
              "      <th>1</th>\n",
              "      <td>smv</td>\n",
              "      <td>6.120233</td>\n",
              "    </tr>\n",
              "    <tr>\n",
              "      <th>2</th>\n",
              "      <td>over_time</td>\n",
              "      <td>5.656488</td>\n",
              "    </tr>\n",
              "    <tr>\n",
              "      <th>3</th>\n",
              "      <td>incentive</td>\n",
              "      <td>2.533201</td>\n",
              "    </tr>\n",
              "    <tr>\n",
              "      <th>4</th>\n",
              "      <td>pending</td>\n",
              "      <td>3.912527</td>\n",
              "    </tr>\n",
              "    <tr>\n",
              "      <th>5</th>\n",
              "      <td>prop_job_remaining</td>\n",
              "      <td>1.107189</td>\n",
              "    </tr>\n",
              "  </tbody>\n",
              "</table>\n",
              "</div>\n",
              "      <button class=\"colab-df-convert\" onclick=\"convertToInteractive('df-b57b4585-1b94-4fc5-bb74-4eb5474ab487')\"\n",
              "              title=\"Convert this dataframe to an interactive table.\"\n",
              "              style=\"display:none;\">\n",
              "        \n",
              "  <svg xmlns=\"http://www.w3.org/2000/svg\" height=\"24px\"viewBox=\"0 0 24 24\"\n",
              "       width=\"24px\">\n",
              "    <path d=\"M0 0h24v24H0V0z\" fill=\"none\"/>\n",
              "    <path d=\"M18.56 5.44l.94 2.06.94-2.06 2.06-.94-2.06-.94-.94-2.06-.94 2.06-2.06.94zm-11 1L8.5 8.5l.94-2.06 2.06-.94-2.06-.94L8.5 2.5l-.94 2.06-2.06.94zm10 10l.94 2.06.94-2.06 2.06-.94-2.06-.94-.94-2.06-.94 2.06-2.06.94z\"/><path d=\"M17.41 7.96l-1.37-1.37c-.4-.4-.92-.59-1.43-.59-.52 0-1.04.2-1.43.59L10.3 9.45l-7.72 7.72c-.78.78-.78 2.05 0 2.83L4 21.41c.39.39.9.59 1.41.59.51 0 1.02-.2 1.41-.59l7.78-7.78 2.81-2.81c.8-.78.8-2.07 0-2.86zM5.41 20L4 18.59l7.72-7.72 1.47 1.35L5.41 20z\"/>\n",
              "  </svg>\n",
              "      </button>\n",
              "      \n",
              "  <style>\n",
              "    .colab-df-container {\n",
              "      display:flex;\n",
              "      flex-wrap:wrap;\n",
              "      gap: 12px;\n",
              "    }\n",
              "\n",
              "    .colab-df-convert {\n",
              "      background-color: #E8F0FE;\n",
              "      border: none;\n",
              "      border-radius: 50%;\n",
              "      cursor: pointer;\n",
              "      display: none;\n",
              "      fill: #1967D2;\n",
              "      height: 32px;\n",
              "      padding: 0 0 0 0;\n",
              "      width: 32px;\n",
              "    }\n",
              "\n",
              "    .colab-df-convert:hover {\n",
              "      background-color: #E2EBFA;\n",
              "      box-shadow: 0px 1px 2px rgba(60, 64, 67, 0.3), 0px 1px 3px 1px rgba(60, 64, 67, 0.15);\n",
              "      fill: #174EA6;\n",
              "    }\n",
              "\n",
              "    [theme=dark] .colab-df-convert {\n",
              "      background-color: #3B4455;\n",
              "      fill: #D2E3FC;\n",
              "    }\n",
              "\n",
              "    [theme=dark] .colab-df-convert:hover {\n",
              "      background-color: #434B5C;\n",
              "      box-shadow: 0px 1px 3px 1px rgba(0, 0, 0, 0.15);\n",
              "      filter: drop-shadow(0px 1px 2px rgba(0, 0, 0, 0.3));\n",
              "      fill: #FFFFFF;\n",
              "    }\n",
              "  </style>\n",
              "\n",
              "      <script>\n",
              "        const buttonEl =\n",
              "          document.querySelector('#df-b57b4585-1b94-4fc5-bb74-4eb5474ab487 button.colab-df-convert');\n",
              "        buttonEl.style.display =\n",
              "          google.colab.kernel.accessAllowed ? 'block' : 'none';\n",
              "\n",
              "        async function convertToInteractive(key) {\n",
              "          const element = document.querySelector('#df-b57b4585-1b94-4fc5-bb74-4eb5474ab487');\n",
              "          const dataTable =\n",
              "            await google.colab.kernel.invokeFunction('convertToInteractive',\n",
              "                                                     [key], {});\n",
              "          if (!dataTable) return;\n",
              "\n",
              "          const docLinkHtml = 'Like what you see? Visit the ' +\n",
              "            '<a target=\"_blank\" href=https://colab.research.google.com/notebooks/data_table.ipynb>data table notebook</a>'\n",
              "            + ' to learn more about interactive tables.';\n",
              "          element.innerHTML = '';\n",
              "          dataTable['output_type'] = 'display_data';\n",
              "          await google.colab.output.renderOutput(dataTable, element);\n",
              "          const docLink = document.createElement('div');\n",
              "          docLink.innerHTML = docLinkHtml;\n",
              "          element.appendChild(docLink);\n",
              "        }\n",
              "      </script>\n",
              "    </div>\n",
              "  </div>\n",
              "  "
            ]
          },
          "metadata": {},
          "execution_count": 198
        }
      ]
    },
    {
      "cell_type": "code",
      "source": [
        "df=df.drop(['date','quarter','no_of_workers', 'Actual_workers'], axis=1)"
      ],
      "metadata": {
        "id": "pogHq0Wc4jvH"
      },
      "execution_count": 199,
      "outputs": []
    },
    {
      "cell_type": "markdown",
      "source": [
        "# **Splitting the data**"
      ],
      "metadata": {
        "id": "92MP4E5G6OHC"
      }
    },
    {
      "cell_type": "code",
      "source": [
        "from sklearn.model_selection import train_test_split"
      ],
      "metadata": {
        "id": "7zO0JuKf461A"
      },
      "execution_count": 200,
      "outputs": []
    },
    {
      "cell_type": "code",
      "source": [
        "X=df.drop(['actual_productivity'], axis=1)\n",
        "y=df['actual_productivity']"
      ],
      "metadata": {
        "id": "la5_uP-G6S5Z"
      },
      "execution_count": 201,
      "outputs": []
    },
    {
      "cell_type": "code",
      "source": [
        "X_train,X_test,y_train,y_test=train_test_split(X, y, test_size = 0.25)"
      ],
      "metadata": {
        "id": "USpe2A7S6f74"
      },
      "execution_count": 202,
      "outputs": []
    },
    {
      "cell_type": "markdown",
      "source": [
        "# **Data Scaling**"
      ],
      "metadata": {
        "id": "YIBoH1sh6pG5"
      }
    },
    {
      "cell_type": "code",
      "source": [
        "df.head()"
      ],
      "metadata": {
        "colab": {
          "base_uri": "https://localhost:8080/",
          "height": 270
        },
        "id": "7o4ztBpsZ9ye",
        "outputId": "5c22932b-ebeb-4d4d-a97b-aff5577f1080"
      },
      "execution_count": 203,
      "outputs": [
        {
          "output_type": "execute_result",
          "data": {
            "text/plain": [
              "   team  targeted_productivity       smv  over_time  incentive  \\\n",
              "0     8                   0.80  0.436000      118.0         98   \n",
              "1     1                   0.75  0.065667       16.0          0   \n",
              "2    11                   0.80  0.190167       61.0         50   \n",
              "3    12                   0.80  0.190167       61.0         50   \n",
              "4     6                   0.80  0.431667       32.0         50   \n",
              "\n",
              "   actual_productivity  pending  prop_job_remaining  department_sweing  \\\n",
              "0             0.940725  18768.0            0.944254                  1   \n",
              "1             0.886500  20752.0            0.952320                  0   \n",
              "2             0.800570   4545.0            0.824415                  1   \n",
              "3             0.800570  22614.0            0.958952                  1   \n",
              "4             0.800382  12299.0            0.913134                  1   \n",
              "\n",
              "   day_Saturday  day_Sunday  day_Thursday  day_Tuesday  day_Wednesday  \\\n",
              "0             0           0             1            0              0   \n",
              "1             0           0             1            0              0   \n",
              "2             0           0             1            0              0   \n",
              "3             0           0             1            0              0   \n",
              "4             0           0             1            0              0   \n",
              "\n",
              "   no_of_style_change_Yes  \n",
              "0                       0  \n",
              "1                       0  \n",
              "2                       0  \n",
              "3                       0  \n",
              "4                       0  "
            ],
            "text/html": [
              "\n",
              "  <div id=\"df-15159e1b-f7e1-4dd0-a9a5-aeaebb4ec007\">\n",
              "    <div class=\"colab-df-container\">\n",
              "      <div>\n",
              "<style scoped>\n",
              "    .dataframe tbody tr th:only-of-type {\n",
              "        vertical-align: middle;\n",
              "    }\n",
              "\n",
              "    .dataframe tbody tr th {\n",
              "        vertical-align: top;\n",
              "    }\n",
              "\n",
              "    .dataframe thead th {\n",
              "        text-align: right;\n",
              "    }\n",
              "</style>\n",
              "<table border=\"1\" class=\"dataframe\">\n",
              "  <thead>\n",
              "    <tr style=\"text-align: right;\">\n",
              "      <th></th>\n",
              "      <th>team</th>\n",
              "      <th>targeted_productivity</th>\n",
              "      <th>smv</th>\n",
              "      <th>over_time</th>\n",
              "      <th>incentive</th>\n",
              "      <th>actual_productivity</th>\n",
              "      <th>pending</th>\n",
              "      <th>prop_job_remaining</th>\n",
              "      <th>department_sweing</th>\n",
              "      <th>day_Saturday</th>\n",
              "      <th>day_Sunday</th>\n",
              "      <th>day_Thursday</th>\n",
              "      <th>day_Tuesday</th>\n",
              "      <th>day_Wednesday</th>\n",
              "      <th>no_of_style_change_Yes</th>\n",
              "    </tr>\n",
              "  </thead>\n",
              "  <tbody>\n",
              "    <tr>\n",
              "      <th>0</th>\n",
              "      <td>8</td>\n",
              "      <td>0.80</td>\n",
              "      <td>0.436000</td>\n",
              "      <td>118.0</td>\n",
              "      <td>98</td>\n",
              "      <td>0.940725</td>\n",
              "      <td>18768.0</td>\n",
              "      <td>0.944254</td>\n",
              "      <td>1</td>\n",
              "      <td>0</td>\n",
              "      <td>0</td>\n",
              "      <td>1</td>\n",
              "      <td>0</td>\n",
              "      <td>0</td>\n",
              "      <td>0</td>\n",
              "    </tr>\n",
              "    <tr>\n",
              "      <th>1</th>\n",
              "      <td>1</td>\n",
              "      <td>0.75</td>\n",
              "      <td>0.065667</td>\n",
              "      <td>16.0</td>\n",
              "      <td>0</td>\n",
              "      <td>0.886500</td>\n",
              "      <td>20752.0</td>\n",
              "      <td>0.952320</td>\n",
              "      <td>0</td>\n",
              "      <td>0</td>\n",
              "      <td>0</td>\n",
              "      <td>1</td>\n",
              "      <td>0</td>\n",
              "      <td>0</td>\n",
              "      <td>0</td>\n",
              "    </tr>\n",
              "    <tr>\n",
              "      <th>2</th>\n",
              "      <td>11</td>\n",
              "      <td>0.80</td>\n",
              "      <td>0.190167</td>\n",
              "      <td>61.0</td>\n",
              "      <td>50</td>\n",
              "      <td>0.800570</td>\n",
              "      <td>4545.0</td>\n",
              "      <td>0.824415</td>\n",
              "      <td>1</td>\n",
              "      <td>0</td>\n",
              "      <td>0</td>\n",
              "      <td>1</td>\n",
              "      <td>0</td>\n",
              "      <td>0</td>\n",
              "      <td>0</td>\n",
              "    </tr>\n",
              "    <tr>\n",
              "      <th>3</th>\n",
              "      <td>12</td>\n",
              "      <td>0.80</td>\n",
              "      <td>0.190167</td>\n",
              "      <td>61.0</td>\n",
              "      <td>50</td>\n",
              "      <td>0.800570</td>\n",
              "      <td>22614.0</td>\n",
              "      <td>0.958952</td>\n",
              "      <td>1</td>\n",
              "      <td>0</td>\n",
              "      <td>0</td>\n",
              "      <td>1</td>\n",
              "      <td>0</td>\n",
              "      <td>0</td>\n",
              "      <td>0</td>\n",
              "    </tr>\n",
              "    <tr>\n",
              "      <th>4</th>\n",
              "      <td>6</td>\n",
              "      <td>0.80</td>\n",
              "      <td>0.431667</td>\n",
              "      <td>32.0</td>\n",
              "      <td>50</td>\n",
              "      <td>0.800382</td>\n",
              "      <td>12299.0</td>\n",
              "      <td>0.913134</td>\n",
              "      <td>1</td>\n",
              "      <td>0</td>\n",
              "      <td>0</td>\n",
              "      <td>1</td>\n",
              "      <td>0</td>\n",
              "      <td>0</td>\n",
              "      <td>0</td>\n",
              "    </tr>\n",
              "  </tbody>\n",
              "</table>\n",
              "</div>\n",
              "      <button class=\"colab-df-convert\" onclick=\"convertToInteractive('df-15159e1b-f7e1-4dd0-a9a5-aeaebb4ec007')\"\n",
              "              title=\"Convert this dataframe to an interactive table.\"\n",
              "              style=\"display:none;\">\n",
              "        \n",
              "  <svg xmlns=\"http://www.w3.org/2000/svg\" height=\"24px\"viewBox=\"0 0 24 24\"\n",
              "       width=\"24px\">\n",
              "    <path d=\"M0 0h24v24H0V0z\" fill=\"none\"/>\n",
              "    <path d=\"M18.56 5.44l.94 2.06.94-2.06 2.06-.94-2.06-.94-.94-2.06-.94 2.06-2.06.94zm-11 1L8.5 8.5l.94-2.06 2.06-.94-2.06-.94L8.5 2.5l-.94 2.06-2.06.94zm10 10l.94 2.06.94-2.06 2.06-.94-2.06-.94-.94-2.06-.94 2.06-2.06.94z\"/><path d=\"M17.41 7.96l-1.37-1.37c-.4-.4-.92-.59-1.43-.59-.52 0-1.04.2-1.43.59L10.3 9.45l-7.72 7.72c-.78.78-.78 2.05 0 2.83L4 21.41c.39.39.9.59 1.41.59.51 0 1.02-.2 1.41-.59l7.78-7.78 2.81-2.81c.8-.78.8-2.07 0-2.86zM5.41 20L4 18.59l7.72-7.72 1.47 1.35L5.41 20z\"/>\n",
              "  </svg>\n",
              "      </button>\n",
              "      \n",
              "  <style>\n",
              "    .colab-df-container {\n",
              "      display:flex;\n",
              "      flex-wrap:wrap;\n",
              "      gap: 12px;\n",
              "    }\n",
              "\n",
              "    .colab-df-convert {\n",
              "      background-color: #E8F0FE;\n",
              "      border: none;\n",
              "      border-radius: 50%;\n",
              "      cursor: pointer;\n",
              "      display: none;\n",
              "      fill: #1967D2;\n",
              "      height: 32px;\n",
              "      padding: 0 0 0 0;\n",
              "      width: 32px;\n",
              "    }\n",
              "\n",
              "    .colab-df-convert:hover {\n",
              "      background-color: #E2EBFA;\n",
              "      box-shadow: 0px 1px 2px rgba(60, 64, 67, 0.3), 0px 1px 3px 1px rgba(60, 64, 67, 0.15);\n",
              "      fill: #174EA6;\n",
              "    }\n",
              "\n",
              "    [theme=dark] .colab-df-convert {\n",
              "      background-color: #3B4455;\n",
              "      fill: #D2E3FC;\n",
              "    }\n",
              "\n",
              "    [theme=dark] .colab-df-convert:hover {\n",
              "      background-color: #434B5C;\n",
              "      box-shadow: 0px 1px 3px 1px rgba(0, 0, 0, 0.15);\n",
              "      filter: drop-shadow(0px 1px 2px rgba(0, 0, 0, 0.3));\n",
              "      fill: #FFFFFF;\n",
              "    }\n",
              "  </style>\n",
              "\n",
              "      <script>\n",
              "        const buttonEl =\n",
              "          document.querySelector('#df-15159e1b-f7e1-4dd0-a9a5-aeaebb4ec007 button.colab-df-convert');\n",
              "        buttonEl.style.display =\n",
              "          google.colab.kernel.accessAllowed ? 'block' : 'none';\n",
              "\n",
              "        async function convertToInteractive(key) {\n",
              "          const element = document.querySelector('#df-15159e1b-f7e1-4dd0-a9a5-aeaebb4ec007');\n",
              "          const dataTable =\n",
              "            await google.colab.kernel.invokeFunction('convertToInteractive',\n",
              "                                                     [key], {});\n",
              "          if (!dataTable) return;\n",
              "\n",
              "          const docLinkHtml = 'Like what you see? Visit the ' +\n",
              "            '<a target=\"_blank\" href=https://colab.research.google.com/notebooks/data_table.ipynb>data table notebook</a>'\n",
              "            + ' to learn more about interactive tables.';\n",
              "          element.innerHTML = '';\n",
              "          dataTable['output_type'] = 'display_data';\n",
              "          await google.colab.output.renderOutput(dataTable, element);\n",
              "          const docLink = document.createElement('div');\n",
              "          docLink.innerHTML = docLinkHtml;\n",
              "          element.appendChild(docLink);\n",
              "        }\n",
              "      </script>\n",
              "    </div>\n",
              "  </div>\n",
              "  "
            ]
          },
          "metadata": {},
          "execution_count": 203
        }
      ]
    },
    {
      "cell_type": "code",
      "source": [
        "from sklearn.preprocessing import MinMaxScaler"
      ],
      "metadata": {
        "id": "SWoZIDig6ulH"
      },
      "execution_count": 204,
      "outputs": []
    },
    {
      "cell_type": "code",
      "source": [
        "sc=MinMaxScaler()"
      ],
      "metadata": {
        "id": "AO5JrlVCaLYK"
      },
      "execution_count": 205,
      "outputs": []
    },
    {
      "cell_type": "code",
      "source": [
        "X_train=sc.fit_transform(X_train)\n",
        "X_test=sc.transform(X_test)"
      ],
      "metadata": {
        "id": "Cc-Dn8rXayeB"
      },
      "execution_count": 206,
      "outputs": []
    },
    {
      "cell_type": "markdown",
      "source": [
        "# **Model Building**"
      ],
      "metadata": {
        "id": "ffaKQoqjeZNL"
      }
    },
    {
      "cell_type": "markdown",
      "source": [
        "# Linear Regression"
      ],
      "metadata": {
        "id": "im0LNATuekuP"
      }
    },
    {
      "cell_type": "code",
      "source": [
        "from sklearn.linear_model import LinearRegression"
      ],
      "metadata": {
        "id": "jPew9HBYd6GA"
      },
      "execution_count": 207,
      "outputs": []
    },
    {
      "cell_type": "code",
      "source": [
        "lr=LinearRegression()"
      ],
      "metadata": {
        "id": "tjoiQ7tbfKeC"
      },
      "execution_count": 208,
      "outputs": []
    },
    {
      "cell_type": "code",
      "source": [
        "lr.fit(X_train,y_train)"
      ],
      "metadata": {
        "colab": {
          "base_uri": "https://localhost:8080/"
        },
        "id": "p2cKiYwmfMQq",
        "outputId": "730867a0-a28b-40e6-f0ff-6bfbaf3ccc87"
      },
      "execution_count": 209,
      "outputs": [
        {
          "output_type": "execute_result",
          "data": {
            "text/plain": [
              "LinearRegression()"
            ]
          },
          "metadata": {},
          "execution_count": 209
        }
      ]
    },
    {
      "cell_type": "code",
      "source": [
        "lr.score(X_train,y_train)"
      ],
      "metadata": {
        "colab": {
          "base_uri": "https://localhost:8080/"
        },
        "id": "XDhG09m-fN-J",
        "outputId": "6226f5b6-7545-4d89-eb12-9c714c70c33f"
      },
      "execution_count": 210,
      "outputs": [
        {
          "output_type": "execute_result",
          "data": {
            "text/plain": [
              "0.2873819252029959"
            ]
          },
          "metadata": {},
          "execution_count": 210
        }
      ]
    },
    {
      "cell_type": "code",
      "source": [
        "lr_pred=lr.predict(X_test)"
      ],
      "metadata": {
        "id": "WDSkk6mafSrX"
      },
      "execution_count": 211,
      "outputs": []
    },
    {
      "cell_type": "code",
      "source": [
        "from sklearn.metrics import mean_absolute_error\n",
        "from sklearn.metrics import mean_squared_error\n",
        "from sklearn.metrics import r2_score"
      ],
      "metadata": {
        "id": "nMRWcI9XfWWy"
      },
      "execution_count": 212,
      "outputs": []
    },
    {
      "cell_type": "code",
      "source": [
        "errors = y_test-lr_pred\n",
        "sse= np.square(errors).sum()\n",
        "\n",
        "mae=mean_absolute_error(y_test,lr_pred)\n",
        "\n",
        "rmse=mean_squared_error(y_test,lr_pred)\n",
        "\n",
        "r2=r2_score(y_test,lr_pred)\n",
        "\n",
        "adjr2= 1- ((1-r2) * (X.shape[0]-1) / (X.shape[0] - X.shape[1] - 1))\n",
        "\n",
        "print('Sum of Squared Errors: ', sse, '\\nMean absolute error: ', mae, '\\nRoot Mean Squared Error: ', rmse, '\\nR2 score: ', r2, '\\nAdjusted R2: ', adjr2)"
      ],
      "metadata": {
        "colab": {
          "base_uri": "https://localhost:8080/"
        },
        "id": "WBnmtrY7fiFf",
        "outputId": "58c73902-b9b2-4c4b-b850-d370eb955f93"
      },
      "execution_count": 213,
      "outputs": [
        {
          "output_type": "stream",
          "name": "stdout",
          "text": [
            "Sum of Squared Errors:  6.010794880155684 \n",
            "Mean absolute error:  0.10594394628965093 \n",
            "Root Mean Squared Error:  0.020170452617972096 \n",
            "R2 score:  0.34680057207083137 \n",
            "Adjusted R2:  0.3390111410733796\n"
          ]
        }
      ]
    },
    {
      "cell_type": "markdown",
      "source": [
        "# Ridge"
      ],
      "metadata": {
        "id": "w7xNkHK5hlUR"
      }
    },
    {
      "cell_type": "code",
      "source": [
        "from sklearn.linear_model import Ridge\n",
        "from sklearn.model_selection import GridSearchCV"
      ],
      "metadata": {
        "id": "S-l7Alzif2u_"
      },
      "execution_count": 214,
      "outputs": []
    },
    {
      "cell_type": "code",
      "source": [
        "rid=Ridge()"
      ],
      "metadata": {
        "id": "xm5VxTL_hwWh"
      },
      "execution_count": 215,
      "outputs": []
    },
    {
      "cell_type": "code",
      "source": [
        "rid.fit(X_train,y_train)"
      ],
      "metadata": {
        "colab": {
          "base_uri": "https://localhost:8080/"
        },
        "id": "_R8HAxAsgm7Z",
        "outputId": "2b361557-d2b0-40b1-cca1-ea2d888ba6c3"
      },
      "execution_count": 216,
      "outputs": [
        {
          "output_type": "execute_result",
          "data": {
            "text/plain": [
              "Ridge()"
            ]
          },
          "metadata": {},
          "execution_count": 216
        }
      ]
    },
    {
      "cell_type": "code",
      "source": [
        "rid.score(X_train,y_train)"
      ],
      "metadata": {
        "colab": {
          "base_uri": "https://localhost:8080/"
        },
        "id": "VM6DUDHEh9qz",
        "outputId": "26797708-d68c-4b84-aa60-6629114e1969"
      },
      "execution_count": 217,
      "outputs": [
        {
          "output_type": "execute_result",
          "data": {
            "text/plain": [
              "0.28702098689224687"
            ]
          },
          "metadata": {},
          "execution_count": 217
        }
      ]
    },
    {
      "cell_type": "code",
      "source": [
        "params={'alpha':[0.01,0.001,0.002,0.003,0.04,0.04,0.5,1,2,3,10,50,100]}"
      ],
      "metadata": {
        "id": "ksy_028MiCvM"
      },
      "execution_count": 218,
      "outputs": []
    },
    {
      "cell_type": "code",
      "source": [
        "tune_rid=GridSearchCV(rid, params, scoring='neg_mean_squared_error', cv=3, verbose=3)"
      ],
      "metadata": {
        "id": "4Enea3ihiMYS"
      },
      "execution_count": 219,
      "outputs": []
    },
    {
      "cell_type": "code",
      "source": [
        "tune_rid.fit(X_train,y_train)"
      ],
      "metadata": {
        "colab": {
          "base_uri": "https://localhost:8080/"
        },
        "id": "fFGbFe3xiYe0",
        "outputId": "55080bcf-ed56-44e2-b7b4-4ccdf3b92db4"
      },
      "execution_count": 220,
      "outputs": [
        {
          "output_type": "stream",
          "name": "stdout",
          "text": [
            "Fitting 3 folds for each of 13 candidates, totalling 39 fits\n",
            "[CV 1/3] END .......................alpha=0.01;, score=-0.025 total time=   0.0s\n",
            "[CV 2/3] END .......................alpha=0.01;, score=-0.020 total time=   0.0s\n",
            "[CV 3/3] END .......................alpha=0.01;, score=-0.030 total time=   0.0s\n",
            "[CV 1/3] END ......................alpha=0.001;, score=-0.025 total time=   0.0s\n",
            "[CV 2/3] END ......................alpha=0.001;, score=-0.020 total time=   0.0s\n",
            "[CV 3/3] END ......................alpha=0.001;, score=-0.043 total time=   0.0s\n",
            "[CV 1/3] END ......................alpha=0.002;, score=-0.025 total time=   0.0s\n",
            "[CV 2/3] END ......................alpha=0.002;, score=-0.020 total time=   0.0s\n",
            "[CV 3/3] END ......................alpha=0.002;, score=-0.040 total time=   0.0s\n",
            "[CV 1/3] END ......................alpha=0.003;, score=-0.025 total time=   0.0s\n",
            "[CV 2/3] END ......................alpha=0.003;, score=-0.020 total time=   0.0s\n",
            "[CV 3/3] END ......................alpha=0.003;, score=-0.038 total time=   0.0s\n",
            "[CV 1/3] END .......................alpha=0.04;, score=-0.025 total time=   0.0s\n",
            "[CV 2/3] END .......................alpha=0.04;, score=-0.020 total time=   0.0s\n",
            "[CV 3/3] END .......................alpha=0.04;, score=-0.024 total time=   0.0s\n",
            "[CV 1/3] END .......................alpha=0.04;, score=-0.025 total time=   0.0s\n",
            "[CV 2/3] END .......................alpha=0.04;, score=-0.020 total time=   0.0s\n",
            "[CV 3/3] END .......................alpha=0.04;, score=-0.024 total time=   0.0s\n",
            "[CV 1/3] END ........................alpha=0.5;, score=-0.026 total time=   0.0s\n",
            "[CV 2/3] END ........................alpha=0.5;, score=-0.020 total time=   0.0s\n",
            "[CV 3/3] END ........................alpha=0.5;, score=-0.022 total time=   0.0s\n",
            "[CV 1/3] END ..........................alpha=1;, score=-0.026 total time=   0.0s\n",
            "[CV 2/3] END ..........................alpha=1;, score=-0.020 total time=   0.0s\n",
            "[CV 3/3] END ..........................alpha=1;, score=-0.022 total time=   0.0s\n",
            "[CV 1/3] END ..........................alpha=2;, score=-0.026 total time=   0.0s\n",
            "[CV 2/3] END ..........................alpha=2;, score=-0.020 total time=   0.0s\n",
            "[CV 3/3] END ..........................alpha=2;, score=-0.022 total time=   0.0s\n",
            "[CV 1/3] END ..........................alpha=3;, score=-0.026 total time=   0.0s\n",
            "[CV 2/3] END ..........................alpha=3;, score=-0.019 total time=   0.0s\n",
            "[CV 3/3] END ..........................alpha=3;, score=-0.023 total time=   0.0s\n",
            "[CV 1/3] END .........................alpha=10;, score=-0.027 total time=   0.0s\n",
            "[CV 2/3] END .........................alpha=10;, score=-0.019 total time=   0.0s\n",
            "[CV 3/3] END .........................alpha=10;, score=-0.023 total time=   0.0s\n",
            "[CV 1/3] END .........................alpha=50;, score=-0.030 total time=   0.0s\n",
            "[CV 2/3] END .........................alpha=50;, score=-0.020 total time=   0.0s\n",
            "[CV 3/3] END .........................alpha=50;, score=-0.026 total time=   0.0s\n",
            "[CV 1/3] END ........................alpha=100;, score=-0.032 total time=   0.0s\n",
            "[CV 2/3] END ........................alpha=100;, score=-0.022 total time=   0.0s\n",
            "[CV 3/3] END ........................alpha=100;, score=-0.027 total time=   0.0s\n"
          ]
        },
        {
          "output_type": "execute_result",
          "data": {
            "text/plain": [
              "GridSearchCV(cv=3, estimator=Ridge(),\n",
              "             param_grid={'alpha': [0.01, 0.001, 0.002, 0.003, 0.04, 0.04, 0.5,\n",
              "                                   1, 2, 3, 10, 50, 100]},\n",
              "             scoring='neg_mean_squared_error', verbose=3)"
            ]
          },
          "metadata": {},
          "execution_count": 220
        }
      ]
    },
    {
      "cell_type": "code",
      "source": [
        "tune_rid.best_params_"
      ],
      "metadata": {
        "colab": {
          "base_uri": "https://localhost:8080/"
        },
        "id": "ZPPzP75kl10S",
        "outputId": "dd6a8178-a734-43ec-fcb4-4e3a5178c7f9"
      },
      "execution_count": 221,
      "outputs": [
        {
          "output_type": "execute_result",
          "data": {
            "text/plain": [
              "{'alpha': 2}"
            ]
          },
          "metadata": {},
          "execution_count": 221
        }
      ]
    },
    {
      "cell_type": "code",
      "source": [
        "rid=Ridge(alpha=2)"
      ],
      "metadata": {
        "id": "FgA5eRaqijRY"
      },
      "execution_count": 222,
      "outputs": []
    },
    {
      "cell_type": "code",
      "source": [
        "rid.fit(X_train,y_train)\n",
        "rid.score(X_train,y_train)"
      ],
      "metadata": {
        "colab": {
          "base_uri": "https://localhost:8080/"
        },
        "id": "xpBLeHfdl9Dc",
        "outputId": "e072e4a1-862a-49e5-d08e-aa7f4d65d89a"
      },
      "execution_count": 223,
      "outputs": [
        {
          "output_type": "execute_result",
          "data": {
            "text/plain": [
              "0.2862546671450972"
            ]
          },
          "metadata": {},
          "execution_count": 223
        }
      ]
    },
    {
      "cell_type": "markdown",
      "source": [
        "# Lasso"
      ],
      "metadata": {
        "id": "Dg8PEwUzi6LS"
      }
    },
    {
      "cell_type": "code",
      "source": [
        "from sklearn.linear_model import Lasso"
      ],
      "metadata": {
        "id": "sEbo-XSxioQA"
      },
      "execution_count": 224,
      "outputs": []
    },
    {
      "cell_type": "code",
      "source": [
        "lass=Lasso()"
      ],
      "metadata": {
        "id": "b1V_516ZjQUa"
      },
      "execution_count": 225,
      "outputs": []
    },
    {
      "cell_type": "code",
      "source": [
        "lass.fit(X_train,y_train)"
      ],
      "metadata": {
        "colab": {
          "base_uri": "https://localhost:8080/"
        },
        "id": "OqbnkGG6jRn5",
        "outputId": "5b6b302b-04d1-4710-b5e6-3ba397f21d4a"
      },
      "execution_count": 226,
      "outputs": [
        {
          "output_type": "execute_result",
          "data": {
            "text/plain": [
              "Lasso()"
            ]
          },
          "metadata": {},
          "execution_count": 226
        }
      ]
    },
    {
      "cell_type": "code",
      "source": [
        "lass.score(X_train,y_train)"
      ],
      "metadata": {
        "colab": {
          "base_uri": "https://localhost:8080/"
        },
        "id": "DxJxdDYDjTh3",
        "outputId": "752a8d2d-b4f5-4b9e-f648-0dd9e6b603d8"
      },
      "execution_count": 227,
      "outputs": [
        {
          "output_type": "execute_result",
          "data": {
            "text/plain": [
              "0.0"
            ]
          },
          "metadata": {},
          "execution_count": 227
        }
      ]
    },
    {
      "cell_type": "code",
      "source": [
        "params={'alpha':[0.01,0.001,0.002,0.003,0.04,0.04,0.5,1,2,3,10,50,100]}"
      ],
      "metadata": {
        "id": "ZiVRYo_4jmZD"
      },
      "execution_count": 228,
      "outputs": []
    },
    {
      "cell_type": "code",
      "source": [
        "tune_lass=GridSearchCV(lass, params, scoring='neg_mean_squared_error', cv=3, verbose=3)"
      ],
      "metadata": {
        "id": "rOo5Ohf9jmZD"
      },
      "execution_count": 229,
      "outputs": []
    },
    {
      "cell_type": "code",
      "source": [
        "tune_lass.fit(X_train,y_train)"
      ],
      "metadata": {
        "colab": {
          "base_uri": "https://localhost:8080/"
        },
        "outputId": "c0f8c8ef-f96f-4079-fe36-f276818ff501",
        "id": "SbpAoDo5jmZD"
      },
      "execution_count": 230,
      "outputs": [
        {
          "output_type": "stream",
          "name": "stdout",
          "text": [
            "Fitting 3 folds for each of 13 candidates, totalling 39 fits\n",
            "[CV 1/3] END .......................alpha=0.01;, score=-0.033 total time=   0.0s\n",
            "[CV 2/3] END .......................alpha=0.01;, score=-0.023 total time=   0.0s\n",
            "[CV 3/3] END .......................alpha=0.01;, score=-0.029 total time=   0.0s\n",
            "[CV 1/3] END ......................alpha=0.001;, score=-0.026 total time=   0.0s\n",
            "[CV 2/3] END ......................alpha=0.001;, score=-0.019 total time=   0.0s\n",
            "[CV 3/3] END ......................alpha=0.001;, score=-0.022 total time=   0.0s\n",
            "[CV 1/3] END ......................alpha=0.002;, score=-0.027 total time=   0.0s\n",
            "[CV 2/3] END ......................alpha=0.002;, score=-0.019 total time=   0.0s\n",
            "[CV 3/3] END ......................alpha=0.002;, score=-0.023 total time=   0.0s\n",
            "[CV 1/3] END ......................alpha=0.003;, score=-0.027 total time=   0.0s\n",
            "[CV 2/3] END ......................alpha=0.003;, score=-0.019 total time=   0.0s\n",
            "[CV 3/3] END ......................alpha=0.003;, score=-0.023 total time=   0.0s\n",
            "[CV 1/3] END .......................alpha=0.04;, score=-0.035 total time=   0.0s\n",
            "[CV 2/3] END .......................alpha=0.04;, score=-0.025 total time=   0.0s\n",
            "[CV 3/3] END .......................alpha=0.04;, score=-0.031 total time=   0.0s\n",
            "[CV 1/3] END .......................alpha=0.04;, score=-0.035 total time=   0.0s\n",
            "[CV 2/3] END .......................alpha=0.04;, score=-0.025 total time=   0.0s\n",
            "[CV 3/3] END .......................alpha=0.04;, score=-0.031 total time=   0.0s\n",
            "[CV 1/3] END ........................alpha=0.5;, score=-0.035 total time=   0.0s\n",
            "[CV 2/3] END ........................alpha=0.5;, score=-0.025 total time=   0.0s\n",
            "[CV 3/3] END ........................alpha=0.5;, score=-0.031 total time=   0.0s\n",
            "[CV 1/3] END ..........................alpha=1;, score=-0.035 total time=   0.0s\n",
            "[CV 2/3] END ..........................alpha=1;, score=-0.025 total time=   0.0s\n",
            "[CV 3/3] END ..........................alpha=1;, score=-0.031 total time=   0.0s\n",
            "[CV 1/3] END ..........................alpha=2;, score=-0.035 total time=   0.0s\n",
            "[CV 2/3] END ..........................alpha=2;, score=-0.025 total time=   0.0s\n",
            "[CV 3/3] END ..........................alpha=2;, score=-0.031 total time=   0.0s\n",
            "[CV 1/3] END ..........................alpha=3;, score=-0.035 total time=   0.0s\n",
            "[CV 2/3] END ..........................alpha=3;, score=-0.025 total time=   0.0s\n",
            "[CV 3/3] END ..........................alpha=3;, score=-0.031 total time=   0.0s\n",
            "[CV 1/3] END .........................alpha=10;, score=-0.035 total time=   0.0s\n",
            "[CV 2/3] END .........................alpha=10;, score=-0.025 total time=   0.0s\n",
            "[CV 3/3] END .........................alpha=10;, score=-0.031 total time=   0.0s\n",
            "[CV 1/3] END .........................alpha=50;, score=-0.035 total time=   0.0s\n",
            "[CV 2/3] END .........................alpha=50;, score=-0.025 total time=   0.0s\n",
            "[CV 3/3] END .........................alpha=50;, score=-0.031 total time=   0.0s\n",
            "[CV 1/3] END ........................alpha=100;, score=-0.035 total time=   0.0s\n",
            "[CV 2/3] END ........................alpha=100;, score=-0.025 total time=   0.0s\n",
            "[CV 3/3] END ........................alpha=100;, score=-0.031 total time=   0.0s\n"
          ]
        },
        {
          "output_type": "execute_result",
          "data": {
            "text/plain": [
              "GridSearchCV(cv=3, estimator=Lasso(),\n",
              "             param_grid={'alpha': [0.01, 0.001, 0.002, 0.003, 0.04, 0.04, 0.5,\n",
              "                                   1, 2, 3, 10, 50, 100]},\n",
              "             scoring='neg_mean_squared_error', verbose=3)"
            ]
          },
          "metadata": {},
          "execution_count": 230
        }
      ]
    },
    {
      "cell_type": "code",
      "source": [
        "tune_lass.best_params_"
      ],
      "metadata": {
        "colab": {
          "base_uri": "https://localhost:8080/"
        },
        "outputId": "b2bbfd33-87a4-4a99-a24c-9cd822fc868c",
        "id": "SdXUKu4lmEz2"
      },
      "execution_count": 231,
      "outputs": [
        {
          "output_type": "execute_result",
          "data": {
            "text/plain": [
              "{'alpha': 0.001}"
            ]
          },
          "metadata": {},
          "execution_count": 231
        }
      ]
    },
    {
      "cell_type": "code",
      "source": [
        "lass=Lasso(alpha=0.001)"
      ],
      "metadata": {
        "id": "DvxlzC1hmEz2"
      },
      "execution_count": 232,
      "outputs": []
    },
    {
      "cell_type": "code",
      "source": [
        "lass.fit(X_train,y_train)\n",
        "lass.score(X_train,y_train)"
      ],
      "metadata": {
        "colab": {
          "base_uri": "https://localhost:8080/"
        },
        "outputId": "fd03c3ac-9feb-4daf-89c3-fef45028c3d2",
        "id": "VcQA4LUrmEz3"
      },
      "execution_count": 233,
      "outputs": [
        {
          "output_type": "execute_result",
          "data": {
            "text/plain": [
              "0.2812885195429329"
            ]
          },
          "metadata": {},
          "execution_count": 233
        }
      ]
    },
    {
      "cell_type": "markdown",
      "source": [
        "# SVM"
      ],
      "metadata": {
        "id": "1frmULCqjwxX"
      }
    },
    {
      "cell_type": "code",
      "source": [
        "from sklearn.svm import SVR"
      ],
      "metadata": {
        "id": "EKP5IrYNjyYj"
      },
      "execution_count": 234,
      "outputs": []
    },
    {
      "cell_type": "code",
      "source": [
        "sv=SVR()"
      ],
      "metadata": {
        "id": "mfHAef4IkJIL"
      },
      "execution_count": 235,
      "outputs": []
    },
    {
      "cell_type": "code",
      "source": [
        "sv.fit(X_train,y_train)"
      ],
      "metadata": {
        "colab": {
          "base_uri": "https://localhost:8080/"
        },
        "id": "127Urtp4kK2R",
        "outputId": "fe78d8b3-a0ee-49f5-849a-2aad54f12fa9"
      },
      "execution_count": 236,
      "outputs": [
        {
          "output_type": "execute_result",
          "data": {
            "text/plain": [
              "SVR()"
            ]
          },
          "metadata": {},
          "execution_count": 236
        }
      ]
    },
    {
      "cell_type": "code",
      "source": [
        "sv.score(X_train,y_train)"
      ],
      "metadata": {
        "colab": {
          "base_uri": "https://localhost:8080/"
        },
        "id": "atAMv5vFj76Y",
        "outputId": "89b22c86-c97e-4756-8044-15232f0c096e"
      },
      "execution_count": 237,
      "outputs": [
        {
          "output_type": "execute_result",
          "data": {
            "text/plain": [
              "0.4587453900378071"
            ]
          },
          "metadata": {},
          "execution_count": 237
        }
      ]
    },
    {
      "cell_type": "code",
      "source": [
        "params={'kernel':['rbf'],\n",
        "        'gamma':[0.001,0.002,0.01,0.02,0.03,0.5,0.8,0.1,0.8,1,2,3,4,5,10,20,50,100],\n",
        "        'C':[0.001,0.002,0.01,0.02,0.03,0.5,0.8,0.1,0.8,1,2,3,5,10,20,40,50,100]}"
      ],
      "metadata": {
        "id": "LWOxhPWFj6XG"
      },
      "execution_count": 238,
      "outputs": []
    },
    {
      "cell_type": "code",
      "source": [
        "tuned_svr=GridSearchCV(sv, params, scoring='neg_mean_squared_error', verbose=3, cv=3, n_jobs=-1)"
      ],
      "metadata": {
        "id": "ulbKYKLlk93C"
      },
      "execution_count": 239,
      "outputs": []
    },
    {
      "cell_type": "code",
      "source": [
        "tuned_svr.fit(X_train,y_train)"
      ],
      "metadata": {
        "colab": {
          "base_uri": "https://localhost:8080/"
        },
        "id": "xaZW0EXSlPRZ",
        "outputId": "6a63aeb3-0747-429d-f42e-bd3e19bbc9e8"
      },
      "execution_count": 240,
      "outputs": [
        {
          "output_type": "stream",
          "name": "stdout",
          "text": [
            "Fitting 3 folds for each of 324 candidates, totalling 972 fits\n"
          ]
        },
        {
          "output_type": "execute_result",
          "data": {
            "text/plain": [
              "GridSearchCV(cv=3, estimator=SVR(), n_jobs=-1,\n",
              "             param_grid={'C': [0.001, 0.002, 0.01, 0.02, 0.03, 0.5, 0.8, 0.1,\n",
              "                               0.8, 1, 2, 3, 5, 10, 20, 40, 50, 100],\n",
              "                         'gamma': [0.001, 0.002, 0.01, 0.02, 0.03, 0.5, 0.8,\n",
              "                                   0.1, 0.8, 1, 2, 3, 4, 5, 10, 20, 50, 100],\n",
              "                         'kernel': ['rbf']},\n",
              "             scoring='neg_mean_squared_error', verbose=3)"
            ]
          },
          "metadata": {},
          "execution_count": 240
        }
      ]
    },
    {
      "cell_type": "code",
      "source": [
        "tuned_svr.best_params_"
      ],
      "metadata": {
        "colab": {
          "base_uri": "https://localhost:8080/"
        },
        "id": "dD7iblLglSzF",
        "outputId": "000569dc-afb8-49d7-9f20-10f84d22e948"
      },
      "execution_count": 241,
      "outputs": [
        {
          "output_type": "execute_result",
          "data": {
            "text/plain": [
              "{'C': 1, 'gamma': 0.1, 'kernel': 'rbf'}"
            ]
          },
          "metadata": {},
          "execution_count": 241
        }
      ]
    },
    {
      "cell_type": "code",
      "source": [
        "sv=SVR(gamma=0.1, C=1, kernel='rbf')"
      ],
      "metadata": {
        "id": "moqbZ7UNmNuo"
      },
      "execution_count": 242,
      "outputs": []
    },
    {
      "cell_type": "code",
      "source": [
        "sv.fit(X_train,y_train)\n",
        "sv.score(X_train,y_train)"
      ],
      "metadata": {
        "colab": {
          "base_uri": "https://localhost:8080/"
        },
        "id": "80Vms08bmTJ1",
        "outputId": "d5f2cff2-849a-4fab-9e36-66a21c215824"
      },
      "execution_count": 243,
      "outputs": [
        {
          "output_type": "execute_result",
          "data": {
            "text/plain": [
              "0.3450341684776236"
            ]
          },
          "metadata": {},
          "execution_count": 243
        }
      ]
    },
    {
      "cell_type": "markdown",
      "source": [
        "# Decision Tree"
      ],
      "metadata": {
        "id": "mkaN2_TvrRSq"
      }
    },
    {
      "cell_type": "code",
      "source": [
        "from sklearn.tree import DecisionTreeRegressor"
      ],
      "metadata": {
        "id": "L6_POQBDmXRR"
      },
      "execution_count": 244,
      "outputs": []
    },
    {
      "cell_type": "code",
      "source": [
        "dt=DecisionTreeRegressor()"
      ],
      "metadata": {
        "id": "R3fzxM1RreZi"
      },
      "execution_count": 245,
      "outputs": []
    },
    {
      "cell_type": "code",
      "source": [
        "dt.fit(X_train,y_train)"
      ],
      "metadata": {
        "colab": {
          "base_uri": "https://localhost:8080/"
        },
        "id": "G83v0t4Jrfxj",
        "outputId": "399fa2f4-11a7-40e4-a84e-af6b48731dd7"
      },
      "execution_count": 246,
      "outputs": [
        {
          "output_type": "execute_result",
          "data": {
            "text/plain": [
              "DecisionTreeRegressor()"
            ]
          },
          "metadata": {},
          "execution_count": 246
        }
      ]
    },
    {
      "cell_type": "code",
      "source": [
        "dt.score(X_train,y_train) #it will lead to overfitting problem, as max depth is 'None'"
      ],
      "metadata": {
        "colab": {
          "base_uri": "https://localhost:8080/"
        },
        "id": "JQbHWtEeriVL",
        "outputId": "46002679-c010-4fc6-d82d-0aab0f1a1289"
      },
      "execution_count": 247,
      "outputs": [
        {
          "output_type": "execute_result",
          "data": {
            "text/plain": [
              "1.0"
            ]
          },
          "metadata": {},
          "execution_count": 247
        }
      ]
    },
    {
      "cell_type": "code",
      "source": [
        "params={'max_depth':[1,2,3,5,6,7,8,9,10,11,12,13,14,15],\n",
        "        'min_samples_split':[1,2,4,5,6,7,8,9,10,11,12,14,16,20,40,50,60,70,80,100],\n",
        "        'max_leaf_nodes':[None,5,10,20,30,40,50,60,90,100,120]}"
      ],
      "metadata": {
        "id": "NbENJfuIrgvf"
      },
      "execution_count": 248,
      "outputs": []
    },
    {
      "cell_type": "code",
      "source": [
        "tuned_dt=GridSearchCV(dt,params, scoring='neg_mean_squared_error', verbose=3, cv=3, n_jobs=-1)"
      ],
      "metadata": {
        "id": "c78gY6ejs8BU"
      },
      "execution_count": 249,
      "outputs": []
    },
    {
      "cell_type": "code",
      "source": [
        "tuned_dt.fit(X_train,y_train)"
      ],
      "metadata": {
        "colab": {
          "base_uri": "https://localhost:8080/"
        },
        "id": "gFcR3mzdteUe",
        "outputId": "6c4899d3-2168-425d-8715-2411e716ffbc"
      },
      "execution_count": 250,
      "outputs": [
        {
          "output_type": "stream",
          "name": "stdout",
          "text": [
            "Fitting 3 folds for each of 3080 candidates, totalling 9240 fits\n"
          ]
        },
        {
          "output_type": "execute_result",
          "data": {
            "text/plain": [
              "GridSearchCV(cv=3, estimator=DecisionTreeRegressor(), n_jobs=-1,\n",
              "             param_grid={'max_depth': [1, 2, 3, 5, 6, 7, 8, 9, 10, 11, 12, 13,\n",
              "                                       14, 15],\n",
              "                         'max_leaf_nodes': [None, 5, 10, 20, 30, 40, 50, 60, 90,\n",
              "                                            100, 120],\n",
              "                         'min_samples_split': [1, 2, 4, 5, 6, 7, 8, 9, 10, 11,\n",
              "                                               12, 14, 16, 20, 40, 50, 60, 70,\n",
              "                                               80, 100]},\n",
              "             scoring='neg_mean_squared_error', verbose=3)"
            ]
          },
          "metadata": {},
          "execution_count": 250
        }
      ]
    },
    {
      "cell_type": "code",
      "source": [
        "tuned_dt.best_params_"
      ],
      "metadata": {
        "colab": {
          "base_uri": "https://localhost:8080/"
        },
        "id": "xlwZw0VMtf4Z",
        "outputId": "233c5965-5ddf-4cdc-e12a-b859ee129e03"
      },
      "execution_count": 251,
      "outputs": [
        {
          "output_type": "execute_result",
          "data": {
            "text/plain": [
              "{'max_depth': 5, 'max_leaf_nodes': 10, 'min_samples_split': 2}"
            ]
          },
          "metadata": {},
          "execution_count": 251
        }
      ]
    },
    {
      "cell_type": "code",
      "source": [
        "dt=DecisionTreeRegressor(max_depth=5, max_leaf_nodes=10,min_samples_split=2)"
      ],
      "metadata": {
        "id": "VtgUa53luSbe"
      },
      "execution_count": 266,
      "outputs": []
    },
    {
      "cell_type": "code",
      "source": [
        "dt.fit(X_train,y_train)"
      ],
      "metadata": {
        "colab": {
          "base_uri": "https://localhost:8080/"
        },
        "id": "0CaBMM2suZeD",
        "outputId": "67ac02f5-bcb5-46b8-d438-052af1f37469"
      },
      "execution_count": 267,
      "outputs": [
        {
          "output_type": "execute_result",
          "data": {
            "text/plain": [
              "DecisionTreeRegressor(max_depth=5, max_leaf_nodes=10)"
            ]
          },
          "metadata": {},
          "execution_count": 267
        }
      ]
    },
    {
      "cell_type": "code",
      "source": [
        "dt.score(X_train,y_train)"
      ],
      "metadata": {
        "colab": {
          "base_uri": "https://localhost:8080/"
        },
        "id": "h3xhaJflub7d",
        "outputId": "ced92416-fca0-43ab-af05-1e33ba458f40"
      },
      "execution_count": 268,
      "outputs": [
        {
          "output_type": "execute_result",
          "data": {
            "text/plain": [
              "0.41000046075634555"
            ]
          },
          "metadata": {},
          "execution_count": 268
        }
      ]
    },
    {
      "cell_type": "code",
      "source": [
        "dt_pred=dt.predict(X_test)"
      ],
      "metadata": {
        "id": "XgRxr94GwfXe"
      },
      "execution_count": 269,
      "outputs": []
    },
    {
      "cell_type": "code",
      "source": [
        "errors= y_test-dt_pred\n",
        "sse=np.square(errors).sum()\n",
        "\n",
        "mae=mean_absolute_error(y_test,dt_pred)\n",
        "\n",
        "mse=mean_squared_error(y_test,dt_pred)\n",
        "\n",
        "r2=r2_score(y_test,dt_pred)\n",
        "\n",
        "adjr2= 1- ((1-r2) * (X.shape[0]-1) / (X.shape[0] - X.shape[1] - 1))\n",
        "\n",
        "print('Sum of Squared Errors: ', sse, '\\nMean absolute error: ', mae, '\\nRoot Mean Squared Error: ', rmse, '\\nR2 score: ', r2, '\\nAdjusted R2: ', adjr2)"
      ],
      "metadata": {
        "colab": {
          "base_uri": "https://localhost:8080/"
        },
        "id": "NvV9nNXEAkRU",
        "outputId": "2b72dd0a-4f20-414c-9e32-30f1cde53813"
      },
      "execution_count": 270,
      "outputs": [
        {
          "output_type": "stream",
          "name": "stdout",
          "text": [
            "Sum of Squared Errors:  5.859521621978417 \n",
            "Mean absolute error:  0.10263854508731764 \n",
            "Root Mean Squared Error:  0.020170452617972096 \n",
            "R2 score:  0.3632395968042478 \n",
            "Adjusted R2:  0.3556462018768709\n"
          ]
        }
      ]
    },
    {
      "cell_type": "markdown",
      "source": [
        "# **Random Forest**"
      ],
      "metadata": {
        "id": "LF4WOO-nBXX3"
      }
    },
    {
      "cell_type": "code",
      "source": [
        "from sklearn.ensemble import RandomForestRegressor"
      ],
      "metadata": {
        "id": "qqvWzsnhBY2i"
      },
      "execution_count": 271,
      "outputs": []
    },
    {
      "cell_type": "code",
      "source": [
        "rf=RandomForestRegressor()"
      ],
      "metadata": {
        "id": "eBYGNm0rBfRS"
      },
      "execution_count": 272,
      "outputs": []
    },
    {
      "cell_type": "code",
      "source": [
        "rf.fit(X_train,y_train)\n",
        "rf.score(X_train,y_train)"
      ],
      "metadata": {
        "colab": {
          "base_uri": "https://localhost:8080/"
        },
        "id": "gk_NSnAkBhVc",
        "outputId": "9267461c-4d4f-4b7d-e071-e47b7f7ae5cd"
      },
      "execution_count": 273,
      "outputs": [
        {
          "output_type": "execute_result",
          "data": {
            "text/plain": [
              "0.9151594477617545"
            ]
          },
          "metadata": {},
          "execution_count": 273
        }
      ]
    },
    {
      "cell_type": "code",
      "source": [
        "rf_pred=rf.predict(X_test)"
      ],
      "metadata": {
        "id": "D_c4LxYXBms5"
      },
      "execution_count": 274,
      "outputs": []
    },
    {
      "cell_type": "code",
      "source": [
        "errors= y_test-rf_pred\n",
        "sse=np.square(errors).sum()\n",
        "\n",
        "mae=mean_absolute_error(y_test,rf_pred)\n",
        "\n",
        "mse=mean_squared_error(y_test,rf_pred)\n",
        "\n",
        "r2=r2_score(y_test,rf_pred)\n",
        "\n",
        "adjr2= 1- ((1-r2) * (X.shape[0]-1) / (X.shape[0] - X.shape[1] - 1))\n",
        "\n",
        "print('Sum of Squared Errors: ', sse, '\\nMean absolute error: ', mae, '\\nRoot Mean Squared Error: ', rmse, '\\nR2 score: ', r2, '\\nAdjusted R2: ', adjr2)"
      ],
      "metadata": {
        "colab": {
          "base_uri": "https://localhost:8080/"
        },
        "id": "IndUTVIaBtWP",
        "outputId": "5dc8e52c-ad45-4e6b-a3f5-67104e582b52"
      },
      "execution_count": 275,
      "outputs": [
        {
          "output_type": "stream",
          "name": "stdout",
          "text": [
            "Sum of Squared Errors:  5.585127232968154 \n",
            "Mean absolute error:  0.09047577129352354 \n",
            "Root Mean Squared Error:  0.020170452617972096 \n",
            "R2 score:  0.3930583248597018 \n",
            "Adjusted R2:  0.38582051953434904\n"
          ]
        }
      ]
    },
    {
      "cell_type": "markdown",
      "source": [
        "# This again is an overfitting problem"
      ],
      "metadata": {
        "id": "GNcmWrOCB18m"
      }
    },
    {
      "cell_type": "code",
      "source": [
        "params={'max_depth':[1,2,3,5,6,7,8,9,10,11,12,13,14,15],\n",
        "        'min_samples_split':[1,2,4,5,6,7,8,9,10,11,12,14,16,20,40,50,60,70,80,100],\n",
        "        'max_leaf_nodes':[None,5,6,7,8,9,10,11,12,36,20,30,40,50,60,90,100,120],\n",
        "        'n_estimators':[100]}"
      ],
      "metadata": {
        "id": "rZoAI3QsB4om"
      },
      "execution_count": 276,
      "outputs": []
    },
    {
      "cell_type": "code",
      "source": [
        "from sklearn.model_selection import RandomizedSearchCV"
      ],
      "metadata": {
        "id": "RLsYnGMVHkE3"
      },
      "execution_count": 277,
      "outputs": []
    },
    {
      "cell_type": "code",
      "source": [
        "tuned_rf=RandomizedSearchCV(rf, params, scoring='neg_mean_squared_error', verbose=3, cv=4, n_jobs=-1, n_iter=500)"
      ],
      "metadata": {
        "id": "H87trbFWCdbq"
      },
      "execution_count": 278,
      "outputs": []
    },
    {
      "cell_type": "code",
      "source": [
        "tuned_rf.fit(X_train,y_train)"
      ],
      "metadata": {
        "colab": {
          "base_uri": "https://localhost:8080/"
        },
        "id": "ZlISYNyaCwlu",
        "outputId": "505c9ed7-2294-4c94-e501-f3624ae12c61"
      },
      "execution_count": 279,
      "outputs": [
        {
          "output_type": "stream",
          "name": "stdout",
          "text": [
            "Fitting 4 folds for each of 500 candidates, totalling 2000 fits\n"
          ]
        },
        {
          "output_type": "execute_result",
          "data": {
            "text/plain": [
              "RandomizedSearchCV(cv=4, estimator=RandomForestRegressor(), n_iter=500,\n",
              "                   n_jobs=-1,\n",
              "                   param_distributions={'max_depth': [1, 2, 3, 5, 6, 7, 8, 9,\n",
              "                                                      10, 11, 12, 13, 14, 15],\n",
              "                                        'max_leaf_nodes': [None, 5, 6, 7, 8, 9,\n",
              "                                                           10, 11, 12, 36, 20,\n",
              "                                                           30, 40, 50, 60, 90,\n",
              "                                                           100, 120],\n",
              "                                        'min_samples_split': [1, 2, 4, 5, 6, 7,\n",
              "                                                              8, 9, 10, 11, 12,\n",
              "                                                              14, 16, 20, 40,\n",
              "                                                              50, 60, 70, 80,\n",
              "                                                              100],\n",
              "                                        'n_estimators': [100]},\n",
              "                   scoring='neg_mean_squared_error', verbose=3)"
            ]
          },
          "metadata": {},
          "execution_count": 279
        }
      ]
    },
    {
      "cell_type": "code",
      "source": [
        "tuned_rf.best_params_"
      ],
      "metadata": {
        "colab": {
          "base_uri": "https://localhost:8080/"
        },
        "id": "uiqTHGMmCzCd",
        "outputId": "13c528c8-2f34-4766-cbb2-c14c4c7b59cb"
      },
      "execution_count": 280,
      "outputs": [
        {
          "output_type": "execute_result",
          "data": {
            "text/plain": [
              "{'max_depth': 15,\n",
              " 'max_leaf_nodes': 120,\n",
              " 'min_samples_split': 16,\n",
              " 'n_estimators': 100}"
            ]
          },
          "metadata": {},
          "execution_count": 280
        }
      ]
    },
    {
      "cell_type": "code",
      "source": [
        "params={'max_depth':[10,12,15,17,19],\n",
        "        'min_samples_split':[10,12,14,16,18,20],\n",
        "        'max_leaf_nodes':[90,100,120,140,160],\n",
        "        'n_estimators':[100]}"
      ],
      "metadata": {
        "id": "rwAtgTQxJFK9"
      },
      "execution_count": 281,
      "outputs": []
    },
    {
      "cell_type": "code",
      "source": [
        "tuned_rf=GridSearchCV(rf, params, scoring='neg_mean_squared_error', verbose=3, cv=4, n_jobs=-1)"
      ],
      "metadata": {
        "id": "w2J3Y8QoJRuN"
      },
      "execution_count": 282,
      "outputs": []
    },
    {
      "cell_type": "code",
      "source": [
        "tuned_rf.fit(X_train,y_train)"
      ],
      "metadata": {
        "colab": {
          "base_uri": "https://localhost:8080/"
        },
        "id": "deJJpgIlJZm4",
        "outputId": "fdfc1930-2581-4b48-b861-613205cf78dc"
      },
      "execution_count": 283,
      "outputs": [
        {
          "output_type": "stream",
          "name": "stdout",
          "text": [
            "Fitting 4 folds for each of 150 candidates, totalling 600 fits\n"
          ]
        },
        {
          "output_type": "execute_result",
          "data": {
            "text/plain": [
              "GridSearchCV(cv=4, estimator=RandomForestRegressor(), n_jobs=-1,\n",
              "             param_grid={'max_depth': [10, 12, 15, 17, 19],\n",
              "                         'max_leaf_nodes': [90, 100, 120, 140, 160],\n",
              "                         'min_samples_split': [10, 12, 14, 16, 18, 20],\n",
              "                         'n_estimators': [100]},\n",
              "             scoring='neg_mean_squared_error', verbose=3)"
            ]
          },
          "metadata": {},
          "execution_count": 283
        }
      ]
    },
    {
      "cell_type": "code",
      "source": [
        "tuned_rf.best_params_"
      ],
      "metadata": {
        "colab": {
          "base_uri": "https://localhost:8080/"
        },
        "id": "2nMPo6LhJxeV",
        "outputId": "98a9b8f3-bd63-496a-e892-28e55f03a777"
      },
      "execution_count": 284,
      "outputs": [
        {
          "output_type": "execute_result",
          "data": {
            "text/plain": [
              "{'max_depth': 12,\n",
              " 'max_leaf_nodes': 140,\n",
              " 'min_samples_split': 20,\n",
              " 'n_estimators': 100}"
            ]
          },
          "metadata": {},
          "execution_count": 284
        }
      ]
    },
    {
      "cell_type": "code",
      "source": [
        "rf=RandomForestRegressor(max_depth=12,max_leaf_nodes=140,min_samples_split=20,n_estimators=100)"
      ],
      "metadata": {
        "id": "NSMeXh_BJytD"
      },
      "execution_count": 285,
      "outputs": []
    },
    {
      "cell_type": "code",
      "source": [
        "rf.fit(X_train,y_train)\n",
        "rf.score(X_train,y_train)"
      ],
      "metadata": {
        "colab": {
          "base_uri": "https://localhost:8080/"
        },
        "id": "HlbJv3oZJ9AA",
        "outputId": "78593b7b-6f2f-4930-9493-4c3b9249b5b7"
      },
      "execution_count": 286,
      "outputs": [
        {
          "output_type": "execute_result",
          "data": {
            "text/plain": [
              "0.6445504414876724"
            ]
          },
          "metadata": {},
          "execution_count": 286
        }
      ]
    },
    {
      "cell_type": "code",
      "source": [
        "rf_pred=rf.predict(X_test)"
      ],
      "metadata": {
        "id": "SOAAjYa2KIdW"
      },
      "execution_count": 287,
      "outputs": []
    },
    {
      "cell_type": "code",
      "source": [
        "errors= y_test-rf_pred\n",
        "sse=np.square(errors).sum()\n",
        "\n",
        "mae=mean_absolute_error(y_test,rf_pred)\n",
        "\n",
        "mse=mean_squared_error(y_test,rf_pred)\n",
        "\n",
        "r2=r2_score(y_test,rf_pred)\n",
        "\n",
        "adjr2= 1- ((1-r2) * (X.shape[0]-1) / (X.shape[0] - X.shape[1] - 1))\n",
        "\n",
        "print('Sum of Squared Errors: ', sse, '\\nMean absolute error: ', mae, '\\nRoot Mean Squared Error: ', rmse, '\\nR2 score: ', r2, '\\nAdjusted R2: ', adjr2)"
      ],
      "metadata": {
        "colab": {
          "base_uri": "https://localhost:8080/"
        },
        "outputId": "d135f445-c1f3-4ef4-ecd5-bf6f55e4f125",
        "id": "DcvFurA3KIdX"
      },
      "execution_count": 288,
      "outputs": [
        {
          "output_type": "stream",
          "name": "stdout",
          "text": [
            "Sum of Squared Errors:  5.087544485748752 \n",
            "Mean absolute error:  0.08892075421703559 \n",
            "Root Mean Squared Error:  0.020170452617972096 \n",
            "R2 score:  0.4471311675221883 \n",
            "Adjusted R2:  0.44053818314851756\n"
          ]
        }
      ]
    }
  ]
}